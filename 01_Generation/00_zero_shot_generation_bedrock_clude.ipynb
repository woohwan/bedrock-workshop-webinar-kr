{
 "cells": [
  {
   "cell_type": "code",
   "execution_count": 1,
   "metadata": {},
   "outputs": [],
   "source": [
    "%load_ext autoreload\n",
    "%autoreload 2"
   ]
  },
  {
   "cell_type": "code",
   "execution_count": 3,
   "metadata": {},
   "outputs": [],
   "source": [
    "import sys, os\n",
    "module_path = \"..\"\n",
    "sys.path.append(os.path.abspath(module_path))"
   ]
  },
  {
   "cell_type": "code",
   "execution_count": 5,
   "metadata": {},
   "outputs": [
    {
     "name": "stdout",
     "output_type": "stream",
     "text": [
      "Create new client\n",
      "  Using region: us-east-1\n",
      "  Using profile: None\n",
      "boto3 Bedrock client successfully created!\n",
      "bedrock-runtime(https://bedrock-runtime.us-east-1.amazonaws.com)\n",
      "\u001b[32m\n",
      "== FM Lists ==\u001b[0m\n",
      "{'Claude-Instant-V1': 'anthropic.claude-instant-v1',\n",
      " 'Claude-V1': 'anthropic.claude-v1',\n",
      " 'Claude-V2': 'anthropic.claude-v2',\n",
      " 'Command': 'cohere.command-text-v14',\n",
      " 'Jurassic-2-Mid': 'ai21.j2-mid-v1',\n",
      " 'Jurassic-2-Ultra': 'ai21.j2-ultra-v1',\n",
      " 'Titan-Embeddings-G1': 'amazon.titan-embed-text-v1',\n",
      " 'Titan-Text-G1': 'TBD'}\n"
     ]
    }
   ],
   "source": [
    "import json\n",
    "import boto3\n",
    "from pprint import pprint\n",
    "from termcolor import colored\n",
    "from utils import bedrock, print_ww\n",
    "from utils.bedrock import bedrock_info\n",
    "\n",
    "os.environ[\"AWS_DEFAULT_REGION\"] = \"us-east-1\"\n",
    "\n",
    "boto3_bedrock = bedrock.get_bedrock_client(\n",
    "  assumed_role=os.environ.get(\"BEDROCK_ASSUME_ROLE\", None),\n",
    "  endpoint_url=os.environ.get(\"BEDROCK_ENDPOINT_URL\", None),\n",
    "  region=os.environ.get(\"AWS_DEFAULT_REGION\", None)\n",
    ")\n",
    "\n",
    "print(colored(\"\\n== FM Lists ==\",\"green\"))\n",
    "pprint(bedrock_info.get_list_fm_models())"
   ]
  },
  {
   "cell_type": "code",
   "execution_count": 8,
   "metadata": {},
   "outputs": [
    {
     "name": "stdout",
     "output_type": "stream",
     "text": [
      " Hello! Nice to meet you.\n"
     ]
    }
   ],
   "source": [
    "import boto3\n",
    "import json\n",
    "\n",
    "modelId = \"anthropic.claude-v2\"\n",
    "accept = \"application/json\"\n",
    "contentType = \"application/json\"\n",
    "\n",
    "prompt = \"Hello\"\n",
    "claude_prompt = f\"\\n\\nHuman:{prompt}\\n\\nAssistant:\"\n",
    "body = json.dumps({\n",
    "  \"prompt\": claude_prompt,\n",
    "  \"temperature\": 0.1,\n",
    "  \"top_p\": 1,\n",
    "  \"top_k\": 250,\n",
    "  \"max_tokens_to_sample\": 200,\n",
    "  \"stop_sequences\": [\"\\n\\nHuman:\"]\n",
    "})\n",
    "\n",
    "response = boto3_bedrock.invoke_model(body=body, modelId=modelId, accept=accept, contentType=contentType)\n",
    "response_body = json.loads(response.get('body').read())\n",
    "\n",
    "print(response_body.get('completion'))"
   ]
  },
  {
   "cell_type": "markdown",
   "metadata": {},
   "source": [
    "### langchain with Bedrock"
   ]
  },
  {
   "cell_type": "code",
   "execution_count": 9,
   "metadata": {},
   "outputs": [],
   "source": [
    "prompt = \"삼성전자의 2022년 매출은 얼마인가요?\"\n",
    "claude_prompt = f\"\\n\\nHuman:{prompt}\\n\\nAssistant:\""
   ]
  },
  {
   "cell_type": "code",
   "execution_count": 11,
   "metadata": {},
   "outputs": [
    {
     "data": {
      "text/plain": [
       "Bedrock(client=<botocore.client.BedrockRuntime object at 0x7f9822fbc040>, model_id='anthropic.claude-v2', model_kwargs={'prompt': '\\n\\nHuman:삼성전자의 2022년 매출은 얼마인가요?\\n\\nAssistant:', 'max_tokens_to_sample': 512, 'stop_sequences': ['\\n\\nHuman'], 'temperature': 0, 'top_p': 0.999})"
      ]
     },
     "execution_count": 11,
     "metadata": {},
     "output_type": "execute_result"
    }
   ],
   "source": [
    "from langchain.llms import Bedrock\n",
    "\n",
    "textgen_llm = Bedrock(\n",
    "  model_id=bedrock_info.get_model_id(model_name='Claude-V2'),\n",
    "  client=boto3_bedrock,\n",
    "  model_kwargs={\n",
    "    \"prompt\": claude_prompt,\n",
    "    \"max_tokens_to_sample\": 512,\n",
    "    \"stop_sequences\": [\"\\n\\nHuman\"],\n",
    "    \"temperature\": 0,\n",
    "    \"top_p\": 0.999,\n",
    "  }\n",
    ")\n",
    "textgen_llm"
   ]
  },
  {
   "cell_type": "code",
   "execution_count": 12,
   "metadata": {},
   "outputs": [
    {
     "name": "stdout",
     "output_type": "stream",
     "text": [
      " 삼성전자의 2022년 연간 매출은 아직 정확하게 발표되지 않았습니다. 삼성전자는 매 분기마다 실적발표를 통해 분기별 매출을 공개하고 있습니다. \n",
      "\n",
      "2022년도에 대한 삼성전자의 매출 현황은 다음과 같습니다:\n",
      "\n",
      "- 2022년 1분기 매출: 77조원 \n",
      "- 2022년 2분기 매출: 77조원\n",
      "- 2022년 3분기 매출: 76조원\n",
      "\n",
      "따라서 2022년 1-3분기 누적 매출은 약 230조원입니다. \n",
      "\n",
      "삼성전자의 2021년 연간 매출이 279조원이었다는 점을 감안하면, 2022년 연간 매출은 이보다 다소 증가한 280-290조원 수준일 것으로 예상해볼 수 있습니다. 하지만 정확한 2022년 연간 실적은 내년 1월 말에 발표될 2022년 4분기 실적과 함께 알 수 있을 것입니다.\n"
     ]
    }
   ],
   "source": [
    "response = textgen_llm(claude_prompt)\n",
    "print(response)"
   ]
  },
  {
   "cell_type": "markdown",
   "metadata": {},
   "source": [
    "### langchain with BedRock을 Streaming 방식으로"
   ]
  },
  {
   "cell_type": "code",
   "execution_count": 13,
   "metadata": {},
   "outputs": [],
   "source": [
    "prompt = \"삼성전자의 Knox 어카운트 무엇인가요?\"\n",
    "claude_prompt = f\"\\n\\nHuman:{prompt}\\n\\nAssistant:\""
   ]
  },
  {
   "cell_type": "code",
   "execution_count": 19,
   "metadata": {},
   "outputs": [
    {
     "data": {
      "text/plain": [
       "Bedrock(client=<botocore.client.BedrockRuntime object at 0x7f9822fbc040>, model_id='anthropic.claude-v2', model_kwargs={'prompt': '\\n\\nHuman:삼성전자의 2022년 매출은 얼마인가요?\\n\\nAssistant:', 'max_tokens_to_sample': 512, 'stop_sequences': ['\\n\\nHuman'], 'temperature': 0, 'top_p': 0.999})"
      ]
     },
     "execution_count": 19,
     "metadata": {},
     "output_type": "execute_result"
    }
   ],
   "source": [
    "from langchain.llms import Bedrock\n",
    "from langchain.callbacks.streaming_stdout import StreamingStdOutCallbackHandler\n",
    "\n",
    "textgen_lim = Bedrock(\n",
    "  model_id = bedrock_info.get_model_id(model_name='Claude-V2'),\n",
    "  client=boto3_bedrock,\n",
    "  model_kwargs={\n",
    "    \"prompt\": claude_prompt,\n",
    "    \"max_tokens_to_sample\": 512,\n",
    "    \"stop_sequences\": [\"\\n\\nHuman\"],\n",
    "    \"temperature\": 0,\n",
    "    \"top_p\": 0.999,\n",
    "  },\n",
    "  streaming=True,\n",
    "  callbacks=[StreamingStdOutCallbackHandler()]\n",
    ")\n",
    "textgen_llm"
   ]
  },
  {
   "cell_type": "code",
   "execution_count": 20,
   "metadata": {},
   "outputs": [
    {
     "name": "stdout",
     "output_type": "stream",
     "text": [
      "Our prompt has 25 tokens\n"
     ]
    }
   ],
   "source": [
    "num_tokens = textgen_lim.get_num_tokens(prompt)\n",
    "print(f\"Our prompt has {num_tokens} tokens\")"
   ]
  },
  {
   "cell_type": "code",
   "execution_count": 21,
   "metadata": {},
   "outputs": [
    {
     "name": "stdout",
     "output_type": "stream",
     "text": [
      " 삼성전자의 Knox는 모바일 기기의 보안과 관리를 위한 플랫폼입니다. \n",
      "\n",
      "Knox의 주요 기능은 다음과 같습니다:\n",
      "\n",
      "- Knox Workspace - 업무와 개인 용도로 기기를 분리하여 사용할 수 있습니다. \n",
      "\n",
      "- Knox Configure - 기업은 Knox를 통해 기기를 원격으로 설정, 모니터링, 제어할 수 있습니다.\n",
      "\n",
      "- Knox E-FOTA - 기업은 소프트웨어 업데이트를 원격으로 푸시할 수 있습니다.\n",
      "\n",
      "- Knox Platform for Enterprise - 기업 앱과 데이터를 보호하기 위한 보안 플랫폼입니다.\n",
      "\n",
      "Knox 어카운트는 Knox 기능을 사용하기 위해 필요한 삼성 계정입니다. 개인용과 업무용으로 구분되며, 업무용 Knox 어카운트는 기업 관리자가 부여합니다. Knox 어카운트를 통해 기기와 데이터를 안전하게 관리할 수 있습니다."
     ]
    }
   ],
   "source": [
    "response = textgen_lim(claude_prompt)"
   ]
  },
  {
   "cell_type": "code",
   "execution_count": 22,
   "metadata": {},
   "outputs": [
    {
     "name": "stdout",
     "output_type": "stream",
     "text": [
      " 삼성전자의 Knox는 모바일 기기의 보안과 관리를 위한 플랫폼입니다. \n",
      "\n",
      "Knox의 주요 기능은 다음과 같습니다:\n",
      "\n",
      "- Knox Workspace - 업무와 개인 용도로 기기를 분리하여 사용할 수 있습니다. \n",
      "\n",
      "- Knox Configure - 기업은 Knox를 통해 기기를 원격으로 설정, 모니터링, 제어할 수 있습니다.\n",
      "\n",
      "- Knox E-FOTA - 기업은 소프트웨어 업데이트를 원격으로 푸시할 수 있습니다.\n",
      "\n",
      "- Knox Platform for Enterprise - 기업 앱과 데이터를 보호하기 위한 보안 플랫폼입니다.\n",
      "\n",
      "Knox 어카운트는 Knox 기능을 사용하기 위해 필요한 삼성 계정입니다. 개인용과 업무용으로 구분되며, 업무용 Knox 어카운트는 기업 관리자가 부여합니다. Knox 어카운트를 통해 기기와 데이터를 안전하게 관리할 수 있습니다.\n"
     ]
    }
   ],
   "source": [
    "print(response)"
   ]
  },
  {
   "cell_type": "code",
   "execution_count": null,
   "metadata": {},
   "outputs": [],
   "source": []
  }
 ],
 "metadata": {
  "kernelspec": {
   "display_name": "bedrock",
   "language": "python",
   "name": "python3"
  },
  "language_info": {
   "codemirror_mode": {
    "name": "ipython",
    "version": 3
   },
   "file_extension": ".py",
   "mimetype": "text/x-python",
   "name": "python",
   "nbconvert_exporter": "python",
   "pygments_lexer": "ipython3",
   "version": "3.10.13"
  }
 },
 "nbformat": 4,
 "nbformat_minor": 2
}
