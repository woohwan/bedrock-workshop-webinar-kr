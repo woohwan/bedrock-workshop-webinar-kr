{
 "cells": [
  {
   "cell_type": "code",
   "execution_count": 1,
   "metadata": {},
   "outputs": [],
   "source": [
    "%load_ext autoreload\n",
    "%autoreload 2\n",
    "\n",
    "import os\n",
    "import sys\n",
    "\n",
    "module_path = \"..\"\n",
    "sys.path.append(os.path.abspath(module_path))"
   ]
  },
  {
   "cell_type": "markdown",
   "metadata": {},
   "source": [
    "1. Bedrock Client 생성"
   ]
  },
  {
   "cell_type": "code",
   "execution_count": 3,
   "metadata": {},
   "outputs": [
    {
     "name": "stdout",
     "output_type": "stream",
     "text": [
      "Create new client\n",
      "  Using region: us-east-1\n",
      "  Using profile: None\n",
      "boto3 Bedrock client successfully created!\n",
      "bedrock-runtime(https://bedrock-runtime.us-east-1.amazonaws.com)\n"
     ]
    }
   ],
   "source": [
    "import json\n",
    "from utils import bedrock\n",
    "\n",
    "os.environ[\"AWS_DEFAULT_REGION\"] = \"us-east-1\"\n",
    "\n",
    "boto3_bedrock_cli = bedrock.get_bedrock_client(\n",
    "  assumed_role= os.environ.get(\"BEDROCK_ASSUME_ROLE\", None),\n",
    "  endpoint_url= os.environ.get(\"BEDROCK_ENDPOINT_URL\", None),\n",
    "  region= os.environ.get(\"AWS_DEFAULT_REGION\", None)\n",
    ")"
   ]
  },
  {
   "cell_type": "markdown",
   "metadata": {},
   "source": [
    "2. Bedrock Claud-v2 모델 가져오기"
   ]
  },
  {
   "cell_type": "code",
   "execution_count": 4,
   "metadata": {},
   "outputs": [
    {
     "data": {
      "text/plain": [
       "Bedrock(client=<botocore.client.BedrockRuntime object at 0x7fe87c3e1c30>, model_id='anthropic.claude-v2', model_kwargs={'max_tokens_to_sample': 4096, 'temperature': 0.5, 'top_k': 250, 'top_p': 1, 'stop_sequences': ['\\n\\nHuman']}, streaming=True, callbacks=[<langchain.callbacks.streaming_stdout.StreamingStdOutCallbackHandler object at 0x7fe87c46dc90>])"
      ]
     },
     "execution_count": 4,
     "metadata": {},
     "output_type": "execute_result"
    }
   ],
   "source": [
    "from langchain.llms import Bedrock\n",
    "from langchain.callbacks.streaming_stdout import StreamingStdOutCallbackHandler\n",
    "\n",
    "# create the Anthropic model\n",
    "llm = Bedrock(\n",
    "  model_id = \"anthropic.claude-v2\",\n",
    "  client = boto3_bedrock_cli,\n",
    "  model_kwargs = {\n",
    "    \"max_tokens_to_sample\": 4096,\n",
    "    \"temperature\": 0.5,\n",
    "    \"top_k\": 250,\n",
    "    \"top_p\": 1,\n",
    "    \"stop_sequences\": [\"\\n\\nHuman\"]\n",
    "  },\n",
    "  streaming = True,\n",
    "  callbacks = [ StreamingStdOutCallbackHandler() ]\n",
    ")\n",
    "llm"
   ]
  },
  {
   "cell_type": "markdown",
   "metadata": {},
   "source": [
    "3. 짧은 텍스트 요약하기"
   ]
  },
  {
   "cell_type": "markdown",
   "metadata": {},
   "source": [
    "##### 뉴스 텍스트 가져오기"
   ]
  },
  {
   "cell_type": "code",
   "execution_count": 5,
   "metadata": {},
   "outputs": [],
   "source": [
    "text=\"\"\"앤서링 AI(Answering AI) 스타트업 포티투마루(42Maru, 대표 김동환)는 생성형 AI 스타트업을 집중 육성하고 지원하기 위한 AWS 프로그램인 'ML Elevate – Generative AI Edition'에 선정됐다고 13일 밝혔다.\n",
    "이 프로그램은 생성형 AI 스타트업을 지원하기 위한 AWS의 엑셀러레이팅 프로그램이다. 강력한 AI 모델 및 도구, 업계 전문가들의 비즈니스 및 기술 멘토링, 선별된 자원, AWS 액티베이트 프로그램 참여 기회 및 최대 20만 달러 상당의 AWS 크레딧을 제공한다.\n",
    "주요 혜택은 ▲라이브 온라인 세션, 패널 토론 및 마스터 클래스를 포함한 4주간의 멘토링 ▲135명 이상의 글로벌 ML 설립자 및 운영자로 구성된 Peer to Peer 학습 커뮤니티 ▲AWS 크레딧을 포함한 엄선된 혜택 ▲Accel, KB Investment, Saehan Ventures 등 리딩 VC의 멘토링과 잠재 고객과 온라인 큐레이트 세션 ▲싱가포르에서 열리는 랩업(Wrap-up) 네트워킹 행사 참가 등이다.\n",
    "앞서 포티투마루는 지난 5월 환각(Hallucination), 보안, 고비용 문제를 해결한 기업용 거대언어모델(LLM)인 ‘LLM42’를 공개한 바 있다. 경량화 모델 구현을 통해 솔루션 구축과 운영에 들어가는 비용을 획기적으로 절감하고 ‘프라이빗 모드’를 지원해 기업 및 고객 정보에 대한 보안 문제를 해결한 것이 특징이다. 또 지난 9월에는 방대한 양의 대규모 원천 데이터로부터 LLM 모델이 필요로 하는 최적의 정보나 지식만 도출하고 정제하는 기술인 ‘RAG42’를 출시, 모델 종류에 상관없이 각 산업군별 도메인 특화 엔진 개발이 가능하도록 학습데이터 구축부터 파인 튜닝까지 전과정을 지원하고 있다.\n",
    "포티투마루는 초거대 AI 관련 핵심 기술을 차례로 공개하며 컨설팅부터 솔루션 구축까지 원스톱 서비스를 제공함으로써 엔터프라이즈 LLM 분야의 저변을 확대하는 등 글로벌 생성형 AI 시장에서 빠른 행보를 이어가고 있다.\n",
    "김동환 포티투마루 대표는 \"엄선된 생성형 AI 스타트업을 대상으로 진행하는 프로그램에 선정돼 참여중\"이라면서 \"상당히 수준 높고 전문적인 프로그램으로 생성형 AI 생태계의 중심에 와 있는 느낌이 든다\"는 소감을 밝혔다. 이어 \"AWS 지원과 지속적인 협력을 통해 포티투마루의 LLM42, RAG42 및 사이트버니 솔루션을 아마존 세이지메이커 점프스타트(Amazon SageMaker JumpStart)를 통해 글로벌 SaaS 서비스로 제공할 예정\"이라고 덧붙였다.\"\"\""
   ]
  },
  {
   "cell_type": "code",
   "execution_count": 6,
   "metadata": {},
   "outputs": [
    {
     "name": "stdout",
     "output_type": "stream",
     "text": [
      "text: \n",
      " 앤서링 AI(Answering AI) 스타트업 포티투마루(42Maru, 대표 김동환)는 생성형 AI 스타트업을 집중 육성하고 지원하기 위한 AWS 프로그램인 'ML Elevate – Generative AI Edition'에 선정됐다고 13일 밝혔다.\n",
      "이 프로그램은 생성형 AI 스타트업을 지원하기 위한 AWS의 엑셀러레이팅 프로그램이다. 강력한 AI 모델 및 도구, 업계 전문가들의 비즈니스 및 기술 멘토링, 선별된 자원, AWS 액티베이트 프로그램 참여 기회 및 최대 20만 달러 상당의 AWS 크레딧을 제공한다.\n",
      "주요 혜택은 ▲라이브 온라인 세션, 패널 토론 및 마스터 클래스를 포함한 4주간의 멘토링 ▲135명 이상의 글로벌 ML 설립자 및 운영자로 구성된 Peer to Peer 학습 커뮤니티 ▲AWS 크레딧을 포함한 엄선된 혜택 ▲Accel, KB Investment, Saehan Ventures 등 리딩 VC의 멘토링과 잠재 고객과 온라인 큐레이트 세션 ▲싱가포르에서 열리는 랩업(Wrap-up) 네트워킹 행사 참가 등이다.\n",
      "앞서 포티투마루는 지난 5월 환각(Hallucination), 보안, 고비용 문제를 해결한 기업용 거대언어모델(LLM)인 ‘LLM42’를 공개한 바 있다. 경량화 모델 구현을 통해 솔루션 구축과 운영에 들어가는 비용을 획기적으로 절감하고 ‘프라이빗 모드’를 지원해 기업 및 고객 정보에 대한 보안 문제를 해결한 것이 특징이다. 또 지난 9월에는 방대한 양의 대규모 원천 데이터로부터 LLM 모델이 필요로 하는 최적의 정보나 지식만 도출하고 정제하는 기술인 ‘RAG42’를 출시, 모델 종류에 상관없이 각 산업군별 도메인 특화 엔진 개발이 가능하도록 학습데이터 구축부터 파인 튜닝까지 전과정을 지원하고 있다.\n",
      "포티투마루는 초거대 AI 관련 핵심 기술을 차례로 공개하며 컨설팅부터 솔루션 구축까지 원스톱 서비스를 제공함으로써 엔터프라이즈 LLM 분야의 저변을 확대하는 등 글로벌 생성형 AI 시장에서 빠른 행보를 이어가고 있다.\n",
      "김동환 포티투마루 대표는 \"엄선된 생성형 AI 스타트업을 대상으로 진행하는 프로그램에 선정돼 참여중\"이라면서 \"상당히 수준 높고 전문적인 프로그램으로 생성형 AI 생태계의 중심에 와 있는 느낌이 든다\"는 소감을 밝혔다. 이어 \"AWS 지원과 지속적인 협력을 통해 포티투마루의 LLM42, RAG42 및 사이트버니 솔루션을 아마존 세이지메이커 점프스타트(Amazon SageMaker JumpStart)를 통해 글로벌 SaaS 서비스로 제공할 예정\"이라고 덧붙였다.\n"
     ]
    }
   ],
   "source": [
    "print(\"text: \\n\", text)"
   ]
  },
  {
   "cell_type": "markdown",
   "metadata": {},
   "source": [
    "##### Langchain PromptTemplate을 통하여 prompt 생성"
   ]
  },
  {
   "cell_type": "code",
   "execution_count": 7,
   "metadata": {},
   "outputs": [
    {
     "data": {
      "text/plain": [
       "'\\n\\nHuman: 다음 텍스트를 요약 해주세요\\n  <text>앤서링 AI(Answering AI) 스타트업 포티투마루(42Maru, 대표 김동환)는 생성형 AI 스타트업을 집중 육성하고 지원하기 위한 AWS 프로그램인 \\'ML Elevate – Generative AI Edition\\'에 선정됐다고 13일 밝혔다.\\n이 프로그램은 생성형 AI 스타트업을 지원하기 위한 AWS의 엑셀러레이팅 프로그램이다. 강력한 AI 모델 및 도구, 업계 전문가들의 비즈니스 및 기술 멘토링, 선별된 자원, AWS 액티베이트 프로그램 참여 기회 및 최대 20만 달러 상당의 AWS 크레딧을 제공한다.\\n주요 혜택은 ▲라이브 온라인 세션, 패널 토론 및 마스터 클래스를 포함한 4주간의 멘토링 ▲135명 이상의 글로벌 ML 설립자 및 운영자로 구성된 Peer to Peer 학습 커뮤니티 ▲AWS 크레딧을 포함한 엄선된 혜택 ▲Accel, KB Investment, Saehan Ventures 등 리딩 VC의 멘토링과 잠재 고객과 온라인 큐레이트 세션 ▲싱가포르에서 열리는 랩업(Wrap-up) 네트워킹 행사 참가 등이다.\\n앞서 포티투마루는 지난 5월 환각(Hallucination), 보안, 고비용 문제를 해결한 기업용 거대언어모델(LLM)인 ‘LLM42’를 공개한 바 있다. 경량화 모델 구현을 통해 솔루션 구축과 운영에 들어가는 비용을 획기적으로 절감하고 ‘프라이빗 모드’를 지원해 기업 및 고객 정보에 대한 보안 문제를 해결한 것이 특징이다. 또 지난 9월에는 방대한 양의 대규모 원천 데이터로부터 LLM 모델이 필요로 하는 최적의 정보나 지식만 도출하고 정제하는 기술인 ‘RAG42’를 출시, 모델 종류에 상관없이 각 산업군별 도메인 특화 엔진 개발이 가능하도록 학습데이터 구축부터 파인 튜닝까지 전과정을 지원하고 있다.\\n포티투마루는 초거대 AI 관련 핵심 기술을 차례로 공개하며 컨설팅부터 솔루션 구축까지 원스톱 서비스를 제공함으로써 엔터프라이즈 LLM 분야의 저변을 확대하는 등 글로벌 생성형 AI 시장에서 빠른 행보를 이어가고 있다.\\n김동환 포티투마루 대표는 \"엄선된 생성형 AI 스타트업을 대상으로 진행하는 프로그램에 선정돼 참여중\"이라면서 \"상당히 수준 높고 전문적인 프로그램으로 생성형 AI 생태계의 중심에 와 있는 느낌이 든다\"는 소감을 밝혔다. 이어 \"AWS 지원과 지속적인 협력을 통해 포티투마루의 LLM42, RAG42 및 사이트버니 솔루션을 아마존 세이지메이커 점프스타트(Amazon SageMaker JumpStart)를 통해 글로벌 SaaS 서비스로 제공할 예정\"이라고 덧붙였다.</text>\\n\\nAssistant:'"
      ]
     },
     "execution_count": 7,
     "metadata": {},
     "output_type": "execute_result"
    }
   ],
   "source": [
    "from langchain import PromptTemplate\n",
    "\n",
    "summary_prompt = PromptTemplate(\n",
    "  input_variables = [\"text\"],\n",
    "  template = \"\"\"\\n\\nHuman: 다음 텍스트를 요약 해주세요\n",
    "  <text>{text}</text>\\n\\nAssistant:\"\"\"\n",
    ")\n",
    "\n",
    "prompt = summary_prompt.format(text=text)\n",
    "prompt"
   ]
  },
  {
   "cell_type": "markdown",
   "metadata": {},
   "source": [
    "4. LLM (Claude-v2)로 뉴스 요약"
   ]
  },
  {
   "cell_type": "code",
   "execution_count": 8,
   "metadata": {},
   "outputs": [
    {
     "name": "stdout",
     "output_type": "stream",
     "text": [
      " 앤서링 AI 스타트업 포티투마루가 AWS의 'ML Elevate - Generative AI Edition' 프로그램에 선정되었다. 이 프로그램은 생성형 AI 스타트업을 지원하기 위한 것으로, 멘토링, AWS 크레딧 등의 혜택을 제공한다. 포티투마루는 기업용 거대언어모델 LLM42와 데이터 정제 기술 RAG42를 공개하며, 컨설팅부터 솔루션 구축까지 원스톱 서비스를 제공하고 있다. AWS 지원을 통해 글로벌 SaaS 서비스 제공을 목표로 하고 있다."
     ]
    },
    {
     "data": {
      "text/plain": [
       "\" 앤서링 AI 스타트업 포티투마루가 AWS의 'ML Elevate - Generative AI Edition' 프로그램에 선정되었다. 이 프로그램은 생성형 AI 스타트업을 지원하기 위한 것으로, 멘토링, AWS 크레딧 등의 혜택을 제공한다. 포티투마루는 기업용 거대언어모델 LLM42와 데이터 정제 기술 RAG42를 공개하며, 컨설팅부터 솔루션 구축까지 원스톱 서비스를 제공하고 있다. AWS 지원을 통해 글로벌 SaaS 서비스 제공을 목표로 하고 있다.\""
      ]
     },
     "execution_count": 8,
     "metadata": {},
     "output_type": "execute_result"
    }
   ],
   "source": [
    "llm(prompt)"
   ]
  },
  {
   "cell_type": "code",
   "execution_count": null,
   "metadata": {},
   "outputs": [],
   "source": []
  }
 ],
 "metadata": {
  "kernelspec": {
   "display_name": "bedrock",
   "language": "python",
   "name": "python3"
  },
  "language_info": {
   "codemirror_mode": {
    "name": "ipython",
    "version": 3
   },
   "file_extension": ".py",
   "mimetype": "text/x-python",
   "name": "python",
   "nbconvert_exporter": "python",
   "pygments_lexer": "ipython3",
   "version": "3.10.13"
  }
 },
 "nbformat": 4,
 "nbformat_minor": 2
}
