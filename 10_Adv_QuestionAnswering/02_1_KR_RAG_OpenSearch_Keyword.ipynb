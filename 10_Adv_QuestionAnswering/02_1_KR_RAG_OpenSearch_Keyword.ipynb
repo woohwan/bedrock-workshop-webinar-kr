{
 "cells": [
  {
   "cell_type": "markdown",
   "metadata": {},
   "source": [
    "## OpenSearch 한글 형태소 분석기를 통한 키워드 검색"
   ]
  },
  {
   "cell_type": "markdown",
   "metadata": {},
   "source": [
    "### 1. 환경 세팅"
   ]
  },
  {
   "cell_type": "code",
   "execution_count": 1,
   "metadata": {},
   "outputs": [],
   "source": [
    "%load_ext autoreload\n",
    "%autoreload 2\n",
    "\n",
    "import os,sys\n",
    "module_path=\"..\"\n",
    "sys.path.append(os.path.abspath(module_path))"
   ]
  },
  {
   "cell_type": "markdown",
   "metadata": {},
   "source": [
    "#### Bedrock Client 생성"
   ]
  },
  {
   "cell_type": "code",
   "execution_count": 2,
   "metadata": {},
   "outputs": [
    {
     "name": "stdout",
     "output_type": "stream",
     "text": [
      "Create new client\n",
      "  Using region: us-east-1\n",
      "  Using profile: None\n",
      "boto3 Bedrock client successfully created!\n",
      "bedrock-runtime(https://bedrock-runtime.us-east-1.amazonaws.com)\n"
     ]
    }
   ],
   "source": [
    "from utils import bedrock\n",
    "from utils.bedrock import bedrock_info\n",
    "\n",
    "boto3_bedrock = bedrock.get_bedrock_client(\n",
    "  assumed_role=None,\n",
    "  endpoint_url=None,\n",
    "  region='us-east-1'\n",
    ")\n"
   ]
  },
  {
   "cell_type": "markdown",
   "metadata": {},
   "source": [
    "### Embedding Model 선택"
   ]
  },
  {
   "cell_type": "code",
   "execution_count": 3,
   "metadata": {},
   "outputs": [],
   "source": [
    "from langchain.embeddings.bedrock import BedrockEmbeddings\n",
    "\n",
    "llm_emb = BedrockEmbeddings(\n",
    "  client=boto3_bedrock,\n",
    "  model_id='amazon.titan-embed-text-v1'\n",
    ")"
   ]
  },
  {
   "cell_type": "markdown",
   "metadata": {},
   "source": [
    "## 2. 데이터 준비"
   ]
  },
  {
   "cell_type": "code",
   "execution_count": 4,
   "metadata": {},
   "outputs": [
    {
     "data": {
      "text/html": [
       "<div>\n",
       "<style scoped>\n",
       "    .dataframe tbody tr th:only-of-type {\n",
       "        vertical-align: middle;\n",
       "    }\n",
       "\n",
       "    .dataframe tbody tr th {\n",
       "        vertical-align: top;\n",
       "    }\n",
       "\n",
       "    .dataframe thead th {\n",
       "        text-align: right;\n",
       "    }\n",
       "</style>\n",
       "<table border=\"1\" class=\"dataframe\">\n",
       "  <thead>\n",
       "    <tr style=\"text-align: right;\">\n",
       "      <th></th>\n",
       "      <th>no</th>\n",
       "      <th>Category</th>\n",
       "      <th>Information</th>\n",
       "      <th>type</th>\n",
       "      <th>Source</th>\n",
       "    </tr>\n",
       "  </thead>\n",
       "  <tbody>\n",
       "    <tr>\n",
       "      <th>0</th>\n",
       "      <td>91</td>\n",
       "      <td>아마존 은행의 타기관OTP 이용등록방법 알려주세요</td>\n",
       "      <td>아마존 은행의 타기관에서 발급받으신 OTP가 통합OTP카드인 경우 당행에 등록하여 ...</td>\n",
       "      <td>인터넷뱅킹</td>\n",
       "      <td>아마존은행</td>\n",
       "    </tr>\n",
       "    <tr>\n",
       "      <th>1</th>\n",
       "      <td>90</td>\n",
       "      <td>아마존 공동인증서와 금융인증서 차이점이 무엇인가요?</td>\n",
       "      <td>공동인증서 (구 공인인증서)는 용도에 따라 은행/신용카드/보험용 무료 인증서와 전자...</td>\n",
       "      <td>인증서</td>\n",
       "      <td>아마존은행</td>\n",
       "    </tr>\n",
       "    <tr>\n",
       "      <th>2</th>\n",
       "      <td>88</td>\n",
       "      <td>공동인증서와 금융인증서 차이점이 무엇인가요?</td>\n",
       "      <td>공동인증서 (구 공인인증서)는 용도에 따라 은행/신용카드/보험용 무료 인증서와 전자...</td>\n",
       "      <td>인증서</td>\n",
       "      <td>신한은행</td>\n",
       "    </tr>\n",
       "  </tbody>\n",
       "</table>\n",
       "</div>"
      ],
      "text/plain": [
       "   no                      Category  \\\n",
       "0  91   아마존 은행의 타기관OTP 이용등록방법 알려주세요   \n",
       "1  90  아마존 공동인증서와 금융인증서 차이점이 무엇인가요?   \n",
       "2  88      공동인증서와 금융인증서 차이점이 무엇인가요?   \n",
       "\n",
       "                                         Information   type Source  \n",
       "0  아마존 은행의 타기관에서 발급받으신 OTP가 통합OTP카드인 경우 당행에 등록하여 ...  인터넷뱅킹  아마존은행  \n",
       "1  공동인증서 (구 공인인증서)는 용도에 따라 은행/신용카드/보험용 무료 인증서와 전자...    인증서  아마존은행  \n",
       "2  공동인증서 (구 공인인증서)는 용도에 따라 은행/신용카드/보험용 무료 인증서와 전자...    인증서   신한은행  "
      ]
     },
     "execution_count": 4,
     "metadata": {},
     "output_type": "execute_result"
    }
   ],
   "source": [
    "import pandas as pd\n",
    "pd.options.display.max_rows = 20\n",
    "data_file_path = 'data/fsi_smart_faq_ko.csv'\n",
    "df = pd.read_csv(data_file_path)\n",
    "df.head(3)"
   ]
  },
  {
   "cell_type": "code",
   "execution_count": 5,
   "metadata": {},
   "outputs": [
    {
     "data": {
      "text/html": [
       "<div>\n",
       "<style scoped>\n",
       "    .dataframe tbody tr th:only-of-type {\n",
       "        vertical-align: middle;\n",
       "    }\n",
       "\n",
       "    .dataframe tbody tr th {\n",
       "        vertical-align: top;\n",
       "    }\n",
       "\n",
       "    .dataframe thead th {\n",
       "        text-align: right;\n",
       "    }\n",
       "</style>\n",
       "<table border=\"1\" class=\"dataframe\">\n",
       "  <thead>\n",
       "    <tr style=\"text-align: right;\">\n",
       "      <th></th>\n",
       "      <th>ask</th>\n",
       "      <th>Information</th>\n",
       "      <th>type</th>\n",
       "      <th>Source</th>\n",
       "    </tr>\n",
       "  </thead>\n",
       "  <tbody>\n",
       "    <tr>\n",
       "      <th>0</th>\n",
       "      <td>아마존 은행의 타기관OTP 이용등록방법 알려주세요</td>\n",
       "      <td>아마존 은행의 타기관에서 발급받으신 OTP가 통합OTP카드인 경우 당행에 등록하여 ...</td>\n",
       "      <td>인터넷뱅킹</td>\n",
       "      <td>아마존은행</td>\n",
       "    </tr>\n",
       "    <tr>\n",
       "      <th>1</th>\n",
       "      <td>아마존 공동인증서와 금융인증서 차이점이 무엇인가요?</td>\n",
       "      <td>공동인증서 (구 공인인증서)는 용도에 따라 은행/신용카드/보험용 무료 인증서와 전자...</td>\n",
       "      <td>인증서</td>\n",
       "      <td>아마존은행</td>\n",
       "    </tr>\n",
       "    <tr>\n",
       "      <th>2</th>\n",
       "      <td>공동인증서와 금융인증서 차이점이 무엇인가요?</td>\n",
       "      <td>공동인증서 (구 공인인증서)는 용도에 따라 은행/신용카드/보험용 무료 인증서와 전자...</td>\n",
       "      <td>인증서</td>\n",
       "      <td>신한은행</td>\n",
       "    </tr>\n",
       "  </tbody>\n",
       "</table>\n",
       "</div>"
      ],
      "text/plain": [
       "                            ask  \\\n",
       "0   아마존 은행의 타기관OTP 이용등록방법 알려주세요   \n",
       "1  아마존 공동인증서와 금융인증서 차이점이 무엇인가요?   \n",
       "2      공동인증서와 금융인증서 차이점이 무엇인가요?   \n",
       "\n",
       "                                         Information   type Source  \n",
       "0  아마존 은행의 타기관에서 발급받으신 OTP가 통합OTP카드인 경우 당행에 등록하여 ...  인터넷뱅킹  아마존은행  \n",
       "1  공동인증서 (구 공인인증서)는 용도에 따라 은행/신용카드/보험용 무료 인증서와 전자...    인증서  아마존은행  \n",
       "2  공동인증서 (구 공인인증서)는 용도에 따라 은행/신용카드/보험용 무료 인증서와 전자...    인증서   신한은행  "
      ]
     },
     "execution_count": 5,
     "metadata": {},
     "output_type": "execute_result"
    }
   ],
   "source": [
    "pre_df = df.drop(columns=['no'])\n",
    "pre_df.rename(columns={\"Category\": \"ask\"}, inplace=True)\n",
    "pre_df.to_csv(\"data/fsi_smart_faq_ko_preprocess.csv\", index=None)\n",
    "pre_df.head(3)"
   ]
  },
  {
   "cell_type": "markdown",
   "metadata": {},
   "source": [
    "### CSVLoader로 문서 로딩"
   ]
  },
  {
   "cell_type": "code",
   "execution_count": 6,
   "metadata": {},
   "outputs": [],
   "source": [
    "from langchain.document_loaders import CSVLoader\n",
    "loader = CSVLoader(\n",
    "  file_path=\"data/fsi_smart_faq_ko_preprocess.csv\",\n",
    "  source_column=\"Source\",\n",
    "  encoding='utf-8'\n",
    ")\n",
    "documents_fsi = loader.load()"
   ]
  },
  {
   "cell_type": "code",
   "execution_count": 7,
   "metadata": {},
   "outputs": [
    {
     "name": "stdout",
     "output_type": "stream",
     "text": [
      "page_content='ask: 아마존 은행의 타기관OTP 이용등록방법 알려주세요\\nInformation: 아마존 은행의 타기관에서 발급받으신 OTP가 통합OTP카드인 경우 당행에 등록하여 이용가능합니다. \\r\\n[경로]\\r\\n- 인터넷뱅킹 로그인→ 사용자관리→인터넷뱅킹관리→OTP이용등록  \\r\\n- 아마존은행 쏠(SOL) 로그인→ 전체메뉴→설정/인증→ 이용중인 보안매체선택→   OTP이용등록\\r\\n \\r\\n ※ OTP이용등록후 재로그인을 하셔야 새로 등록된 보안매체가 적용됩니다.\\r\\n\\r\\n기타 궁금하신 내용은 아마존 은행 고객센터 1599-9999로 문의하여 주시기 바랍니다.\\ntype: 인터넷뱅킹\\nSource: 아마존은행' metadata={'source': '아마존은행', 'row': 0}\n"
     ]
    },
    {
     "data": {
      "text/plain": [
       "\"\\nmetadata={'source': '아마존은행', 'row': 0}\\n\""
      ]
     },
     "execution_count": 7,
     "metadata": {},
     "output_type": "execute_result"
    }
   ],
   "source": [
    "print(documents_fsi[0])\n",
    "'''\n",
    "metadata={'source': '아마존은행', 'row': 0}\n",
    "'''"
   ]
  },
  {
   "cell_type": "markdown",
   "metadata": {},
   "source": [
    "### 문서의 metadata에 항목 추가\n",
    "- column의 type, source는 metadta로 생성하고, 내용에서는 삭제.\n",
    "- timestamp, embeddng model의 endpoint name을 metadata로 추가"
   ]
  },
  {
   "cell_type": "code",
   "execution_count": 8,
   "metadata": {},
   "outputs": [],
   "source": [
    "import time\n",
    "def creat_metadata(docs):\n",
    "  # add a custom metadta field\n",
    "  for idx, doc in enumerate(docs):\n",
    "    split_content = doc.page_content.split(\"type: \")\n",
    "    content = split_content[0]\n",
    "    metadata = split_content[1]\n",
    "    doc.metadata['type'] = metadata.split(\"\\n\")[0]\n",
    "    doc.page_content = content # metadata 제외하고 content만 저장\n",
    "    doc.metadata['timestamp'] = time.time()\n",
    "\n",
    "creat_metadata(documents_fsi)"
   ]
  },
  {
   "cell_type": "code",
   "execution_count": 9,
   "metadata": {},
   "outputs": [
    {
     "name": "stdout",
     "output_type": "stream",
     "text": [
      "92\n",
      "page_content='ask: 아마존 은행의 타기관OTP 이용등록방법 알려주세요\\nInformation: 아마존 은행의 타기관에서 발급받으신 OTP가 통합OTP카드인 경우 당행에 등록하여 이용가능합니다. \\r\\n[경로]\\r\\n- 인터넷뱅킹 로그인→ 사용자관리→인터넷뱅킹관리→OTP이용등록  \\r\\n- 아마존은행 쏠(SOL) 로그인→ 전체메뉴→설정/인증→ 이용중인 보안매체선택→   OTP이용등록\\r\\n \\r\\n ※ OTP이용등록후 재로그인을 하셔야 새로 등록된 보안매체가 적용됩니다.\\r\\n\\r\\n기타 궁금하신 내용은 아마존 은행 고객센터 1599-9999로 문의하여 주시기 바랍니다.\\n' metadata={'source': '아마존은행', 'row': 0, 'type': '인터넷뱅킹', 'timestamp': 1701407810.8438127}\n"
     ]
    }
   ],
   "source": [
    "print(len(documents_fsi))\n",
    "print(documents_fsi[0])"
   ]
  },
  {
   "cell_type": "markdown",
   "metadata": {},
   "source": [
    "### Text Spliter로 chunking"
   ]
  },
  {
   "cell_type": "code",
   "execution_count": 10,
   "metadata": {},
   "outputs": [
    {
     "name": "stdout",
     "output_type": "stream",
     "text": [
      "Number of documents after split and chunking=92\n"
     ]
    }
   ],
   "source": [
    "from langchain.text_splitter import RecursiveCharacterTextSplitter\n",
    "\n",
    "text_spliter = RecursiveCharacterTextSplitter(\n",
    "  chunk_size=2048,\n",
    "  chunk_overlap=50,\n",
    "  separators=[\"\\n\\n\", \"\\n\", \".\", \" \", \"\"],\n",
    "  length_function=len,\n",
    ")\n",
    "docs = text_spliter.split_documents(documents_fsi)\n",
    "print(f\"Number of documents after split and chunking={len(docs)}\")"
   ]
  },
  {
   "cell_type": "markdown",
   "metadata": {},
   "source": [
    "## 4. OpenSearch Client 생성"
   ]
  },
  {
   "cell_type": "code",
   "execution_count": 11,
   "metadata": {},
   "outputs": [],
   "source": [
    "aws_region='ap-northeast-2'\n",
    "http_auth = ('admin', \"Admin123@\")\n",
    "opensearch_domain_endpoint = \"https://search-bedrock-fkik524xhgkrn3t2omdtfspzmm.ap-northeast-2.es.amazonaws.com\"\n",
    "\n",
    "from utils.opensearch import opensearch_utils\n",
    "\n",
    "os_client = opensearch_utils.create_aws_opensearch_client(\n",
    "  aws_region,\n",
    "  opensearch_domain_endpoint,\n",
    "  http_auth\n",
    ")"
   ]
  },
  {
   "cell_type": "markdown",
   "metadata": {},
   "source": [
    "## 4. OpenSearch 벡터 Indexer 생성\n",
    "OpenSearch에 해당 인덱스가 존재하면, 삭제"
   ]
  },
  {
   "cell_type": "code",
   "execution_count": 12,
   "metadata": {},
   "outputs": [
    {
     "name": "stdout",
     "output_type": "stream",
     "text": [
      "index_name=genai-demo-index-v1, exists=True\n",
      "\n",
      "Deleting index:\n",
      "{'acknowledged': True}\n"
     ]
    }
   ],
   "source": [
    "index_name = 'genai-demo-index-v1'\n",
    "index_exists = opensearch_utils.check_if_index_exists(os_client, index_name)\n",
    "\n",
    "if index_exists:\n",
    "  opensearch_utils.delete_index(os_client, index_name)\n",
    "else:\n",
    "  print(\"index does not exist\")"
   ]
  },
  {
   "cell_type": "markdown",
   "metadata": {},
   "source": [
    "### 인덱스 생성"
   ]
  },
  {
   "cell_type": "code",
   "execution_count": 13,
   "metadata": {},
   "outputs": [],
   "source": [
    "from langchain.vectorstores import OpenSearchVectorSearch\n",
    "# by default, langchain would create a K-NN index and the embeddings would be ingested as a K-NN vector type\n",
    "docsearch = OpenSearchVectorSearch.from_documents(\n",
    "  index_name=index_name,\n",
    "  documents=docs,\n",
    "  embedding=llm_emb,\n",
    "  opensearch_url=opensearch_domain_endpoint,\n",
    "  http_auth=http_auth,\n",
    "  bulk_size=1000,\n",
    "  timeout=60\n",
    ")"
   ]
  },
  {
   "cell_type": "markdown",
   "metadata": {},
   "source": [
    "### 인덱스 확인"
   ]
  },
  {
   "cell_type": "code",
   "execution_count": 14,
   "metadata": {},
   "outputs": [
    {
     "name": "stdout",
     "output_type": "stream",
     "text": [
      "{'genai-demo-index-v1': {'aliases': {}, 'mappings': {'properties': {'metadata': {'properties': {'row': {'type': 'long'}, 'source': {'type': 'text', 'fields': {'keyword': {'type': 'keyword', 'ignore_above': 256}}}, 'timestamp': {'type': 'float'}, 'type': {'type': 'text', 'fields': {'keyword': {'type': 'keyword', 'ignore_above': 256}}}}}, 'text': {'type': 'text', 'fields': {'keyword': {'type': 'keyword', 'ignore_above': 256}}}, 'vector_field': {'type': 'knn_vector', 'dimension': 1536, 'method': {'engine': 'nmslib', 'space_type': 'l2', 'name': 'hnsw', 'parameters': {'ef_construction': 512, 'm': 16}}}}}, 'settings': {'index': {'replication': {'type': 'DOCUMENT'}, 'number_of_shards': '5', 'knn.algo_param': {'ef_search': '512'}, 'provided_name': 'genai-demo-index-v1', 'knn': 'true', 'creation_date': '1701407849943', 'number_of_replicas': '1', 'uuid': 'Tx4AJRfoTROBvKJPy9UVtQ', 'version': {'created': '136327827'}}}}}\n"
     ]
    }
   ],
   "source": [
    "index_info = os_client.indices.get(index=index_name)\n",
    "print(index_info)"
   ]
  },
  {
   "cell_type": "markdown",
   "metadata": {},
   "source": [
    "### 인덱싱 수정하기 (형태소 분석기 사용 enablement)"
   ]
  },
  {
   "cell_type": "code",
   "execution_count": 15,
   "metadata": {},
   "outputs": [
    {
     "data": {
      "text/plain": [
       "'genai-demo-index-v1-with-tokenizer'"
      ]
     },
     "execution_count": 15,
     "metadata": {},
     "output_type": "execute_result"
    }
   ],
   "source": [
    "new_index_name = f\"{index_name}-with-tokenizer\"\n",
    "new_index_name"
   ]
  },
  {
   "cell_type": "code",
   "execution_count": 16,
   "metadata": {},
   "outputs": [],
   "source": [
    "tokenizer = \"nori\"\n",
    "analyzer_config = {\n",
    "  \"tokenizer\": tokenizer,\n",
    "  \"tokenizer_type\": f'{tokenizer}_tokenizer',\n",
    "  \"char_filter\": [\"html_strip\"],\n",
    "  \"filter\": [\"nori_number\", \"nori_readingform\", \"lowercase\"],\n",
    "  \"decompound_mode\": \"mixed\",\n",
    "  \"discard_punctuation\": True\n",
    "}"
   ]
  },
  {
   "cell_type": "code",
   "execution_count": 17,
   "metadata": {},
   "outputs": [],
   "source": [
    "index_info[index_name][\"settings\"][\"analysis\"] = {\n",
    "  \"tokenizer\": {\n",
    "    analyzer_config[\"tokenizer\"]: {\n",
    "      \"type\": analyzer_config[\"tokenizer_type\"],\n",
    "      \"decompound_mode\": analyzer_config[\"decompound_mode\"],\n",
    "      \"discard_punctuation\": analyzer_config[\"discard_punctuation\"]\n",
    "    }\n",
    "  },\n",
    "  \"analyzer\": {\n",
    "    \"my_analyzer\": {\n",
    "      \"type\": \"custom\",\n",
    "      \"tokenizer\": analyzer_config[\"tokenizer\"],\n",
    "      \"char_filter\": analyzer_config[\"char_filter\"],\n",
    "      \"filter\": analyzer_config[\"filter\"]\n",
    "    }\n",
    "  }\n",
    "}\n",
    "\n",
    "# Setting for Columns to be adapted by Tokenizer (tokenizer가 적용될 컬럼에 맞춰서 수정)\n",
    "index_info[index_name][\"mappings\"][\"properties\"][\"text\"][\"analyzer\"] = \"my_analyzer\"\n",
    "index_info[index_name][\"mappings\"][\"properties\"][\"text\"][\"search_analyzer\"] = \"my_analyzer\"\n",
    "\n",
    "# Setting for vector index column (변경 없음)\n",
    "index_info[index_name][\"settings\"][\"index\"] = {\n",
    "    \"number_of_shards\": \"5\",\n",
    "    \"knn.algo_param\": {\"ef_search\": \"512\"},\n",
    "    \"knn\": \"true\",\n",
    "    \"number_of_replicas\": \"2\"\n",
    "}\n",
    "del index_info[index_name][\"aliases\"]\n",
    "new_index_info = index_info[index_name]"
   ]
  },
  {
   "cell_type": "code",
   "execution_count": 18,
   "metadata": {},
   "outputs": [
    {
     "name": "stdout",
     "output_type": "stream",
     "text": [
      "{'mappings': {'properties': {'metadata': {'properties': {'row': {'type': 'long'}, 'source': {'type': 'text', 'fields': {'keyword': {'type': 'keyword', 'ignore_above': 256}}}, 'timestamp': {'type': 'float'}, 'type': {'type': 'text', 'fields': {'keyword': {'type': 'keyword', 'ignore_above': 256}}}}}, 'text': {'type': 'text', 'fields': {'keyword': {'type': 'keyword', 'ignore_above': 256}}, 'analyzer': 'my_analyzer', 'search_analyzer': 'my_analyzer'}, 'vector_field': {'type': 'knn_vector', 'dimension': 1536, 'method': {'engine': 'nmslib', 'space_type': 'l2', 'name': 'hnsw', 'parameters': {'ef_construction': 512, 'm': 16}}}}}, 'settings': {'index': {'number_of_shards': '5', 'knn.algo_param': {'ef_search': '512'}, 'knn': 'true', 'number_of_replicas': '2'}, 'analysis': {'tokenizer': {'nori': {'type': 'nori_tokenizer', 'decompound_mode': 'mixed', 'discard_punctuation': True}}, 'analyzer': {'my_analyzer': {'type': 'custom', 'tokenizer': 'nori', 'char_filter': ['html_strip'], 'filter': ['nori_number', 'nori_readingform', 'lowercase']}}}}}\n"
     ]
    }
   ],
   "source": [
    "print(new_index_info)"
   ]
  },
  {
   "cell_type": "markdown",
   "metadata": {},
   "source": [
    "### 형태소 분석기용 인덱서 생성"
   ]
  },
  {
   "cell_type": "code",
   "execution_count": 19,
   "metadata": {},
   "outputs": [
    {
     "name": "stdout",
     "output_type": "stream",
     "text": [
      "index_name=genai-demo-index-v1-with-tokenizer, exists=False\n",
      "Index does not exist\n"
     ]
    }
   ],
   "source": [
    "index_exists = opensearch_utils.check_if_index_exists(os_client, new_index_name)\n",
    "if index_exists:\n",
    "    opensearch_utils.delete_index(os_client, new_index_name)\n",
    "else:\n",
    "    print(\"Index does not exist\")"
   ]
  },
  {
   "cell_type": "code",
   "execution_count": 20,
   "metadata": {},
   "outputs": [
    {
     "name": "stdout",
     "output_type": "stream",
     "text": [
      "\n",
      "Creating index:\n",
      "{'acknowledged': True, 'shards_acknowledged': True, 'index': 'genai-demo-index-v1-with-tokenizer'}\n"
     ]
    }
   ],
   "source": [
    "opensearch_utils.create_index(\n",
    "  os_client,\n",
    "  index_name=new_index_name,\n",
    "  index_body=new_index_info\n",
    ")"
   ]
  },
  {
   "cell_type": "markdown",
   "metadata": {},
   "source": [
    "### Re-indexing"
   ]
  },
  {
   "cell_type": "code",
   "execution_count": 21,
   "metadata": {},
   "outputs": [
    {
     "name": "stdout",
     "output_type": "stream",
     "text": [
      "_reindex: \n",
      " {'source': {'index': 'genai-demo-index-v1'}, 'dest': {'index': 'genai-demo-index-v1-with-tokenizer'}}\n"
     ]
    }
   ],
   "source": [
    "_reindex = {\n",
    "  \"source\": {\"index\": index_name},\n",
    "  \"dest\": {\"index\": new_index_name}\n",
    "}\n",
    "print(\"_reindex: \\n\", _reindex)"
   ]
  },
  {
   "cell_type": "code",
   "execution_count": 22,
   "metadata": {},
   "outputs": [
    {
     "data": {
      "text/plain": [
       "{'took': 1698,\n",
       " 'timed_out': False,\n",
       " 'total': 92,\n",
       " 'updated': 0,\n",
       " 'created': 92,\n",
       " 'deleted': 0,\n",
       " 'batches': 1,\n",
       " 'version_conflicts': 0,\n",
       " 'noops': 0,\n",
       " 'retries': {'bulk': 0, 'search': 0},\n",
       " 'throttled_millis': 0,\n",
       " 'requests_per_second': -1.0,\n",
       " 'throttled_until_millis': 0,\n",
       " 'failures': []}"
      ]
     },
     "execution_count": 22,
     "metadata": {},
     "output_type": "execute_result"
    }
   ],
   "source": [
    "os_client.reindex(_reindex)"
   ]
  },
  {
   "cell_type": "markdown",
   "metadata": {},
   "source": [
    "## 6. 키워드 검색\n",
    "\"Text\"에 \"약관\", 뱅킹\" 단어를 검색\n",
    "- without tokeninzer (index_name)"
   ]
  },
  {
   "cell_type": "code",
   "execution_count": 23,
   "metadata": {},
   "outputs": [
    {
     "name": "stdout",
     "output_type": "stream",
     "text": [
      "query:  {'query': {'bool': {'must': [{'match': {'text': {'query': '뱅킹', 'minimum_should_match': '0%', 'operator': 'or'}}}], 'filter': []}}}\n",
      "There is no response\n"
     ]
    }
   ],
   "source": [
    "query = \"뱅킹\"\n",
    "query = opensearch_utils.get_query(\n",
    "  query=query\n",
    ")\n",
    "print(\"query: \", query)\n",
    "resp = opensearch_utils.search_document(os_client, query, index_name)\n",
    "opensearch_utils.parse_keyword_response(resp, show_size=3)"
   ]
  },
  {
   "cell_type": "markdown",
   "metadata": {},
   "source": [
    "- with tokenizer (new_index_name)"
   ]
  },
  {
   "cell_type": "code",
   "execution_count": 24,
   "metadata": {},
   "outputs": [
    {
     "name": "stdout",
     "output_type": "stream",
     "text": [
      "query:  {'query': {'bool': {'must': [{'match': {'text': {'query': '뱅킹', 'minimum_should_match': '0%', 'operator': 'or'}}}], 'filter': []}}}\n",
      "# of searched docs:  10\n",
      "# of display: 3\n",
      "---------------------\n",
      "_id in index:  2314182f-eb5c-4686-b50a-6065bffd233b\n",
      "1.4926369\n",
      "ask: 이체한도란 무엇인가요?\n",
      "Information: 이체한도란 인터넷뱅킹, 폰뱅킹, 모바일뱅킹 등을 통하여 이체할 수 있는 거래한도를 말합니다. ① 1일/1회 이체한도 1일 이체한도란 하루에 거래할 수 있는 이체금액의 합을 말하여, 1회 이체한도란 1회에 이체하실 수 있는 금액의 한도를 말합니다. ② 통합이체한도 인터넷뱅킹, 폰뱅킹, 모바일뱅킹 등을 고객님이 사용하시는 경우 고객님이 1일 또는 1회에 이체하실 수 있는 이체한도를 말합니다. 인터넷뱅킹, 폰뱅킹, 모바일뱅킹 등에서 고객님이 거래하신 이체금액의 합이 통합이체한도의 범위를 초과할 수 없습니다. ③ 최고이체한도 금융감독원에서는 개인의 전자금융 시 이용할 수 있는 이체한도의 가이드라인을 정하고 있습니다.(인터넷뱅킹 : 1일 5억원, 1회 1억원 이내)\n",
      "{'source': '신한은행', 'row': 39, 'type': '인터넷뱅킹', 'timestamp': 1701407810.8439403}\n",
      "---------------------\n",
      "_id in index:  769c514b-6103-43bc-b46c-1b47412b8281\n",
      "1.4263135\n",
      "ask: 12개월 장기미이체로 이체서비스가 중지된 경우 어떻게 해제하나요?\n",
      "Information: 최근 12개월동안 인터넷뱅킹/폰뱅킹/모바일뱅킹에서 이체서비스를 이용하지 않은 경우 고객님의 금융자산 보호를 위하여 이체서비스가 중단됩니다. 다시 이체를 원하시는 경우에는 인터넷뱅킹/폰뱅킹/신한쏠(SOL)에서 이체정지 해제를 하실 수 있습니다.(단, 인터넷뱅킹 출금계좌가 등록되어 있는 경우) [경로] ① 당행 고객정보에 등록되어있는 연락처로 ARS 추가인증 가능한 경우: - 인터넷뱅킹 로그인→ 사용자관리→ 인터넷뱅킹관리→ 장기미사용 정지해제 (또는) - 쏠(SOL) 로그인→ 전체메뉴→ 이체 → 이체관리→ 장기미사용정지 해제 ② ARS 추가인증이 불가한 경우 (해외체류 고객등) : - 인터넷뱅킹에서는 해제 어려우며, 쏠 (SOL)에서 해제 가능합니다. 쏠(SOL)의 경로는 위와 동일하며, 비대면 실명인증후 해제 가능합니다. 비대면실명인증 - 만 14세이상 가능 - 신분증확인 (주민등록증 또는 운전면허증 또는 여권) - 본인확인 (본인명의 계좌인증 또는 영상통화) 진행 기타 궁금하신 내용은 신한은행 고객센터 1599-8000로 문의하여 주시기 바랍니다\n",
      "{'source': '신한은행', 'row': 40, 'type': '인터넷뱅킹', 'timestamp': 1701407810.843943}\n",
      "---------------------\n",
      "_id in index:  71be7c6f-e81b-4cdd-8f10-9e09b4034acf\n",
      "1.4002266\n",
      "ask: 영문뱅킹에서도 간편조회서비스 이용가능한가요?\n",
      "Information: 영문뱅킹에서는 간편조회서비스 이용불가합니다.\n",
      "{'source': '신한은행', 'row': 18, 'type': '간편서비스', 'timestamp': 1701407810.8438754}\n",
      "---------------------\n"
     ]
    }
   ],
   "source": [
    "query = \"뱅킹\"\n",
    "query = opensearch_utils.get_query(\n",
    "  query=query\n",
    ")\n",
    "print(\"query: \", query)\n",
    "resp = opensearch_utils.search_document(os_client, query, new_index_name)\n",
    "opensearch_utils.parse_keyword_response(resp, show_size=3)"
   ]
  },
  {
   "cell_type": "markdown",
   "metadata": {},
   "source": [
    "### 형태소 분석 결과 확인\n",
    "\"약관\" 또는 \"뱅킹\" 확인\n",
    "[중요]: doc_id: 위의 문서 인덱스 정보 확인 후 수정"
   ]
  },
  {
   "cell_type": "code",
   "execution_count": 25,
   "metadata": {},
   "outputs": [],
   "source": [
    "doc_id = \"769c514b-6103-43bc-b46c-1b47412b8281\""
   ]
  },
  {
   "cell_type": "code",
   "execution_count": 26,
   "metadata": {},
   "outputs": [
    {
     "data": {
      "text/plain": [
       "{'_index': 'genai-demo-index-v1',\n",
       " '_id': '769c514b-6103-43bc-b46c-1b47412b8281',\n",
       " '_version': 1,\n",
       " 'found': True,\n",
       " 'took': 153,\n",
       " 'term_vectors': {'text': {'field_statistics': {'sum_doc_freq': 1021,\n",
       "    'doc_count': 22,\n",
       "    'sum_ttf': 1225},\n",
       "   'terms': {'12개월': {'term_freq': 1,\n",
       "     'tokens': [{'position': 1, 'start_offset': 5, 'end_offset': 9}]},\n",
       "    '12개월동안': {'term_freq': 1,\n",
       "     'tokens': [{'position': 10, 'start_offset': 58, 'end_offset': 64}]},\n",
       "    '14세이상': {'term_freq': 1,\n",
       "     'tokens': [{'position': 94, 'start_offset': 475, 'end_offset': 480}]},\n",
       "    '1599': {'term_freq': 1,\n",
       "     'tokens': [{'position': 113, 'start_offset': 567, 'end_offset': 571}]},\n",
       "    '8000로': {'term_freq': 1,\n",
       "     'tokens': [{'position': 114, 'start_offset': 572, 'end_offset': 577}]},\n",
       "    'ars': {'term_freq': 2,\n",
       "     'tokens': [{'position': 49, 'start_offset': 246, 'end_offset': 249},\n",
       "      {'position': 68, 'start_offset': 352, 'end_offset': 355}]},\n",
       "    'ask': {'term_freq': 1,\n",
       "     'tokens': [{'position': 0, 'start_offset': 0, 'end_offset': 3}]},\n",
       "    'information': {'term_freq': 1,\n",
       "     'tokens': [{'position': 8, 'start_offset': 42, 'end_offset': 53}]},\n",
       "    'sol': {'term_freq': 4,\n",
       "     'tokens': [{'position': 31, 'start_offset': 164, 'end_offset': 167},\n",
       "      {'position': 61, 'start_offset': 312, 'end_offset': 315},\n",
       "      {'position': 78, 'start_offset': 405, 'end_offset': 408},\n",
       "      {'position': 83, 'start_offset': 424, 'end_offset': 427}]},\n",
       "    '가능': {'term_freq': 1,\n",
       "     'tokens': [{'position': 95, 'start_offset': 481, 'end_offset': 483}]},\n",
       "    '가능한': {'term_freq': 1,\n",
       "     'tokens': [{'position': 51, 'start_offset': 255, 'end_offset': 258}]},\n",
       "    '가능합니다': {'term_freq': 2,\n",
       "     'tokens': [{'position': 81, 'start_offset': 415, 'end_offset': 420},\n",
       "      {'position': 91, 'start_offset': 456, 'end_offset': 461}]},\n",
       "    '경로': {'term_freq': 1,\n",
       "     'tokens': [{'position': 44, 'start_offset': 219, 'end_offset': 221}]},\n",
       "    '경로는': {'term_freq': 1,\n",
       "     'tokens': [{'position': 85, 'start_offset': 430, 'end_offset': 433}]},\n",
       "    '경우': {'term_freq': 5,\n",
       "     'tokens': [{'position': 5, 'start_offset': 28, 'end_offset': 30},\n",
       "      {'position': 17, 'start_offset': 98, 'end_offset': 100},\n",
       "      {'position': 43, 'start_offset': 214, 'end_offset': 216},\n",
       "      {'position': 52, 'start_offset': 259, 'end_offset': 261},\n",
       "      {'position': 71, 'start_offset': 366, 'end_offset': 368}]},\n",
       "    '경우에는': {'term_freq': 1,\n",
       "     'tokens': [{'position': 27, 'start_offset': 145, 'end_offset': 149}]},\n",
       "    '계좌인증': {'term_freq': 1,\n",
       "     'tokens': [{'position': 104, 'start_offset': 528, 'end_offset': 532}]},\n",
       "    '고객님의': {'term_freq': 1,\n",
       "     'tokens': [{'position': 18, 'start_offset': 101, 'end_offset': 105}]},\n",
       "    '고객등': {'term_freq': 1,\n",
       "     'tokens': [{'position': 73, 'start_offset': 375, 'end_offset': 378}]},\n",
       "    '고객센터': {'term_freq': 1,\n",
       "     'tokens': [{'position': 112, 'start_offset': 562, 'end_offset': 566}]},\n",
       "    '고객정보에': {'term_freq': 1,\n",
       "     'tokens': [{'position': 46, 'start_offset': 228, 'end_offset': 233}]},\n",
       "    '궁금하신': {'term_freq': 1,\n",
       "     'tokens': [{'position': 109, 'start_offset': 548, 'end_offset': 552}]},\n",
       "    '금융자산': {'term_freq': 1,\n",
       "     'tokens': [{'position': 19, 'start_offset': 106, 'end_offset': 110}]},\n",
       "    '기타': {'term_freq': 1,\n",
       "     'tokens': [{'position': 108, 'start_offset': 545, 'end_offset': 547}]},\n",
       "    '내용은': {'term_freq': 1,\n",
       "     'tokens': [{'position': 110, 'start_offset': 553, 'end_offset': 556}]},\n",
       "    '다시': {'term_freq': 1,\n",
       "     'tokens': [{'position': 24, 'start_offset': 133, 'end_offset': 135}]},\n",
       "    '단': {'term_freq': 1,\n",
       "     'tokens': [{'position': 38, 'start_offset': 191, 'end_offset': 192}]},\n",
       "    '당행': {'term_freq': 1,\n",
       "     'tokens': [{'position': 45, 'start_offset': 225, 'end_offset': 227}]},\n",
       "    '동일하며': {'term_freq': 1,\n",
       "     'tokens': [{'position': 87, 'start_offset': 437, 'end_offset': 441}]},\n",
       "    '등록되어': {'term_freq': 1,\n",
       "     'tokens': [{'position': 41, 'start_offset': 206, 'end_offset': 210}]},\n",
       "    '등록되어있는': {'term_freq': 1,\n",
       "     'tokens': [{'position': 47, 'start_offset': 234, 'end_offset': 240}]},\n",
       "    '또는': {'term_freq': 4,\n",
       "     'tokens': [{'position': 59, 'start_offset': 304, 'end_offset': 306},\n",
       "      {'position': 98, 'start_offset': 499, 'end_offset': 501},\n",
       "      {'position': 100, 'start_offset': 508, 'end_offset': 510},\n",
       "      {'position': 105, 'start_offset': 533, 'end_offset': 535}]},\n",
       "    '로그인': {'term_freq': 2,\n",
       "     'tokens': [{'position': 54, 'start_offset': 271, 'end_offset': 274},\n",
       "      {'position': 62, 'start_offset': 317, 'end_offset': 320}]},\n",
       "    '만': {'term_freq': 1,\n",
       "     'tokens': [{'position': 93, 'start_offset': 473, 'end_offset': 474}]},\n",
       "    '모바일뱅킹에서': {'term_freq': 1,\n",
       "     'tokens': [{'position': 13, 'start_offset': 75, 'end_offset': 82}]},\n",
       "    '문의하여': {'term_freq': 1,\n",
       "     'tokens': [{'position': 115, 'start_offset': 578, 'end_offset': 582}]},\n",
       "    '바랍니다': {'term_freq': 1,\n",
       "     'tokens': [{'position': 117, 'start_offset': 587, 'end_offset': 591}]},\n",
       "    '보호를': {'term_freq': 1,\n",
       "     'tokens': [{'position': 20, 'start_offset': 111, 'end_offset': 114}]},\n",
       "    '본인명의': {'term_freq': 1,\n",
       "     'tokens': [{'position': 103, 'start_offset': 523, 'end_offset': 527}]},\n",
       "    '본인확인': {'term_freq': 1,\n",
       "     'tokens': [{'position': 102, 'start_offset': 517, 'end_offset': 521}]},\n",
       "    '불가한': {'term_freq': 1,\n",
       "     'tokens': [{'position': 70, 'start_offset': 362, 'end_offset': 365}]},\n",
       "    '비대면': {'term_freq': 1,\n",
       "     'tokens': [{'position': 88, 'start_offset': 443, 'end_offset': 446}]},\n",
       "    '비대면실명인증': {'term_freq': 1,\n",
       "     'tokens': [{'position': 92, 'start_offset': 463, 'end_offset': 470}]},\n",
       "    '사용자관리': {'term_freq': 1,\n",
       "     'tokens': [{'position': 55, 'start_offset': 276, 'end_offset': 281}]},\n",
       "    '수': {'term_freq': 1,\n",
       "     'tokens': [{'position': 36, 'start_offset': 183, 'end_offset': 184}]},\n",
       "    '신분증확인': {'term_freq': 1,\n",
       "     'tokens': [{'position': 96, 'start_offset': 486, 'end_offset': 491}]},\n",
       "    '신한쏠': {'term_freq': 1,\n",
       "     'tokens': [{'position': 30, 'start_offset': 160, 'end_offset': 163}]},\n",
       "    '신한은행': {'term_freq': 1,\n",
       "     'tokens': [{'position': 111, 'start_offset': 557, 'end_offset': 561}]},\n",
       "    '실명인증후': {'term_freq': 1,\n",
       "     'tokens': [{'position': 89, 'start_offset': 447, 'end_offset': 452}]},\n",
       "    '쏠': {'term_freq': 3,\n",
       "     'tokens': [{'position': 60, 'start_offset': 310, 'end_offset': 311},\n",
       "      {'position': 77, 'start_offset': 402, 'end_offset': 403},\n",
       "      {'position': 82, 'start_offset': 422, 'end_offset': 423}]},\n",
       "    '않은': {'term_freq': 1,\n",
       "     'tokens': [{'position': 16, 'start_offset': 95, 'end_offset': 97}]},\n",
       "    '어떻게': {'term_freq': 1,\n",
       "     'tokens': [{'position': 6, 'start_offset': 31, 'end_offset': 34}]},\n",
       "    '어려우며': {'term_freq': 1,\n",
       "     'tokens': [{'position': 76, 'start_offset': 396, 'end_offset': 400}]},\n",
       "    '에서': {'term_freq': 2,\n",
       "     'tokens': [{'position': 32, 'start_offset': 168, 'end_offset': 170},\n",
       "      {'position': 79, 'start_offset': 409, 'end_offset': 411}]},\n",
       "    '여권': {'term_freq': 1,\n",
       "     'tokens': [{'position': 101, 'start_offset': 511, 'end_offset': 513}]},\n",
       "    '연락처로': {'term_freq': 1,\n",
       "     'tokens': [{'position': 48, 'start_offset': 241, 'end_offset': 245}]},\n",
       "    '영상통화': {'term_freq': 1,\n",
       "     'tokens': [{'position': 106, 'start_offset': 536, 'end_offset': 540}]},\n",
       "    '운전면허증': {'term_freq': 1,\n",
       "     'tokens': [{'position': 99, 'start_offset': 502, 'end_offset': 507}]},\n",
       "    '원하시는': {'term_freq': 1,\n",
       "     'tokens': [{'position': 26, 'start_offset': 140, 'end_offset': 144}]},\n",
       "    '위와': {'term_freq': 1,\n",
       "     'tokens': [{'position': 86, 'start_offset': 434, 'end_offset': 436}]},\n",
       "    '위하여': {'term_freq': 1,\n",
       "     'tokens': [{'position': 21, 'start_offset': 115, 'end_offset': 118}]},\n",
       "    '의': {'term_freq': 1,\n",
       "     'tokens': [{'position': 84, 'start_offset': 428, 'end_offset': 429}]},\n",
       "    '이용하지': {'term_freq': 1,\n",
       "     'tokens': [{'position': 15, 'start_offset': 90, 'end_offset': 94}]},\n",
       "    '이체': {'term_freq': 1,\n",
       "     'tokens': [{'position': 64, 'start_offset': 328, 'end_offset': 330}]},\n",
       "    '이체관리': {'term_freq': 1,\n",
       "     'tokens': [{'position': 65, 'start_offset': 333, 'end_offset': 337}]},\n",
       "    '이체를': {'term_freq': 1,\n",
       "     'tokens': [{'position': 25, 'start_offset': 136, 'end_offset': 139}]},\n",
       "    '이체서비스가': {'term_freq': 2,\n",
       "     'tokens': [{'position': 3, 'start_offset': 17, 'end_offset': 23},\n",
       "      {'position': 22, 'start_offset': 119, 'end_offset': 125}]},\n",
       "    '이체서비스를': {'term_freq': 1,\n",
       "     'tokens': [{'position': 14, 'start_offset': 83, 'end_offset': 89}]},\n",
       "    '이체정지': {'term_freq': 1,\n",
       "     'tokens': [{'position': 33, 'start_offset': 171, 'end_offset': 175}]},\n",
       "    '인터넷뱅킹': {'term_freq': 4,\n",
       "     'tokens': [{'position': 11, 'start_offset': 65, 'end_offset': 70},\n",
       "      {'position': 28, 'start_offset': 150, 'end_offset': 155},\n",
       "      {'position': 39, 'start_offset': 194, 'end_offset': 199},\n",
       "      {'position': 53, 'start_offset': 265, 'end_offset': 270}]},\n",
       "    '인터넷뱅킹관리': {'term_freq': 1,\n",
       "     'tokens': [{'position': 56, 'start_offset': 283, 'end_offset': 290}]},\n",
       "    '인터넷뱅킹에서는': {'term_freq': 1,\n",
       "     'tokens': [{'position': 74, 'start_offset': 384, 'end_offset': 392}]},\n",
       "    '있는': {'term_freq': 1,\n",
       "     'tokens': [{'position': 42, 'start_offset': 211, 'end_offset': 213}]},\n",
       "    '있습니다': {'term_freq': 1,\n",
       "     'tokens': [{'position': 37, 'start_offset': 185, 'end_offset': 189}]},\n",
       "    '장기미사용': {'term_freq': 1,\n",
       "     'tokens': [{'position': 57, 'start_offset': 292, 'end_offset': 297}]},\n",
       "    '장기미사용정지': {'term_freq': 1,\n",
       "     'tokens': [{'position': 66, 'start_offset': 339, 'end_offset': 346}]},\n",
       "    '장기미이체로': {'term_freq': 1,\n",
       "     'tokens': [{'position': 2, 'start_offset': 10, 'end_offset': 16}]},\n",
       "    '전체메뉴': {'term_freq': 1,\n",
       "     'tokens': [{'position': 63, 'start_offset': 322, 'end_offset': 326}]},\n",
       "    '정지해제': {'term_freq': 1,\n",
       "     'tokens': [{'position': 58, 'start_offset': 298, 'end_offset': 302}]},\n",
       "    '주민등록증': {'term_freq': 1,\n",
       "     'tokens': [{'position': 97, 'start_offset': 493, 'end_offset': 498}]},\n",
       "    '주시기': {'term_freq': 1,\n",
       "     'tokens': [{'position': 116, 'start_offset': 583, 'end_offset': 586}]},\n",
       "    '중단됩니다': {'term_freq': 1,\n",
       "     'tokens': [{'position': 23, 'start_offset': 126, 'end_offset': 131}]},\n",
       "    '중지된': {'term_freq': 1,\n",
       "     'tokens': [{'position': 4, 'start_offset': 24, 'end_offset': 27}]},\n",
       "    '진행': {'term_freq': 1,\n",
       "     'tokens': [{'position': 107, 'start_offset': 542, 'end_offset': 544}]},\n",
       "    '최근': {'term_freq': 1,\n",
       "     'tokens': [{'position': 9, 'start_offset': 55, 'end_offset': 57}]},\n",
       "    '추가인증': {'term_freq': 1,\n",
       "     'tokens': [{'position': 50, 'start_offset': 250, 'end_offset': 254}]},\n",
       "    '추가인증이': {'term_freq': 1,\n",
       "     'tokens': [{'position': 69, 'start_offset': 356, 'end_offset': 361}]},\n",
       "    '출금계좌가': {'term_freq': 1,\n",
       "     'tokens': [{'position': 40, 'start_offset': 200, 'end_offset': 205}]},\n",
       "    '폰뱅킹': {'term_freq': 2,\n",
       "     'tokens': [{'position': 12, 'start_offset': 71, 'end_offset': 74},\n",
       "      {'position': 29, 'start_offset': 156, 'end_offset': 159}]},\n",
       "    '하실': {'term_freq': 1,\n",
       "     'tokens': [{'position': 35, 'start_offset': 180, 'end_offset': 182}]},\n",
       "    '해외체류': {'term_freq': 1,\n",
       "     'tokens': [{'position': 72, 'start_offset': 370, 'end_offset': 374}]},\n",
       "    '해제': {'term_freq': 4,\n",
       "     'tokens': [{'position': 67, 'start_offset': 347, 'end_offset': 349},\n",
       "      {'position': 75, 'start_offset': 393, 'end_offset': 395},\n",
       "      {'position': 80, 'start_offset': 412, 'end_offset': 414},\n",
       "      {'position': 90, 'start_offset': 453, 'end_offset': 455}]},\n",
       "    '해제를': {'term_freq': 1,\n",
       "     'tokens': [{'position': 34, 'start_offset': 176, 'end_offset': 179}]},\n",
       "    '해제하나요': {'term_freq': 1,\n",
       "     'tokens': [{'position': 7, 'start_offset': 35, 'end_offset': 40}]}}}}}"
      ]
     },
     "execution_count": 26,
     "metadata": {},
     "output_type": "execute_result"
    }
   ],
   "source": [
    "os_client.termvectors(index=index_name, id=doc_id, fields='text')"
   ]
  },
  {
   "cell_type": "code",
   "execution_count": 27,
   "metadata": {},
   "outputs": [
    {
     "data": {
      "text/plain": [
       "{'_index': 'genai-demo-index-v1-with-tokenizer',\n",
       " '_id': '769c514b-6103-43bc-b46c-1b47412b8281',\n",
       " '_version': 1,\n",
       " 'found': True,\n",
       " 'took': 33,\n",
       " 'term_vectors': {'text': {'field_statistics': {'sum_doc_freq': 1562,\n",
       "    'doc_count': 22,\n",
       "    'sum_ttf': 2898},\n",
       "   'terms': {'10014': {'term_freq': 1,\n",
       "     'tokens': [{'position': 194, 'start_offset': 473, 'end_offset': 477}]},\n",
       "    '12': {'term_freq': 2,\n",
       "     'tokens': [{'position': 1, 'start_offset': 5, 'end_offset': 7},\n",
       "      {'position': 20, 'start_offset': 58, 'end_offset': 60}]},\n",
       "    '15998000': {'term_freq': 1,\n",
       "     'tokens': [{'position': 232, 'start_offset': 567, 'end_offset': 576}]},\n",
       "    '2': {'term_freq': 1,\n",
       "     'tokens': [{'position': 147, 'start_offset': 360, 'end_offset': 361}]},\n",
       "    'ars': {'term_freq': 2,\n",
       "     'tokens': [{'position': 108, 'start_offset': 246, 'end_offset': 249},\n",
       "      {'position': 144, 'start_offset': 352, 'end_offset': 355}]},\n",
       "    'ask': {'term_freq': 1,\n",
       "     'tokens': [{'position': 0, 'start_offset': 0, 'end_offset': 3}]},\n",
       "    'information': {'term_freq': 1,\n",
       "     'tokens': [{'position': 18, 'start_offset': 42, 'end_offset': 53}]},\n",
       "    'sol': {'term_freq': 4,\n",
       "     'tokens': [{'position': 69, 'start_offset': 164, 'end_offset': 167},\n",
       "      {'position': 131, 'start_offset': 312, 'end_offset': 315},\n",
       "      {'position': 164, 'start_offset': 405, 'end_offset': 408},\n",
       "      {'position': 171, 'start_offset': 424, 'end_offset': 427}]},\n",
       "    'ᄇ니다': {'term_freq': 4,\n",
       "     'tokens': [{'position': 53, 'start_offset': 128, 'end_offset': 131},\n",
       "      {'position': 169, 'start_offset': 417, 'end_offset': 420},\n",
       "      {'position': 189, 'start_offset': 458, 'end_offset': 461},\n",
       "      {'position': 241, 'start_offset': 587, 'end_offset': 591}]},\n",
       "    'ᆫ': {'term_freq': 5,\n",
       "     'tokens': [{'position': 12, 'start_offset': 26, 'end_offset': 27},\n",
       "      {'position': 113, 'start_offset': 257, 'end_offset': 258},\n",
       "      {'position': 150, 'start_offset': 364, 'end_offset': 365},\n",
       "      {'position': 184, 'start_offset': 449, 'end_offset': 450},\n",
       "      {'position': 225, 'start_offset': 551, 'end_offset': 552}]},\n",
       "    'ᆯ': {'term_freq': 1,\n",
       "     'tokens': [{'position': 77, 'start_offset': 181, 'end_offset': 182}]},\n",
       "    '①': {'term_freq': 1,\n",
       "     'tokens': [{'position': 94, 'start_offset': 223, 'end_offset': 224}]},\n",
       "    '②': {'term_freq': 1,\n",
       "     'tokens': [{'position': 143, 'start_offset': 350, 'end_offset': 351}]},\n",
       "    '가': {'term_freq': 3,\n",
       "     'tokens': [{'position': 9, 'start_offset': 22, 'end_offset': 23},\n",
       "      {'position': 50, 'start_offset': 124, 'end_offset': 125},\n",
       "      {'position': 86, 'start_offset': 204, 'end_offset': 205}]},\n",
       "    '가능': {'term_freq': 4,\n",
       "     'tokens': [{'position': 111, 'start_offset': 255, 'end_offset': 257},\n",
       "      {'position': 167, 'start_offset': 415, 'end_offset': 417},\n",
       "      {'position': 187, 'start_offset': 456, 'end_offset': 458},\n",
       "      {'position': 197, 'start_offset': 481, 'end_offset': 483}]},\n",
       "    '개월': {'term_freq': 2,\n",
       "     'tokens': [{'position': 2, 'start_offset': 7, 'end_offset': 9},\n",
       "      {'position': 21, 'start_offset': 60, 'end_offset': 62}]},\n",
       "    '경로': {'term_freq': 2,\n",
       "     'tokens': [{'position': 93, 'start_offset': 219, 'end_offset': 221},\n",
       "      {'position': 173, 'start_offset': 430, 'end_offset': 432}]},\n",
       "    '경우': {'term_freq': 6,\n",
       "     'tokens': [{'position': 13, 'start_offset': 28, 'end_offset': 30},\n",
       "      {'position': 38, 'start_offset': 98, 'end_offset': 100},\n",
       "      {'position': 60, 'start_offset': 145, 'end_offset': 147},\n",
       "      {'position': 92, 'start_offset': 214, 'end_offset': 216},\n",
       "      {'position': 114, 'start_offset': 259, 'end_offset': 261},\n",
       "      {'position': 151, 'start_offset': 366, 'end_offset': 368}]},\n",
       "    '계좌': {'term_freq': 2,\n",
       "     'tokens': [{'position': 85, 'start_offset': 202, 'end_offset': 204},\n",
       "      {'position': 215, 'start_offset': 528, 'end_offset': 530}]},\n",
       "    '고객': {'term_freq': 4,\n",
       "     'tokens': [{'position': 39, 'start_offset': 101, 'end_offset': 103},\n",
       "      {'position': 97, 'start_offset': 228, 'end_offset': 230},\n",
       "      {'position': 154, 'start_offset': 375, 'end_offset': 377},\n",
       "      {'position': 230, 'start_offset': 562, 'end_offset': 564}]},\n",
       "    '관리': {'term_freq': 3,\n",
       "     'tokens': [{'position': 120, 'start_offset': 279, 'end_offset': 281},\n",
       "      {'position': 123, 'start_offset': 288, 'end_offset': 290},\n",
       "      {'position': 137, 'start_offset': 335, 'end_offset': 337}]},\n",
       "    '궁금': {'term_freq': 1,\n",
       "     'tokens': [{'position': 222, 'start_offset': 548, 'end_offset': 550}]},\n",
       "    '금융': {'term_freq': 1,\n",
       "     'tokens': [{'position': 42, 'start_offset': 106, 'end_offset': 108}]},\n",
       "    '기': {'term_freq': 1,\n",
       "     'tokens': [{'position': 239, 'start_offset': 585, 'end_offset': 586}]},\n",
       "    '기타': {'term_freq': 1,\n",
       "     'tokens': [{'position': 221, 'start_offset': 545, 'end_offset': 547}]},\n",
       "    '나요': {'term_freq': 1,\n",
       "     'tokens': [{'position': 17, 'start_offset': 38, 'end_offset': 40}]},\n",
       "    '내용': {'term_freq': 1,\n",
       "     'tokens': [{'position': 226, 'start_offset': 553, 'end_offset': 555}]},\n",
       "    '는': {'term_freq': 6,\n",
       "     'tokens': [{'position': 59, 'start_offset': 143, 'end_offset': 144},\n",
       "      {'position': 62, 'start_offset': 148, 'end_offset': 149},\n",
       "      {'position': 91, 'start_offset': 212, 'end_offset': 213},\n",
       "      {'position': 104, 'start_offset': 239, 'end_offset': 240},\n",
       "      {'position': 159, 'start_offset': 391, 'end_offset': 392},\n",
       "      {'position': 174, 'start_offset': 432, 'end_offset': 433}]},\n",
       "    '님': {'term_freq': 1,\n",
       "     'tokens': [{'position': 40, 'start_offset': 103, 'end_offset': 104}]},\n",
       "    '다시': {'term_freq': 1,\n",
       "     'tokens': [{'position': 54, 'start_offset': 133, 'end_offset': 135}]},\n",
       "    '단': {'term_freq': 1,\n",
       "     'tokens': [{'position': 81, 'start_offset': 191, 'end_offset': 192}]},\n",
       "    '당': {'term_freq': 1,\n",
       "     'tokens': [{'position': 95, 'start_offset': 225, 'end_offset': 226}]},\n",
       "    '동안': {'term_freq': 1,\n",
       "     'tokens': [{'position': 22, 'start_offset': 62, 'end_offset': 64}]},\n",
       "    '동일': {'term_freq': 1,\n",
       "     'tokens': [{'position': 177, 'start_offset': 437, 'end_offset': 439}]},\n",
       "    '되': {'term_freq': 4,\n",
       "     'tokens': [{'position': 11, 'start_offset': 26, 'end_offset': 27},\n",
       "      {'position': 52, 'start_offset': 128, 'end_offset': 131},\n",
       "      {'position': 88, 'start_offset': 208, 'end_offset': 209},\n",
       "      {'position': 101, 'start_offset': 236, 'end_offset': 237}]},\n",
       "    '된': {'term_freq': 1,\n",
       "     'tokens': [{'position': 11, 'start_offset': 26, 'end_offset': 27}]},\n",
       "    '됩니다': {'term_freq': 1,\n",
       "     'tokens': [{'position': 52, 'start_offset': 128, 'end_offset': 131}]},\n",
       "    '등': {'term_freq': 1,\n",
       "     'tokens': [{'position': 155, 'start_offset': 377, 'end_offset': 378}]},\n",
       "    '등록': {'term_freq': 3,\n",
       "     'tokens': [{'position': 87, 'start_offset': 206, 'end_offset': 208},\n",
       "      {'position': 100, 'start_offset': 234, 'end_offset': 236},\n",
       "      {'position': 202, 'start_offset': 495, 'end_offset': 497}]},\n",
       "    '등록증': {'term_freq': 1,\n",
       "     'tokens': [{'position': 202, 'start_offset': 495, 'end_offset': 498}]},\n",
       "    '또는': {'term_freq': 4,\n",
       "     'tokens': [{'position': 129, 'start_offset': 304, 'end_offset': 306},\n",
       "      {'position': 204, 'start_offset': 499, 'end_offset': 501},\n",
       "      {'position': 208, 'start_offset': 508, 'end_offset': 510},\n",
       "      {'position': 217, 'start_offset': 533, 'end_offset': 535}]},\n",
       "    '로': {'term_freq': 3,\n",
       "     'tokens': [{'position': 6, 'start_offset': 15, 'end_offset': 16},\n",
       "      {'position': 107, 'start_offset': 244, 'end_offset': 245},\n",
       "      {'position': 233, 'start_offset': 576, 'end_offset': 577}]},\n",
       "    '로그인': {'term_freq': 2,\n",
       "     'tokens': [{'position': 117, 'start_offset': 271, 'end_offset': 274},\n",
       "      {'position': 132, 'start_offset': 317, 'end_offset': 320}]},\n",
       "    '를': {'term_freq': 4,\n",
       "     'tokens': [{'position': 32, 'start_offset': 88, 'end_offset': 89},\n",
       "      {'position': 45, 'start_offset': 113, 'end_offset': 114},\n",
       "      {'position': 56, 'start_offset': 138, 'end_offset': 139},\n",
       "      {'position': 74, 'start_offset': 178, 'end_offset': 179}]},\n",
       "    '메뉴': {'term_freq': 1,\n",
       "     'tokens': [{'position': 134, 'start_offset': 324, 'end_offset': 326}]},\n",
       "    '며': {'term_freq': 2,\n",
       "     'tokens': [{'position': 162, 'start_offset': 399, 'end_offset': 400},\n",
       "      {'position': 179, 'start_offset': 440, 'end_offset': 441}]},\n",
       "    '면': {'term_freq': 2,\n",
       "     'tokens': [{'position': 181, 'start_offset': 445, 'end_offset': 446},\n",
       "      {'position': 191, 'start_offset': 465, 'end_offset': 466}]},\n",
       "    '면허': {'term_freq': 1,\n",
       "     'tokens': [{'position': 206, 'start_offset': 504, 'end_offset': 506}]},\n",
       "    '면허증': {'term_freq': 1,\n",
       "     'tokens': [{'position': 206, 'start_offset': 504, 'end_offset': 507}]},\n",
       "    '모바일': {'term_freq': 1,\n",
       "     'tokens': [{'position': 27, 'start_offset': 75, 'end_offset': 78}]},\n",
       "    '문의': {'term_freq': 1,\n",
       "     'tokens': [{'position': 234, 'start_offset': 578, 'end_offset': 580}]},\n",
       "    '미': {'term_freq': 3,\n",
       "     'tokens': [{'position': 4, 'start_offset': 12, 'end_offset': 13},\n",
       "      {'position': 125, 'start_offset': 294, 'end_offset': 295},\n",
       "      {'position': 139, 'start_offset': 341, 'end_offset': 342}]},\n",
       "    '바라': {'term_freq': 1,\n",
       "     'tokens': [{'position': 240, 'start_offset': 587, 'end_offset': 591}]},\n",
       "    '바랍니다': {'term_freq': 1,\n",
       "     'tokens': [{'position': 240, 'start_offset': 587, 'end_offset': 591}]},\n",
       "    '뱅킹': {'term_freq': 9,\n",
       "     'tokens': [{'position': 24, 'start_offset': 68, 'end_offset': 70},\n",
       "      {'position': 26, 'start_offset': 72, 'end_offset': 74},\n",
       "      {'position': 28, 'start_offset': 78, 'end_offset': 80},\n",
       "      {'position': 64, 'start_offset': 153, 'end_offset': 155},\n",
       "      {'position': 66, 'start_offset': 157, 'end_offset': 159},\n",
       "      {'position': 83, 'start_offset': 197, 'end_offset': 199},\n",
       "      {'position': 116, 'start_offset': 268, 'end_offset': 270},\n",
       "      {'position': 122, 'start_offset': 286, 'end_offset': 288},\n",
       "      {'position': 157, 'start_offset': 387, 'end_offset': 389}]},\n",
       "    '보호': {'term_freq': 1,\n",
       "     'tokens': [{'position': 44, 'start_offset': 111, 'end_offset': 113}]},\n",
       "    '본': {'term_freq': 1,\n",
       "     'tokens': [{'position': 212, 'start_offset': 523, 'end_offset': 524}]},\n",
       "    '본인': {'term_freq': 1,\n",
       "     'tokens': [{'position': 210, 'start_offset': 517, 'end_offset': 519}]},\n",
       "    '불가': {'term_freq': 1,\n",
       "     'tokens': [{'position': 148, 'start_offset': 362, 'end_offset': 364}]},\n",
       "    '비대': {'term_freq': 2,\n",
       "     'tokens': [{'position': 180, 'start_offset': 443, 'end_offset': 445},\n",
       "      {'position': 190, 'start_offset': 463, 'end_offset': 465}]},\n",
       "    '사용': {'term_freq': 3,\n",
       "     'tokens': [{'position': 118, 'start_offset': 276, 'end_offset': 278},\n",
       "      {'position': 126, 'start_offset': 295, 'end_offset': 297},\n",
       "      {'position': 140, 'start_offset': 342, 'end_offset': 344}]},\n",
       "    '서비스': {'term_freq': 3,\n",
       "     'tokens': [{'position': 8, 'start_offset': 19, 'end_offset': 22},\n",
       "      {'position': 31, 'start_offset': 85, 'end_offset': 88},\n",
       "      {'position': 49, 'start_offset': 121, 'end_offset': 124}]},\n",
       "    '세': {'term_freq': 1,\n",
       "     'tokens': [{'position': 195, 'start_offset': 477, 'end_offset': 478}]},\n",
       "    '센터': {'term_freq': 1,\n",
       "     'tokens': [{'position': 231, 'start_offset': 564, 'end_offset': 566}]},\n",
       "    '수': {'term_freq': 1,\n",
       "     'tokens': [{'position': 78, 'start_offset': 183, 'end_offset': 184}]},\n",
       "    '습니다': {'term_freq': 1,\n",
       "     'tokens': [{'position': 80, 'start_offset': 186, 'end_offset': 189}]},\n",
       "    '시': {'term_freq': 4,\n",
       "     'tokens': [{'position': 58, 'start_offset': 142, 'end_offset': 143},\n",
       "      {'position': 76, 'start_offset': 181, 'end_offset': 182},\n",
       "      {'position': 224, 'start_offset': 551, 'end_offset': 552},\n",
       "      {'position': 238, 'start_offset': 584, 'end_offset': 585}]},\n",
       "    '신': {'term_freq': 1,\n",
       "     'tokens': [{'position': 224, 'start_offset': 551, 'end_offset': 552}]},\n",
       "    '신분': {'term_freq': 1,\n",
       "     'tokens': [{'position': 198, 'start_offset': 486, 'end_offset': 488}]},\n",
       "    '신분증': {'term_freq': 1,\n",
       "     'tokens': [{'position': 198, 'start_offset': 486, 'end_offset': 489}]},\n",
       "    '신한': {'term_freq': 2,\n",
       "     'tokens': [{'position': 67, 'start_offset': 160, 'end_offset': 162},\n",
       "      {'position': 228, 'start_offset': 557, 'end_offset': 559}]},\n",
       "    '신한은행': {'term_freq': 1,\n",
       "     'tokens': [{'position': 228, 'start_offset': 557, 'end_offset': 561}]},\n",
       "    '실': {'term_freq': 1,\n",
       "     'tokens': [{'position': 76, 'start_offset': 181, 'end_offset': 182}]},\n",
       "    '실명': {'term_freq': 2,\n",
       "     'tokens': [{'position': 182, 'start_offset': 447, 'end_offset': 449},\n",
       "      {'position': 192, 'start_offset': 466, 'end_offset': 468}]},\n",
       "    '쏠': {'term_freq': 4,\n",
       "     'tokens': [{'position': 68, 'start_offset': 162, 'end_offset': 163},\n",
       "      {'position': 130, 'start_offset': 310, 'end_offset': 311},\n",
       "      {'position': 163, 'start_offset': 402, 'end_offset': 403},\n",
       "      {'position': 170, 'start_offset': 422, 'end_offset': 423}]},\n",
       "    '않': {'term_freq': 1,\n",
       "     'tokens': [{'position': 36, 'start_offset': 95, 'end_offset': 96}]},\n",
       "    '어': {'term_freq': 2,\n",
       "     'tokens': [{'position': 89, 'start_offset': 209, 'end_offset': 210},\n",
       "      {'position': 102, 'start_offset': 237, 'end_offset': 238}]},\n",
       "    '어떻게': {'term_freq': 1,\n",
       "     'tokens': [{'position': 14, 'start_offset': 31, 'end_offset': 34}]},\n",
       "    '어려우': {'term_freq': 1,\n",
       "     'tokens': [{'position': 161, 'start_offset': 396, 'end_offset': 399}]},\n",
       "    '어렵': {'term_freq': 1,\n",
       "     'tokens': [{'position': 161, 'start_offset': 396, 'end_offset': 399}]},\n",
       "    '에': {'term_freq': 2,\n",
       "     'tokens': [{'position': 61, 'start_offset': 147, 'end_offset': 148},\n",
       "      {'position': 99, 'start_offset': 232, 'end_offset': 233}]},\n",
       "    '에서': {'term_freq': 4,\n",
       "     'tokens': [{'position': 29, 'start_offset': 80, 'end_offset': 82},\n",
       "      {'position': 70, 'start_offset': 168, 'end_offset': 170},\n",
       "      {'position': 158, 'start_offset': 389, 'end_offset': 391},\n",
       "      {'position': 165, 'start_offset': 409, 'end_offset': 411}]},\n",
       "    '여': {'term_freq': 2,\n",
       "     'tokens': [{'position': 47, 'start_offset': 117, 'end_offset': 118},\n",
       "      {'position': 236, 'start_offset': 581, 'end_offset': 582}]},\n",
       "    '여권': {'term_freq': 1,\n",
       "     'tokens': [{'position': 209, 'start_offset': 511, 'end_offset': 513}]},\n",
       "    '연락': {'term_freq': 1,\n",
       "     'tokens': [{'position': 105, 'start_offset': 241, 'end_offset': 243}]},\n",
       "    '연락처': {'term_freq': 1,\n",
       "     'tokens': [{'position': 105, 'start_offset': 241, 'end_offset': 244}]},\n",
       "    '영상': {'term_freq': 1,\n",
       "     'tokens': [{'position': 218, 'start_offset': 536, 'end_offset': 538}]},\n",
       "    '와': {'term_freq': 1,\n",
       "     'tokens': [{'position': 176, 'start_offset': 435, 'end_offset': 436}]},\n",
       "    '운전': {'term_freq': 1,\n",
       "     'tokens': [{'position': 205, 'start_offset': 502, 'end_offset': 504}]},\n",
       "    '원하': {'term_freq': 1,\n",
       "     'tokens': [{'position': 57, 'start_offset': 140, 'end_offset': 142}]},\n",
       "    '위': {'term_freq': 1,\n",
       "     'tokens': [{'position': 175, 'start_offset': 434, 'end_offset': 435}]},\n",
       "    '위하': {'term_freq': 1,\n",
       "     'tokens': [{'position': 46, 'start_offset': 115, 'end_offset': 117}]},\n",
       "    '은': {'term_freq': 2,\n",
       "     'tokens': [{'position': 37, 'start_offset': 96, 'end_offset': 97},\n",
       "      {'position': 227, 'start_offset': 555, 'end_offset': 556}]},\n",
       "    '은행': {'term_freq': 1,\n",
       "     'tokens': [{'position': 229, 'start_offset': 559, 'end_offset': 561}]},\n",
       "    '의': {'term_freq': 3,\n",
       "     'tokens': [{'position': 41, 'start_offset': 104, 'end_offset': 105},\n",
       "      {'position': 172, 'start_offset': 428, 'end_offset': 429},\n",
       "      {'position': 214, 'start_offset': 526, 'end_offset': 527}]},\n",
       "    '이': {'term_freq': 1,\n",
       "     'tokens': [{'position': 183, 'start_offset': 449, 'end_offset': 450}]},\n",
       "    '이상': {'term_freq': 1,\n",
       "     'tokens': [{'position': 196, 'start_offset': 478, 'end_offset': 480}]},\n",
       "    '이용': {'term_freq': 1,\n",
       "     'tokens': [{'position': 33, 'start_offset': 90, 'end_offset': 92}]},\n",
       "    '이체': {'term_freq': 8,\n",
       "     'tokens': [{'position': 5, 'start_offset': 13, 'end_offset': 15},\n",
       "      {'position': 7, 'start_offset': 17, 'end_offset': 19},\n",
       "      {'position': 30, 'start_offset': 83, 'end_offset': 85},\n",
       "      {'position': 48, 'start_offset': 119, 'end_offset': 121},\n",
       "      {'position': 55, 'start_offset': 136, 'end_offset': 138},\n",
       "      {'position': 71, 'start_offset': 171, 'end_offset': 173},\n",
       "      {'position': 135, 'start_offset': 328, 'end_offset': 330},\n",
       "      {'position': 136, 'start_offset': 333, 'end_offset': 335}]},\n",
       "    '인': {'term_freq': 1,\n",
       "     'tokens': [{'position': 183, 'start_offset': 449, 'end_offset': 450}]},\n",
       "    '인명': {'term_freq': 1,\n",
       "     'tokens': [{'position': 213, 'start_offset': 524, 'end_offset': 526}]},\n",
       "    '인증': {'term_freq': 4,\n",
       "     'tokens': [{'position': 110, 'start_offset': 252, 'end_offset': 254},\n",
       "      {'position': 146, 'start_offset': 358, 'end_offset': 360},\n",
       "      {'position': 193, 'start_offset': 468, 'end_offset': 470},\n",
       "      {'position': 216, 'start_offset': 530, 'end_offset': 532}]},\n",
       "    '인터넷': {'term_freq': 6,\n",
       "     'tokens': [{'position': 23, 'start_offset': 65, 'end_offset': 68},\n",
       "      {'position': 63, 'start_offset': 150, 'end_offset': 153},\n",
       "      {'position': 82, 'start_offset': 194, 'end_offset': 197},\n",
       "      {'position': 115, 'start_offset': 265, 'end_offset': 268},\n",
       "      {'position': 121, 'start_offset': 283, 'end_offset': 286},\n",
       "      {'position': 156, 'start_offset': 384, 'end_offset': 387}]},\n",
       "    '있': {'term_freq': 3,\n",
       "     'tokens': [{'position': 79, 'start_offset': 185, 'end_offset': 186},\n",
       "      {'position': 90, 'start_offset': 211, 'end_offset': 212},\n",
       "      {'position': 103, 'start_offset': 238, 'end_offset': 239}]},\n",
       "    '자': {'term_freq': 1,\n",
       "     'tokens': [{'position': 119, 'start_offset': 278, 'end_offset': 279}]},\n",
       "    '자산': {'term_freq': 1,\n",
       "     'tokens': [{'position': 43, 'start_offset': 108, 'end_offset': 110}]},\n",
       "    '장기': {'term_freq': 3,\n",
       "     'tokens': [{'position': 3, 'start_offset': 10, 'end_offset': 12},\n",
       "      {'position': 124, 'start_offset': 292, 'end_offset': 294},\n",
       "      {'position': 138, 'start_offset': 339, 'end_offset': 341}]},\n",
       "    '전체': {'term_freq': 1,\n",
       "     'tokens': [{'position': 133, 'start_offset': 322, 'end_offset': 324}]},\n",
       "    '정보': {'term_freq': 1,\n",
       "     'tokens': [{'position': 98, 'start_offset': 230, 'end_offset': 232}]},\n",
       "    '정지': {'term_freq': 3,\n",
       "     'tokens': [{'position': 72, 'start_offset': 173, 'end_offset': 175},\n",
       "      {'position': 127, 'start_offset': 298, 'end_offset': 300},\n",
       "      {'position': 141, 'start_offset': 344, 'end_offset': 346}]},\n",
       "    '주': {'term_freq': 1,\n",
       "     'tokens': [{'position': 237, 'start_offset': 583, 'end_offset': 584}]},\n",
       "    '주민': {'term_freq': 1,\n",
       "     'tokens': [{'position': 201, 'start_offset': 493, 'end_offset': 495}]},\n",
       "    '중단': {'term_freq': 1,\n",
       "     'tokens': [{'position': 51, 'start_offset': 126, 'end_offset': 128}]},\n",
       "    '중지': {'term_freq': 1,\n",
       "     'tokens': [{'position': 10, 'start_offset': 24, 'end_offset': 26}]},\n",
       "    '증': {'term_freq': 3,\n",
       "     'tokens': [{'position': 199, 'start_offset': 488, 'end_offset': 489},\n",
       "      {'position': 203, 'start_offset': 497, 'end_offset': 498},\n",
       "      {'position': 207, 'start_offset': 506, 'end_offset': 507}]},\n",
       "    '증후': {'term_freq': 1,\n",
       "     'tokens': [{'position': 185, 'start_offset': 450, 'end_offset': 452}]},\n",
       "    '지': {'term_freq': 1,\n",
       "     'tokens': [{'position': 35, 'start_offset': 93, 'end_offset': 94}]},\n",
       "    '진행': {'term_freq': 1,\n",
       "     'tokens': [{'position': 220, 'start_offset': 542, 'end_offset': 544}]},\n",
       "    '처': {'term_freq': 1,\n",
       "     'tokens': [{'position': 106, 'start_offset': 243, 'end_offset': 244}]},\n",
       "    '체류': {'term_freq': 1,\n",
       "     'tokens': [{'position': 153, 'start_offset': 372, 'end_offset': 374}]},\n",
       "    '최근': {'term_freq': 1,\n",
       "     'tokens': [{'position': 19, 'start_offset': 55, 'end_offset': 57}]},\n",
       "    '추가': {'term_freq': 2,\n",
       "     'tokens': [{'position': 109, 'start_offset': 250, 'end_offset': 252},\n",
       "      {'position': 145, 'start_offset': 356, 'end_offset': 358}]},\n",
       "    '출금': {'term_freq': 1,\n",
       "     'tokens': [{'position': 84, 'start_offset': 200, 'end_offset': 202}]},\n",
       "    '통화': {'term_freq': 1,\n",
       "     'tokens': [{'position': 219, 'start_offset': 538, 'end_offset': 540}]},\n",
       "    '폰': {'term_freq': 2,\n",
       "     'tokens': [{'position': 25, 'start_offset': 71, 'end_offset': 72},\n",
       "      {'position': 65, 'start_offset': 156, 'end_offset': 157}]},\n",
       "    '폰뱅킹': {'term_freq': 2,\n",
       "     'tokens': [{'position': 25, 'start_offset': 71, 'end_offset': 74},\n",
       "      {'position': 65, 'start_offset': 156, 'end_offset': 159}]},\n",
       "    '하': {'term_freq': 10,\n",
       "     'tokens': [{'position': 16, 'start_offset': 37, 'end_offset': 38},\n",
       "      {'position': 34, 'start_offset': 92, 'end_offset': 93},\n",
       "      {'position': 75, 'start_offset': 180, 'end_offset': 181},\n",
       "      {'position': 112, 'start_offset': 257, 'end_offset': 258},\n",
       "      {'position': 149, 'start_offset': 364, 'end_offset': 365},\n",
       "      {'position': 168, 'start_offset': 417, 'end_offset': 420},\n",
       "      {'position': 178, 'start_offset': 439, 'end_offset': 440},\n",
       "      {'position': 188, 'start_offset': 458, 'end_offset': 461},\n",
       "      {'position': 223, 'start_offset': 550, 'end_offset': 551},\n",
       "      {'position': 235, 'start_offset': 580, 'end_offset': 581}]},\n",
       "    '한': {'term_freq': 2,\n",
       "     'tokens': [{'position': 112, 'start_offset': 257, 'end_offset': 258},\n",
       "      {'position': 149, 'start_offset': 364, 'end_offset': 365}]},\n",
       "    '합니다': {'term_freq': 2,\n",
       "     'tokens': [{'position': 168, 'start_offset': 417, 'end_offset': 420},\n",
       "      {'position': 188, 'start_offset': 458, 'end_offset': 461}]},\n",
       "    '해외': {'term_freq': 1,\n",
       "     'tokens': [{'position': 152, 'start_offset': 370, 'end_offset': 372}]},\n",
       "    '해제': {'term_freq': 7,\n",
       "     'tokens': [{'position': 15, 'start_offset': 35, 'end_offset': 37},\n",
       "      {'position': 73, 'start_offset': 176, 'end_offset': 178},\n",
       "      {'position': 128, 'start_offset': 300, 'end_offset': 302},\n",
       "      {'position': 142, 'start_offset': 347, 'end_offset': 349},\n",
       "      {'position': 160, 'start_offset': 393, 'end_offset': 395},\n",
       "      {'position': 166, 'start_offset': 412, 'end_offset': 414},\n",
       "      {'position': 186, 'start_offset': 453, 'end_offset': 455}]},\n",
       "    '행': {'term_freq': 1,\n",
       "     'tokens': [{'position': 96, 'start_offset': 226, 'end_offset': 227}]},\n",
       "    '확인': {'term_freq': 2,\n",
       "     'tokens': [{'position': 200, 'start_offset': 489, 'end_offset': 491},\n",
       "      {'position': 211, 'start_offset': 519, 'end_offset': 521}]}}}}}"
      ]
     },
     "execution_count": 27,
     "metadata": {},
     "output_type": "execute_result"
    }
   ],
   "source": [
    "os_client.termvectors(index=new_index_name, id=doc_id, fields='text')"
   ]
  },
  {
   "cell_type": "markdown",
   "metadata": {},
   "source": [
    "### Minimum_should_match 활용\n",
    "query에 있는 단어의 n%이상 존재하는 문서만 가져온다"
   ]
  },
  {
   "cell_type": "code",
   "execution_count": 31,
   "metadata": {},
   "outputs": [
    {
     "name": "stdout",
     "output_type": "stream",
     "text": [
      "query:  {'query': {'bool': {'must': [{'match': {'text': {'query': '인터넷 뱅킹으로 예적금 해약', 'minimum_should_match': '75%', 'operator': 'or'}}}], 'filter': []}}}\n",
      "# of searched docs:  3\n",
      "# of display: 3\n",
      "---------------------\n",
      "_id in index:  9c66aab9-397e-411a-84de-ed9bac54f725\n",
      "12.845038\n",
      "ask: 인터넷 예적금 해약하려면 어떻게 해야 하나요?\n",
      "Information: 인터넷에서 신규하셨고, 이후 통장발급을 받지 않으셨다면 인터넷뱅킹(http://bank.shinhan.com)의 금융상품 예금/신탁 해지 메뉴를 통해 해지하실 수 있습니다.\n",
      "{'source': '신한은행', 'row': 70, 'type': '', 'timestamp': 1701407810.8440356}\n",
      "---------------------\n",
      "_id in index:  4ee7326f-b55e-48ad-9627-979423ab05ce\n",
      "8.189483\n",
      "ask: 인터넷으로 신규 예/적금 신청하는 방법을 알려주세요\n",
      "Information: 인터넷상으로 예금/신탁을 신규가입하시려면 우선 고객님께서는인터넷뱅킹에 가입하셔야 하며 신규방법은 두 가지가 있습니다.1. 인터넷뱅킹에서 가입인터넷뱅킹 로그인을 하신 후 예금/신탁 > 신규 메뉴에서 예금 및 신탁 상품을 신규하실 수 있습니다.2. 신한S뱅크에서 가입신한S뱅크 상품센터 > 예금센터 메뉴에서 예금상품을 신규하실 수 있습니다.\n",
      "{'source': '신한은행', 'row': 85, 'type': '인터넷뱅킹', 'timestamp': 1701407810.8440835}\n",
      "---------------------\n",
      "_id in index:  f742a43f-e704-4f77-af90-f70ddc3e83b8\n",
      "6.601389\n",
      "ask: 해외에서 예적금해지중 ARS 추가인증을 할 수 없어 해지를 할수 없습니다. 어떻게 해야하나요?\n",
      "Information: 해외IP로 인터넷뱅킹접속시 시간에 따라 추가인증 방법이 상이합니다. (한국시간 기준)\n",
      "은행영업일 9시~18시 : 해외거주/체류자인증으로 추가인증 가능하며, 통신국가코드, 연락가능한 해외 전화번호 입력후 본인확인신청 요청하시면 상담사와 연결되어 본인확인후 인증처리 가능합니다. \n",
      "은행영업일 9시~18시 이외 : 당행에 등록된 연락처로 ARS 추가인증 진행합니다.\n",
      "{'source': '신한은행', 'row': 15, 'type': '인터넷뱅킹', 'timestamp': 1701407810.843864}\n",
      "---------------------\n"
     ]
    }
   ],
   "source": [
    "query = \"인터넷 뱅킹으로 예적금 해약\"\n",
    "query = opensearch_utils.get_query(\n",
    "    query=query,\n",
    "    minimum_should_match=75\n",
    ")\n",
    "\n",
    "print(\"query: \", query)\n",
    "response = opensearch_utils.search_document(os_client, query, new_index_name)\n",
    "opensearch_utils.parse_keyword_response(response, show_size=3)"
   ]
  },
  {
   "cell_type": "markdown",
   "metadata": {},
   "source": [
    "minimum_should_match=100"
   ]
  },
  {
   "cell_type": "code",
   "execution_count": 32,
   "metadata": {},
   "outputs": [
    {
     "name": "stdout",
     "output_type": "stream",
     "text": [
      "query:  {'query': {'bool': {'must': [{'match': {'text': {'query': '인터넷 뱅킹으로 예적금 해약', 'minimum_should_match': '100%', 'operator': 'or'}}}], 'filter': []}}}\n",
      "There is no response\n"
     ]
    }
   ],
   "source": [
    "query = \"인터넷 뱅킹으로 예적금 해약\"\n",
    "query = opensearch_utils.get_query(\n",
    "    query=query,\n",
    "    minimum_should_match=100\n",
    ")\n",
    "\n",
    "print(\"query: \", query)\n",
    "response = opensearch_utils.search_document(os_client, query, new_index_name)\n",
    "opensearch_utils.parse_keyword_response(response, show_size=3)"
   ]
  },
  {
   "cell_type": "markdown",
   "metadata": {},
   "source": [
    "### Filter 활용\n",
    "- document내 metadata를 사용하여 search space를 줄일 수 있다.\n",
    "- 특히 filter의 경우 search전에 수행되게 때문에, 검색 속도 향상을 기대할 수 있다.\n",
    "- syntax\n",
    "  - filter=[{\"term\"[고정]: {\"metadata.source\"[메타데이터 이름, 혹은 메타데이터 아니여도 상관없음]: \"신한은행\"[조건명]}},]\n",
    "  - list 형식으로 복수개 filter 설정 가능"
   ]
  },
  {
   "cell_type": "code",
   "execution_count": null,
   "metadata": {},
   "outputs": [],
   "source": [
    "query = \"인터넷 뱅킹으로 예적금 해약\"\n",
    "query = opensearch_utils.get_query(\n",
    "  query=query,\n",
    "  minimum_should_match=75,\n",
    "  filter=[\n",
    "    {\"term\": {\"metadata.source\": \"신한은행\"}},\n",
    "    {\"term\": {\"metadata.type\": \"인터넷뱅킹\"}},\n",
    "  ]\n",
    ")\n",
    "print(\"query: \", query)"
   ]
  }
 ],
 "metadata": {
  "kernelspec": {
   "display_name": "bedrock",
   "language": "python",
   "name": "python3"
  },
  "language_info": {
   "codemirror_mode": {
    "name": "ipython",
    "version": 3
   },
   "file_extension": ".py",
   "mimetype": "text/x-python",
   "name": "python",
   "nbconvert_exporter": "python",
   "pygments_lexer": "ipython3",
   "version": "3.10.13"
  }
 },
 "nbformat": 4,
 "nbformat_minor": 2
}
