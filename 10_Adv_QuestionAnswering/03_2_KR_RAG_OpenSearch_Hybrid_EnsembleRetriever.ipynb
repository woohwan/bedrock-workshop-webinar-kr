{
 "cells": [
  {
   "cell_type": "markdown",
   "metadata": {},
   "source": [
    "## OpenSearch Hybrid 검색을 통한 RAG"
   ]
  },
  {
   "cell_type": "markdown",
   "metadata": {},
   "source": [
    "#### 설정"
   ]
  },
  {
   "cell_type": "code",
   "execution_count": 8,
   "metadata": {},
   "outputs": [],
   "source": [
    "import sys, os\n",
    "module_path = \"..\"\n",
    "sys.path.append(os.path.abspath(module_path))"
   ]
  },
  {
   "cell_type": "markdown",
   "metadata": {},
   "source": [
    "### 1. Bedrock Client 생성"
   ]
  },
  {
   "cell_type": "code",
   "execution_count": 9,
   "metadata": {},
   "outputs": [
    {
     "name": "stdout",
     "output_type": "stream",
     "text": [
      "Create new client\n",
      "  Using region: us-east-1\n",
      "  Using profile: None\n",
      "boto3 Bedrock client successfully created!\n",
      "bedrock-runtime(https://bedrock-runtime.us-east-1.amazonaws.com)\n"
     ]
    }
   ],
   "source": [
    "from utils import bedrock\n",
    "\n",
    "boto3_bedrock = bedrock.get_bedrock_client(\n",
    "  assumed_role=None,\n",
    "  endpoint_url=None,\n",
    "  region='us-east-1'\n",
    ")"
   ]
  },
  {
   "cell_type": "markdown",
   "metadata": {},
   "source": [
    "### 2. Titan Embedding 및 LLM Claude-v2 모델 로딩"
   ]
  },
  {
   "cell_type": "markdown",
   "metadata": {},
   "source": [
    "#### LLM 로딩"
   ]
  },
  {
   "cell_type": "code",
   "execution_count": 10,
   "metadata": {},
   "outputs": [],
   "source": [
    "from langchain.llms import Bedrock\n",
    "from langchain.callbacks.stdout import StdOutCallbackHandler\n",
    "\n",
    "# Create Anthropic Model\n",
    "llm_text = Bedrock(\n",
    "  model_id = \"anthropic.claude-v2\",\n",
    "  client = boto3_bedrock,\n",
    "  model_kwargs={\n",
    "    \"max_tokens_to_sample\": 512\n",
    "  },\n",
    "  streaming=True,\n",
    "  callbacks=[StdOutCallbackHandler()]\n",
    ")"
   ]
  },
  {
   "cell_type": "markdown",
   "metadata": {},
   "source": [
    "#### Embedding Model 선택"
   ]
  },
  {
   "cell_type": "code",
   "execution_count": 11,
   "metadata": {},
   "outputs": [],
   "source": [
    "from langchain.embeddings import BedrockEmbeddings\n",
    "\n",
    "llm_emb = BedrockEmbeddings(\n",
    "  model_id=\"amazon.titan-embed-text-v1\",\n",
    "  client=boto3_bedrock,\n",
    "  region_name=\"us-east-1\",\n",
    ")"
   ]
  },
  {
   "cell_type": "markdown",
   "metadata": {},
   "source": [
    "### 전 단계 02_1에서 생성한 reindex 한 것을 지워서 reindex 과정 반복"
   ]
  },
  {
   "cell_type": "code",
   "execution_count": 12,
   "metadata": {},
   "outputs": [],
   "source": [
    "# opensearch info\n",
    "host = \"localhost\"\n",
    "port = 9200\n",
    "opensearch_endpoint = f\"https://{host}:{port}\"\n",
    "http_auth = (\"admin\", \"admin\")\n",
    "index_name = \"genai-demo-index-v1\"\n",
    "\n",
    "ca_certs_path = 'root-ca.pem'\n",
    "# Optional client certificates if you don't want to use HTTP basic authentication.\n",
    "client_cert_path = 'admin.pem'\n",
    "client_key_path = 'admin-key.pem'"
   ]
  },
  {
   "cell_type": "markdown",
   "metadata": {},
   "source": [
    "#### OpenSearch ReIndexig\n",
    "- 기존 \"index genai-demo-index-v1\"을 \"genai-demo-index-v1-with-tokenizer\"로 \n",
    "- nori tokenizer 추가"
   ]
  },
  {
   "cell_type": "markdown",
   "metadata": {},
   "source": [
    "OpenSearch Client"
   ]
  },
  {
   "cell_type": "code",
   "execution_count": 13,
   "metadata": {},
   "outputs": [],
   "source": [
    "from opensearchpy import OpenSearch\n",
    "\n",
    "# Create the client with SSL/TLS enabled, but hostname verification disabled.\n",
    "os_client = OpenSearch(\n",
    "    hosts = [{'host': host, 'port': port}],\n",
    "    http_compress = True, # enables gzip compression for request bodies\n",
    "    http_auth = http_auth,\n",
    "    client_cert = client_cert_path,\n",
    "    client_key = client_key_path,\n",
    "    use_ssl = True,\n",
    "    verify_certs = True,\n",
    "    ssl_assert_hostname = False,\n",
    "    ssl_show_warn = False,\n",
    "    ca_certs = ca_certs_path\n",
    ")"
   ]
  },
  {
   "cell_type": "code",
   "execution_count": 14,
   "metadata": {},
   "outputs": [
    {
     "name": "stdout",
     "output_type": "stream",
     "text": [
      "{'genai-demo-index-v1': {'aliases': {},\n",
      "                         'mappings': {'properties': {'metadata': {'properties': {'row': {'type': 'long'},\n",
      "                                                                                 'source': {'fields': {'keyword': {'ignore_above': 256,\n",
      "                                                                                                                   'type': 'keyword'}},\n",
      "                                                                                            'type': 'text'},\n",
      "                                                                                 'timestamp': {'type': 'float'},\n",
      "                                                                                 'type': {'fields': {'keyword': {'ignore_above': 256,\n",
      "                                                                                                                 'type': 'keyword'}},\n",
      "                                                                                          'type': 'text'}}},\n",
      "                                                     'text': {'fields': {'keyword': {'ignore_above': 256,\n",
      "                                                                                     'type': 'keyword'}},\n",
      "                                                              'type': 'text'},\n",
      "                                                     'vector_field': {'dimension': 1536,\n",
      "                                                                      'method': {'engine': 'nmslib',\n",
      "                                                                                 'name': 'hnsw',\n",
      "                                                                                 'parameters': {'ef_construction': 512,\n",
      "                                                                                                'm': 16},\n",
      "                                                                                 'space_type': 'l2'},\n",
      "                                                                      'type': 'knn_vector'}}},\n",
      "                         'settings': {'index': {'creation_date': '1701840733213',\n",
      "                                                'knn': 'true',\n",
      "                                                'knn.algo_param': {'ef_search': '512'},\n",
      "                                                'number_of_replicas': '1',\n",
      "                                                'number_of_shards': '1',\n",
      "                                                'provided_name': 'genai-demo-index-v1',\n",
      "                                                'replication': {'type': 'DOCUMENT'},\n",
      "                                                'uuid': 'K4LVYBDxTz-YiD5p4L4snQ',\n",
      "                                                'version': {'created': '136327927'}}}}}\n"
     ]
    }
   ],
   "source": [
    "from pprint import pprint\n",
    "\n",
    "index_info = os_client.indices.get(index=index_name)\n",
    "pprint(index_info)"
   ]
  },
  {
   "cell_type": "code",
   "execution_count": null,
   "metadata": {},
   "outputs": [
    {
     "data": {
      "text/plain": [
       "'genai-demo-index-v1-with-tokenizer'"
      ]
     },
     "execution_count": 8,
     "metadata": {},
     "output_type": "execute_result"
    }
   ],
   "source": [
    "new_index_name = f\"{index_name}-with-tokenizer\"\n",
    "new_index_name"
   ]
  },
  {
   "cell_type": "code",
   "execution_count": null,
   "metadata": {},
   "outputs": [],
   "source": [
    "# use nori tokenizer 사용\n",
    "# analyzer_config = {\n",
    "#   \"tokenizer\": \"nori\",\n",
    "#   \"tokenizer_type\": \"nori_tokenizer\",\n",
    "#   \"char_filter\": [\"html_strip\"],\n",
    "#   \"filter\": [\"nori_number\", \"nori_readingform\", \"lowercase\"],\n",
    "#   \"decompound_mode\": \"mixed\",\n",
    "#   \"discard_punctuation\": \"true\"\n",
    "# }"
   ]
  },
  {
   "cell_type": "markdown",
   "metadata": {},
   "source": [
    "#### index 수정: 형태소 분석기 사용 enablement"
   ]
  },
  {
   "cell_type": "code",
   "execution_count": null,
   "metadata": {},
   "outputs": [],
   "source": [
    "# nori 형태소 분석기를 custom analyzer 등록\n",
    "index_info[index_name][\"settings\"][\"analysis\"] = {\n",
    "  \"tokenizer\": {\n",
    "    \"nori\": {\n",
    "      \"type\": \"nori_tokenizer\",\n",
    "      \"decompound_mode\": \"mixed\",\n",
    "      \"discard_punctuation\": \"true\"\n",
    "    }\n",
    "  },\n",
    "  \"analyzer\": {\n",
    "    \"my_analyzer\": {\n",
    "      \"type\": \"custom\",\n",
    "      \"char_filter\": [\"html_strip\"],\n",
    "      \"tokenizer\": \"nori\",\n",
    "      \"filter\": [\"nori_number\", \"nori_readingform\", \"lowercase\"]  # token filter\n",
    "    }\n",
    "  }\n",
    "}\n",
    "\n",
    "# analyzer가 적용될 칼럼에 맞추어 수정\n",
    "index_info[index_name][\"mappings\"][\"properties\"][\"text\"][\"analyzer\"] = \"my_analyzer\"\n",
    "index_info[index_name]['mappings']['properties']['text']['search_analyzer'] = \"my_analyzer\"\n",
    "\n",
    "# index 설정 변경 없음\n",
    "index_info[index_name][\"settings\"][\"index\"] = {\n",
    "  \"number_of_shards\": \"5\",\n",
    "  \"knn.algo_param\": {\"ef_search\": \"512\"},\n",
    "  \"knn\": True,\n",
    "  \"number_of_replicas\": \"2\"\n",
    "}\n",
    "\n",
    "# del index alias\n",
    "# del index_info[index_name][\"aliases\"]\n",
    "new_index_info = index_info[index_name]\n"
   ]
  },
  {
   "cell_type": "code",
   "execution_count": null,
   "metadata": {},
   "outputs": [
    {
     "name": "stdout",
     "output_type": "stream",
     "text": [
      "{'aliases': {},\n",
      " 'mappings': {'properties': {'metadata': {'properties': {'row': {'type': 'long'},\n",
      "                                                         'source': {'fields': {'keyword': {'ignore_above': 256,\n",
      "                                                                                           'type': 'keyword'}},\n",
      "                                                                    'type': 'text'},\n",
      "                                                         'timestamp': {'type': 'float'},\n",
      "                                                         'type': {'fields': {'keyword': {'ignore_above': 256,\n",
      "                                                                                         'type': 'keyword'}},\n",
      "                                                                  'type': 'text'}}},\n",
      "                             'text': {'analyzer': 'my_analyzer',\n",
      "                                      'fields': {'keyword': {'ignore_above': 256,\n",
      "                                                             'type': 'keyword'}},\n",
      "                                      'search_analyzer': 'my_analyzer',\n",
      "                                      'type': 'text'},\n",
      "                             'vector_field': {'dimension': 1536,\n",
      "                                              'method': {'engine': 'nmslib',\n",
      "                                                         'name': 'hnsw',\n",
      "                                                         'parameters': {'ef_construction': 512,\n",
      "                                                                        'm': 16},\n",
      "                                                         'space_type': 'l2'},\n",
      "                                              'type': 'knn_vector'}}},\n",
      " 'settings': {'analysis': {'analyzer': {'my_analyzer': {'char_filter': ['html_strip'],\n",
      "                                                        'filter': ['nori_number',\n",
      "                                                                   'nori_readingform',\n",
      "                                                                   'lowercase'],\n",
      "                                                        'tokenizer': 'nori',\n",
      "                                                        'type': 'custom'}},\n",
      "                           'tokenizer': {'nori': {'decompound_mode': 'mixed',\n",
      "                                                  'discard_punctuation': 'true',\n",
      "                                                  'type': 'nori_tokenizer'}}},\n",
      "              'index': {'knn': True,\n",
      "                        'knn.algo_param': {'ef_search': '512'},\n",
      "                        'number_of_replicas': '2',\n",
      "                        'number_of_shards': '5'}}}\n"
     ]
    }
   ],
   "source": [
    "pprint(new_index_info)"
   ]
  },
  {
   "cell_type": "code",
   "execution_count": null,
   "metadata": {},
   "outputs": [
    {
     "name": "stdout",
     "output_type": "stream",
     "text": [
      "index_name=genai-demo-index-v1-with-tokenizer, exists=False\n",
      "Index does not exist\n"
     ]
    }
   ],
   "source": [
    "from utils.opensearch import opensearch_utils\n",
    "\n",
    "index_exists = opensearch_utils.check_if_index_exists(os_client, new_index_name)\n",
    "if index_exists:\n",
    "    opensearch_utils.delete_index(os_client, new_index_name)\n",
    "else:\n",
    "    print(\"Index does not exist\")"
   ]
  },
  {
   "cell_type": "code",
   "execution_count": null,
   "metadata": {},
   "outputs": [
    {
     "name": "stdout",
     "output_type": "stream",
     "text": [
      "{'acknowledged': True, 'shards_acknowledged': True, 'index': 'genai-demo-index-v1-with-tokenizer'}\n"
     ]
    }
   ],
   "source": [
    "# create index\n",
    "reponse = os_client.indices.create(new_index_name, body=new_index_info)\n",
    "print(reponse)"
   ]
  },
  {
   "cell_type": "code",
   "execution_count": null,
   "metadata": {},
   "outputs": [
    {
     "name": "stdout",
     "output_type": "stream",
     "text": [
      "{'source': {'index': 'genai-demo-index-v1'}, 'dest': {'index': 'genai-demo-index-v1-with-tokenizer'}}\n",
      "{'took': 470, 'timed_out': False, 'total': 92, 'updated': 0, 'created': 92, 'deleted': 0, 'batches': 1, 'version_conflicts': 0, 'noops': 0, 'retries': {'bulk': 0, 'search': 0}, 'throttled_millis': 0, 'requests_per_second': -1.0, 'throttled_until_millis': 0, 'failures': []}\n"
     ]
    }
   ],
   "source": [
    "# reindex\n",
    "_reindex = {\n",
    "  \"source\": {\"index\": index_name},\n",
    "  \"dest\": {\"index\": new_index_name}\n",
    "}\n",
    "print(_reindex)\n",
    "response = os_client.reindex(_reindex)\n",
    "print(response)"
   ]
  },
  {
   "cell_type": "markdown",
   "metadata": {},
   "source": [
    "## 3. LangChain OpenSearch VectorStore 생성"
   ]
  },
  {
   "cell_type": "markdown",
   "metadata": {},
   "source": [
    "#### 새로 생성한 index name으로 변경"
   ]
  },
  {
   "cell_type": "code",
   "execution_count": 15,
   "metadata": {},
   "outputs": [],
   "source": [
    "index_name = \"genai-demo-index-v1-with-tokenizer\""
   ]
  },
  {
   "cell_type": "code",
   "execution_count": 16,
   "metadata": {},
   "outputs": [],
   "source": [
    "from langchain.vectorstores import OpenSearchVectorSearch\n",
    "\n",
    "vector_db = OpenSearchVectorSearch(\n",
    "  opensearch_url=opensearch_endpoint,\n",
    "  embedding_function=llm_emb,\n",
    "  index_name =index_name,\n",
    "  http_auth=http_auth,\n",
    "  is_aoss=False,\n",
    "  engine=\"faiss\",\n",
    "  space_type=\"l2\",\n",
    "  use_ssl=True,\n",
    "  verify_certs=True,\n",
    "  ssl_assert_hostname=False,\n",
    "  ssl_show_warn=False,\n",
    "  ca_certs=ca_certs_path\n",
    ")\n"
   ]
  },
  {
   "cell_type": "code",
   "execution_count": 17,
   "metadata": {},
   "outputs": [
    {
     "name": "stdout",
     "output_type": "stream",
     "text": [
      "{'genai-demo-index-v1-with-tokenizer': {'aliases': {},\n",
      "                                        'mappings': {'properties': {'metadata': {'properties': {'row': {'type': 'long'},\n",
      "                                                                                                'source': {'fields': {'keyword': {'ignore_above': 256,\n",
      "                                                                                                                                  'type': 'keyword'}},\n",
      "                                                                                                           'type': 'text'},\n",
      "                                                                                                'timestamp': {'type': 'float'},\n",
      "                                                                                                'type': {'fields': {'keyword': {'ignore_above': 256,\n",
      "                                                                                                                                'type': 'keyword'}},\n",
      "                                                                                                         'type': 'text'}}},\n",
      "                                                                    'text': {'analyzer': 'my_analyzer',\n",
      "                                                                             'fields': {'keyword': {'ignore_above': 256,\n",
      "                                                                                                    'type': 'keyword'}},\n",
      "                                                                             'type': 'text'},\n",
      "                                                                    'vector_field': {'dimension': 1536,\n",
      "                                                                                     'method': {'engine': 'nmslib',\n",
      "                                                                                                'name': 'hnsw',\n",
      "                                                                                                'parameters': {'ef_construction': 512,\n",
      "                                                                                                               'm': 16},\n",
      "                                                                                                'space_type': 'l2'},\n",
      "                                                                                     'type': 'knn_vector'}}},\n",
      "                                        'settings': {'index': {'analysis': {'analyzer': {'my_analyzer': {'char_filter': ['html_strip'],\n",
      "                                                                                                         'filter': ['nori_number',\n",
      "                                                                                                                    'nori_readingform',\n",
      "                                                                                                                    'lowercase'],\n",
      "                                                                                                         'tokenizer': 'nori',\n",
      "                                                                                                         'type': 'custom'}},\n",
      "                                                                            'tokenizer': {'nori': {'decompound_mode': 'mixed',\n",
      "                                                                                                   'discard_punctuation': 'true',\n",
      "                                                                                                   'type': 'nori_tokenizer'}}},\n",
      "                                                               'creation_date': '1701930521955',\n",
      "                                                               'knn': 'true',\n",
      "                                                               'knn.algo_param': {'ef_search': '512'},\n",
      "                                                               'number_of_replicas': '2',\n",
      "                                                               'number_of_shards': '5',\n",
      "                                                               'provided_name': 'genai-demo-index-v1-with-tokenizer',\n",
      "                                                               'replication': {'type': 'DOCUMENT'},\n",
      "                                                               'uuid': 'BRO_XYmkRBu_xqUha2P3bA',\n",
      "                                                               'version': {'created': '136327927'}}}}}\n"
     ]
    }
   ],
   "source": [
    "from pprint import pprint\n",
    "\n",
    "index_info = os_client.indices.get(index_name)\n",
    "pprint(index_info)"
   ]
  },
  {
   "cell_type": "markdown",
   "metadata": {},
   "source": [
    "## 4. OpenSearch \"유사서치\" 검색\n",
    "use similarity_search_with_score function"
   ]
  },
  {
   "cell_type": "code",
   "execution_count": 18,
   "metadata": {},
   "outputs": [],
   "source": [
    "import copy\n",
    "from langchain.schema import Document\n",
    "from langchain import PromptTemplate\n",
    "from operator import itemgetter\n",
    "from langchain.chains.question_answering import load_qa_chain"
   ]
  },
  {
   "cell_type": "markdown",
   "metadata": {},
   "source": [
    "### Question and Answering Chain 정의"
   ]
  },
  {
   "cell_type": "markdown",
   "metadata": {},
   "source": [
    "### 1. OpenSearch Vector 검색 (Semantic Search)"
   ]
  },
  {
   "cell_type": "markdown",
   "metadata": {},
   "source": [
    "#### prompt template 생성"
   ]
  },
  {
   "cell_type": "code",
   "execution_count": 19,
   "metadata": {},
   "outputs": [],
   "source": [
    "from utils.rag import run_RetrievalQA, show_context_used\n",
    "from langchain.prompts import PromptTemplate"
   ]
  },
  {
   "cell_type": "code",
   "execution_count": 20,
   "metadata": {},
   "outputs": [
    {
     "name": "stdout",
     "output_type": "stream",
     "text": [
      "PromptTemplate(input_variables=['context', 'question'], template='\\n\\nHuman: Here is the context, inside <context></context> XML tags.\\n\\n<context>\\n{context}\\n</context>\\n\\nOnly using the context as above, answer the following question with the rule as below:\\n    - Don\\'t insert XML tag such as <context> and </context> when answering.\\n    - Write as much as you can\\n    - Be courteous and polite\\n    - Only answer the question if you can find the answer in the context with certainty.\\n\\nQuestion:\\n{question}\\n\\nIf the answer is not in the context, just say \"주어진 내용에서 관련 답변을 찾을 수 없습니다.\"\\n\\n\\nAssistant:')\n"
     ]
    }
   ],
   "source": [
    "prompt_template = \"\"\"\n",
    "\n",
    "Human: Here is the context, inside <context></context> XML tags.\n",
    "\n",
    "<context>\n",
    "{context}\n",
    "</context>\n",
    "\n",
    "Only using the context as above, answer the following question with the rule as below:\n",
    "    - Don't insert XML tag such as <context> and </context> when answering.\n",
    "    - Write as much as you can\n",
    "    - Be courteous and polite\n",
    "    - Only answer the question if you can find the answer in the context with certainty.\n",
    "\n",
    "Question:\n",
    "{question}\n",
    "\n",
    "If the answer is not in the context, just say \"주어진 내용에서 관련 답변을 찾을 수 없습니다.\"\n",
    "\n",
    "\n",
    "Assistant:\"\"\"\n",
    "\n",
    "PROMPT = PromptTemplate(\n",
    "  template=prompt_template, input_variables=[\"context\", \"question\"]\n",
    ")\n",
    "pprint(PROMPT)"
   ]
  },
  {
   "cell_type": "code",
   "execution_count": 21,
   "metadata": {},
   "outputs": [],
   "source": [
    "chain = load_qa_chain(\n",
    "  llm=llm_text,\n",
    "  chain_type=\"stuff\",\n",
    "  prompt=PROMPT,\n",
    "  verbose=True\n",
    ")"
   ]
  },
  {
   "cell_type": "markdown",
   "metadata": {},
   "source": [
    "#### 필터 및 쿼리 생성"
   ]
  },
  {
   "cell_type": "code",
   "execution_count": 22,
   "metadata": {},
   "outputs": [
    {
     "name": "stdout",
     "output_type": "stream",
     "text": [
      "{'bool': {'filter': [{'term': {'metadata.type': '홈페이지'}},\n",
      "                     {'term': {'metadata.source': '신한은행'}}]}}\n"
     ]
    }
   ],
   "source": [
    "from utils.opensearch import opensearch_utils\n",
    "\n",
    "filter01=\"홈페이지\"\n",
    "filter02=\"신한은행\"\n",
    "\n",
    "query=\"홈페이지 이용자아이디 여러 개 사용할 수 있나요?\"\n",
    "\n",
    "boolean_filter = opensearch_utils.get_filter(\n",
    "  filter=[\n",
    "    {\"term\": {\"metadata.type\": filter01}},\n",
    "    {\"term\": {\"metadata.source\": filter02}},\n",
    "  ]\n",
    ")\n",
    "\n",
    "pprint(boolean_filter)"
   ]
  },
  {
   "cell_type": "markdown",
   "metadata": {},
   "source": [
    "### Retriever for semantic search 정의"
   ]
  },
  {
   "cell_type": "code",
   "execution_count": 23,
   "metadata": {},
   "outputs": [],
   "source": [
    "opensearch_semantic_retriever = vector_db.as_retriever(\n",
    "  search_type=\"similarity\",\n",
    "  search_kwargs = {\n",
    "    \"k\": 5,\n",
    "    \"boolean_filter\": boolean_filter\n",
    "  }\n",
    ")"
   ]
  },
  {
   "cell_type": "code",
   "execution_count": 24,
   "metadata": {},
   "outputs": [
    {
     "name": "stdout",
     "output_type": "stream",
     "text": [
      "\n",
      "\n",
      "\u001b[1m> Entering new StuffDocumentsChain chain...\u001b[0m\n",
      "\n",
      "\n",
      "\u001b[1m> Entering new LLMChain chain...\u001b[0m\n",
      "Prompt after formatting:\n",
      "\u001b[32;1m\u001b[1;3m\n",
      "\n",
      "Human: Here is the context, inside <context></context> XML tags.\n",
      "\n",
      "<context>\n",
      "ask: 홈페이지 이용자아이디 여러 개 사용할 수 있나요?\n",
      "Information: 홈페이지 이용자 아이디는 개인의 경우 1인 1개만 이용 가능하고 기업의 경우에는 1개의 사업자번호당 사용자별로 이용자아이디를 복수로 사용할 수 있습니다. \n",
      "※ 개인사업자의 경우 개인과 기업 각각 이용자아이디를 발급하여 복수로 이용 가능합니다. \n",
      "기타 궁금하신 내용은 신한은행 고객센터 1599-8000로 문의하여 주시기 바랍니다.\n",
      "\n",
      "ask: 홈페이지 회원아이디를 변경하고 싶습니다.\n",
      "Information: 회원탈퇴를 하시고, 사용하시고 싶은 아이디로 신규 회원가입신청을 하시면 됩니다. 다만, 사용하시고 싶은 아이디가 이미 다른 고객이 사용하고 있는 경우에는 사용하실 수 없습니다. 기타 문의는 콜센터 1599-8000번으로 문의 바랍니다.\n",
      "\n",
      "ask: 만14세 미만의 고객은 홈페이지 회원가입이 가능하나요?\n",
      "Information: 만 14세 미만 고객은 회원가입시 '정보통신망 이용촉진 및 정보 등에 관한 법률' 및 '개인정보보호지침'에 따라 법정대리인의 정보활용 동의가 필요합니다. 당행 영업점을 통한 보호자분의 홈페이지 회원 법정대리인 등록이 완료된 고객님에 한하여 회원등록이 가능하므로 홈페이지 회원 법정대리인 등록이 안된 고객님의 보호자분께서는 먼저 가까운 영업점을 방문하여 주시기 바랍니다. [구비서류] - 법정대리인 실명확인증표 - 미성년자 기준으로 발급된 특정 또는 상세 기본증명서 - 미성년자 기준으로 발급된 가족관계증명서 * 은행 방문일로부터 3개월 이내 발급한 서류로 준비해주셔야 하며, 성함과 주민등록번호 13자리가 모두 기재되어 있어야합니다. 기타 문의는 콜센터 1599-8000번으로 문의 바랍니다.\n",
      "\n",
      "ask: 홈페이지 고객정보를 수정하고 싶습니다.\n",
      "Information: 홈페이지 회원로그인 후 정보수정을 하실 수 있습니다. 홈페이지 상단에 있는 [고객센터]를 클릭하여, 회원서비스 → 회원정보변경 메뉴에서 회원정보변경을 이용하시기 바랍니다. 인터넷뱅킹의 회원정보는 인터넷뱅킹으로 로그인 하신 후 사용자 관리메뉴를 이용하여 수정하시기 바랍니다. 기타 문의는 콜센터 1599-8000번으로 문의 바랍니다.\n",
      "\n",
      "ask: 홈페이지 회원가입은 어떻게 해야 하나요?\n",
      "Information: 홈페이지 상단에 있는 [고객센터]를 클릭하여, 회원서비스 → 회원가입메뉴에서 회원가입 메뉴를 이용하시기 바랍니다. 기타 문의는 콜센터 1599-8000번으로 문의 바랍니다.\n",
      "</context>\n",
      "\n",
      "Only using the context as above, answer the following question with the rule as below:\n",
      "    - Don't insert XML tag such as <context> and </context> when answering.\n",
      "    - Write as much as you can\n",
      "    - Be courteous and polite\n",
      "    - Only answer the question if you can find the answer in the context with certainty.\n",
      "\n",
      "Question:\n",
      "홈페이지 이용자아이디 여러 개 사용할 수 있나요?\n",
      "\n",
      "If the answer is not in the context, just say \"주어진 내용에서 관련 답변을 찾을 수 없습니다.\"\n",
      "\n",
      "\n",
      "Assistant:\u001b[0m\n",
      "\n",
      "\u001b[1m> Finished chain.\u001b[0m\n",
      "\n",
      "\u001b[1m> Finished chain.\u001b[0m\n",
      "##############################\n",
      "query: \n",
      " 홈페이지 이용자아이디 여러 개 사용할 수 있나요?\n",
      "answer: \n",
      "  네, 홈페이지 이용자 아이디는 개인의 경우 1인 1개만 이용 가능하나 기업의 경우에는 1개의 사업자번호당 사용자별로 이용자아이디를 복수로 사용할 수 있습니다.\n"
     ]
    }
   ],
   "source": [
    "search_semantic_result = opensearch_semantic_retriever.get_relevant_documents(query)\n",
    "\n",
    "answer = chain.run(\n",
    "  input_documents=search_semantic_result,\n",
    "  question=query\n",
    ")\n",
    "\n",
    "print(\"##############################\")\n",
    "print(\"query: \\n\", query)\n",
    "print(\"answer: \\n\", answer)"
   ]
  },
  {
   "cell_type": "code",
   "execution_count": 25,
   "metadata": {},
   "outputs": [],
   "source": [
    "from utils.rag import show_context_used"
   ]
  },
  {
   "cell_type": "code",
   "execution_count": 26,
   "metadata": {},
   "outputs": [
    {
     "name": "stdout",
     "output_type": "stream",
     "text": [
      "-----------------------------------------------\n",
      "1. Chunk: 232 Characters\n",
      "-----------------------------------------------\n",
      "ask: 홈페이지 이용자아이디 여러 개 사용할 수 있나요?\n",
      "Information: 홈페이지 이용자 아이디는 개인의 경우 1인 1개만 이용 가능하고 기업의 경우에는 1개의 사업자번호당 사용자별로 이용자아이디를 복수로 사용할 수 있습니다.\n",
      "※ 개인사업자의 경우 개인과 기업 각각 이용자아이디를 발급하여 복수로 이용 가능합니다.\n",
      "기타 궁금하신 내용은 신한은행 고객센터 1599-8000로 문의하여 주시기 바랍니다.\n",
      "metadata:\n",
      " {'source': '신한은행', 'row': 21, 'type': '홈페이지', 'timestamp': 1701838934.879154}\n",
      "-----------------------------------------------\n",
      "2. Chunk: 172 Characters\n",
      "-----------------------------------------------\n",
      "ask: 홈페이지 회원아이디를 변경하고 싶습니다.\n",
      "Information: 회원탈퇴를 하시고, 사용하시고 싶은 아이디로 신규 회원가입신청을 하시면 됩니다. 다만, 사용하시고 싶은 아이디가 이미 다른 고객이 사용하고 있는 경우에는\n",
      "사용하실 수 없습니다. 기타 문의는 콜센터 1599-8000번으로 문의 바랍니다.\n",
      "metadata:\n",
      " {'source': '신한은행', 'row': 45, 'type': '홈페이지', 'timestamp': 1701838934.8792145}\n",
      "-----------------------------------------------\n",
      "3. Chunk: 436 Characters\n",
      "-----------------------------------------------\n",
      "ask: 만14세 미만의 고객은 홈페이지 회원가입이 가능하나요?\n",
      "Information: 만 14세 미만 고객은 회원가입시 '정보통신망 이용촉진 및 정보 등에 관한 법률' 및 '개인정보보호지침'에 따라 법정대리인의 정보활용 동의가 필요합니다.\n",
      "당행 영업점을 통한 보호자분의 홈페이지 회원 법정대리인 등록이 완료된 고객님에 한하여 회원등록이 가능하므로 홈페이지 회원 법정대리인 등록이 안된 고객님의 보호자분께서는 먼저 가까운\n",
      "영업점을 방문하여 주시기 바랍니다. [구비서류] - 법정대리인 실명확인증표 - 미성년자 기준으로 발급된 특정 또는 상세 기본증명서 - 미성년자 기준으로 발급된 가족관계증명서 *\n",
      "은행 방문일로부터 3개월 이내 발급한 서류로 준비해주셔야 하며, 성함과 주민등록번호 13자리가 모두 기재되어 있어야합니다. 기타 문의는 콜센터 1599-8000번으로 문의\n",
      "바랍니다.\n",
      "metadata:\n",
      " {'source': '신한은행', 'row': 48, 'type': '홈페이지', 'timestamp': 1701838934.879221}\n",
      "-----------------------------------------------\n",
      "4. Chunk: 225 Characters\n",
      "-----------------------------------------------\n",
      "ask: 홈페이지 고객정보를 수정하고 싶습니다.\n",
      "Information: 홈페이지 회원로그인 후 정보수정을 하실 수 있습니다. 홈페이지 상단에 있는 [고객센터]를 클릭하여, 회원서비스 → 회원정보변경 메뉴에서 회원정보변경을\n",
      "이용하시기 바랍니다. 인터넷뱅킹의 회원정보는 인터넷뱅킹으로 로그인 하신 후 사용자 관리메뉴를 이용하여 수정하시기 바랍니다. 기타 문의는 콜센터 1599-8000번으로 문의\n",
      "바랍니다.\n",
      "metadata:\n",
      " {'source': '신한은행', 'row': 46, 'type': '홈페이지', 'timestamp': 1701838934.8792167}\n",
      "-----------------------------------------------\n",
      "5. Chunk: 137 Characters\n",
      "-----------------------------------------------\n",
      "ask: 홈페이지 회원가입은 어떻게 해야 하나요?\n",
      "Information: 홈페이지 상단에 있는 [고객센터]를 클릭하여, 회원서비스 → 회원가입메뉴에서 회원가입 메뉴를 이용하시기 바랍니다. 기타 문의는 콜센터 1599-8000번으로\n",
      "문의 바랍니다.\n",
      "metadata:\n",
      " {'source': '신한은행', 'row': 49, 'type': '홈페이지', 'timestamp': 1701838934.8792229}\n"
     ]
    }
   ],
   "source": [
    "show_context_used(search_semantic_result)"
   ]
  },
  {
   "cell_type": "markdown",
   "metadata": {},
   "source": [
    "### 2. OpenSearch Keyworkd 검색"
   ]
  },
  {
   "cell_type": "code",
   "execution_count": 27,
   "metadata": {},
   "outputs": [],
   "source": [
    "from utils.rag import OpenSearchLexicalSearchRetriever"
   ]
  },
  {
   "cell_type": "markdown",
   "metadata": {},
   "source": [
    "#### Retriver for lexical search 정의 (Keyword search)"
   ]
  },
  {
   "cell_type": "code",
   "execution_count": 28,
   "metadata": {},
   "outputs": [],
   "source": [
    "opensearch_lexical_retriever = OpenSearchLexicalSearchRetriever(\n",
    "  os_client=os_client,\n",
    "  index_name=index_name\n",
    ")"
   ]
  },
  {
   "cell_type": "code",
   "execution_count": 29,
   "metadata": {},
   "outputs": [],
   "source": [
    "filter01 = \"홈페이지\"\n",
    "#filter01 = \"인증서\"\n",
    "filter02 = \"신한은행\"\n",
    "# filter02 = \"아마존은행\"\n",
    "\n",
    "query = \"홈페이지 이용자아이디 여러 개 사용할 수 있나요?\"\n",
    "#query = \"타기관OTP 등록 방법 알려주세요\""
   ]
  },
  {
   "cell_type": "markdown",
   "metadata": {},
   "source": [
    "##### [TIP] lexical search의 parameter 변경이 필요한 경우, \"update_search_params\"를 활용\n",
    "해당 함수는 search 함수(get_relevant_documents) 수행 시 Reset된다\n"
   ]
  },
  {
   "cell_type": "code",
   "execution_count": 30,
   "metadata": {},
   "outputs": [
    {
     "name": "stdout",
     "output_type": "stream",
     "text": [
      "lexical search query: \n",
      "{'query': {'bool': {'filter': [{'term': {'metadata.type': '홈페이지'}},\n",
      "                               {'term': {'metadata.source': '신한은행'}}],\n",
      "                    'must': [{'match': {'text': {'minimum_should_match': '0%',\n",
      "                                                 'operator': 'or',\n",
      "                                                 'query': '홈페이지 이용자아이디 여러 개 '\n",
      "                                                          '사용할 수 있나요?'}}}]}},\n",
      " 'size': 5}\n",
      "\n",
      "\n",
      "\u001b[1m> Entering new StuffDocumentsChain chain...\u001b[0m\n",
      "\n",
      "\n",
      "\u001b[1m> Entering new LLMChain chain...\u001b[0m\n",
      "Prompt after formatting:\n",
      "\u001b[32;1m\u001b[1;3m\n",
      "\n",
      "Human: Here is the context, inside <context></context> XML tags.\n",
      "\n",
      "<context>\n",
      "ask: 홈페이지 이용자아이디 여러 개 사용할 수 있나요?\n",
      "Information: 홈페이지 이용자 아이디는 개인의 경우 1인 1개만 이용 가능하고 기업의 경우에는 1개의 사업자번호당 사용자별로 이용자아이디를 복수로 사용할 수 있습니다. \n",
      "※ 개인사업자의 경우 개인과 기업 각각 이용자아이디를 발급하여 복수로 이용 가능합니다. \n",
      "기타 궁금하신 내용은 신한은행 고객센터 1599-8000로 문의하여 주시기 바랍니다.\n",
      "\n",
      "ask: 영업점에서 인터넷뱅킹 가입하고 왔는데 홈페이지회원은 별도로 가입해야 하나요?\n",
      "Information: 인터넷뱅킹 가입과 홈페이지 회원은 개별로 운영되고 있습니다. \n",
      "인터넷뱅킹만 가입을 하셨다면 별도로 홈페이지에 회원가입 후 홈페이지 로그인이 가능합니다. \n",
      "※ 영업점에서 인터넷뱅킹 가입 시 전계좌조회서비스 가입하신 고객은 홈페이지 상에서 이용자비밀번호 등록 후 이용가능합니다. \n",
      "기타 궁금하신 내용은 신한은행 고객센터 1599-8000로 문의하여 주시기 바랍니다.\n",
      "\n",
      "ask: 홈페이지 회원아이디를 변경하고 싶습니다.\n",
      "Information: 회원탈퇴를 하시고, 사용하시고 싶은 아이디로 신규 회원가입신청을 하시면 됩니다. 다만, 사용하시고 싶은 아이디가 이미 다른 고객이 사용하고 있는 경우에는 사용하실 수 없습니다. 기타 문의는 콜센터 1599-8000번으로 문의 바랍니다.\n",
      "</context>\n",
      "\n",
      "Only using the context as above, answer the following question with the rule as below:\n",
      "    - Don't insert XML tag such as <context> and </context> when answering.\n",
      "    - Write as much as you can\n",
      "    - Be courteous and polite\n",
      "    - Only answer the question if you can find the answer in the context with certainty.\n",
      "\n",
      "Question:\n",
      "홈페이지 이용자아이디 여러 개 사용할 수 있나요?\n",
      "\n",
      "If the answer is not in the context, just say \"주어진 내용에서 관련 답변을 찾을 수 없습니다.\"\n",
      "\n",
      "\n",
      "Assistant:\u001b[0m\n",
      "\n",
      "\u001b[1m> Finished chain.\u001b[0m\n",
      "\n",
      "\u001b[1m> Finished chain.\u001b[0m\n",
      "##############################\n",
      "query: \n",
      " 홈페이지 이용자아이디 여러 개 사용할 수 있나요?\n",
      "answer: \n",
      "  네, 홈페이지 이용자아이디는 개인의 경우 1인 1개만 이용 가능하나 기업의 경우에는 1개의 사업자번호당 사용자별로 이용자아이디를 복수로 사용할 수 있습니다. 개인사업자의 경우 개인과 기업 각각 이용자아이디를 발급받아 복수로 이용 가능합니다.\n"
     ]
    }
   ],
   "source": [
    "opensearch_lexical_retriever.update_search_params(\n",
    "  k=5,\n",
    "  minimum_should_match=0,\n",
    "  filter=[\n",
    "    {\"term\": {\"metadata.type\": filter01}},\n",
    "    {\"term\": {\"metadata.source\": filter02}},\n",
    "  ],\n",
    ")\n",
    "\n",
    "search_keyword_result = opensearch_lexical_retriever.get_relevant_documents(query)\n",
    "\n",
    "answer = chain.run(\n",
    "  input_documents=search_keyword_result,\n",
    "  question=query\n",
    ")\n",
    "\n",
    "print(\"##############################\")\n",
    "print(\"query: \\n\", query)\n",
    "print(\"answer: \\n\", answer)"
   ]
  },
  {
   "cell_type": "markdown",
   "metadata": {},
   "source": [
    "#### 키워드 검색 결과 (search_keyword_result)\n",
    "bm25 score는 max_value로 normalizeation 되어 있음 (score range 0~1)"
   ]
  },
  {
   "cell_type": "code",
   "execution_count": 31,
   "metadata": {},
   "outputs": [
    {
     "name": "stdout",
     "output_type": "stream",
     "text": [
      "-----------------------------------------------\n",
      "1. Chunk: 232 Characters\n",
      "-----------------------------------------------\n",
      "ask: 홈페이지 이용자아이디 여러 개 사용할 수 있나요?\n",
      "Information: 홈페이지 이용자 아이디는 개인의 경우 1인 1개만 이용 가능하고 기업의 경우에는 1개의 사업자번호당 사용자별로 이용자아이디를 복수로 사용할 수 있습니다.\n",
      "※ 개인사업자의 경우 개인과 기업 각각 이용자아이디를 발급하여 복수로 이용 가능합니다.\n",
      "기타 궁금하신 내용은 신한은행 고객센터 1599-8000로 문의하여 주시기 바랍니다.\n",
      "metadata:\n",
      " {'source': '신한은행', 'row': 21, 'type': '홈페이지', 'timestamp': 1701838934.879154, 'id':\n",
      "'618f6304-66fc-46a8-9322-330fa5707497'}\n",
      "-----------------------------------------------\n",
      "2. Chunk: 266 Characters\n",
      "-----------------------------------------------\n",
      "ask: 영업점에서 인터넷뱅킹 가입하고 왔는데 홈페이지회원은 별도로 가입해야 하나요?\n",
      "Information: 인터넷뱅킹 가입과 홈페이지 회원은 개별로 운영되고 있습니다.\n",
      "인터넷뱅킹만 가입을 하셨다면 별도로 홈페이지에 회원가입 후 홈페이지 로그인이 가능합니다.\n",
      "※ 영업점에서 인터넷뱅킹 가입 시 전계좌조회서비스 가입하신 고객은 홈페이지 상에서 이용자비밀번호 등록 후 이용가능합니다.\n",
      "기타 궁금하신 내용은 신한은행 고객센터 1599-8000로 문의하여 주시기 바랍니다.\n",
      "metadata:\n",
      " {'source': '신한은행', 'row': 23, 'type': '홈페이지', 'timestamp': 1701838934.8791583, 'id':\n",
      "'000007ec-c333-47bd-94ba-7c2e89e1020e'}\n",
      "-----------------------------------------------\n",
      "3. Chunk: 172 Characters\n",
      "-----------------------------------------------\n",
      "ask: 홈페이지 회원아이디를 변경하고 싶습니다.\n",
      "Information: 회원탈퇴를 하시고, 사용하시고 싶은 아이디로 신규 회원가입신청을 하시면 됩니다. 다만, 사용하시고 싶은 아이디가 이미 다른 고객이 사용하고 있는 경우에는\n",
      "사용하실 수 없습니다. 기타 문의는 콜센터 1599-8000번으로 문의 바랍니다.\n",
      "metadata:\n",
      " {'source': '신한은행', 'row': 45, 'type': '홈페이지', 'timestamp': 1701838934.8792145, 'id':\n",
      "'0db6591c-68cc-488c-b2b9-55c1451a94f5'}\n"
     ]
    }
   ],
   "source": [
    "show_context_used(search_keyword_result)"
   ]
  },
  {
   "cell_type": "markdown",
   "metadata": {},
   "source": [
    "#### 3. OpenSearch Hybrid 검색"
   ]
  },
  {
   "cell_type": "code",
   "execution_count": 32,
   "metadata": {},
   "outputs": [],
   "source": [
    "from langchain. retrievers import EnsembleRetriever"
   ]
  },
  {
   "cell_type": "markdown",
   "metadata": {},
   "source": [
    "- Lexical Search의 경우, search option 변경 가능"
   ]
  },
  {
   "cell_type": "code",
   "execution_count": 33,
   "metadata": {},
   "outputs": [],
   "source": [
    "filter01 = \"홈페이지\"\n",
    "# filter01 = \"인증서\"\n",
    "filter02 = \"신한은행\"\n",
    "# filter02 = \"아마존은행\"\n",
    "\n",
    "opensearch_lexical_retriever.update_search_params(\n",
    "  k=5,\n",
    "  minimum_should_match = 0,\n",
    "  filter = [\n",
    "    {\"term\": { \"metadata.type\": filter01}},\n",
    "    {\"term\": {\"metadata.source\": filter02}}\n",
    "  ]\n",
    ")"
   ]
  },
  {
   "cell_type": "code",
   "execution_count": 34,
   "metadata": {},
   "outputs": [],
   "source": [
    "query = \"홈페이지 이용자아이디를 여러 개 사용할 수 있나요?\""
   ]
  },
  {
   "cell_type": "code",
   "execution_count": 36,
   "metadata": {},
   "outputs": [],
   "source": [
    "ensemble_retriever = EnsembleRetriever(\n",
    "  retrievers=[opensearch_lexical_retriever, opensearch_semantic_retriever],\n",
    "  weights=[0.5, 0.5],\n",
    "  c=100,\n",
    "  k=5\n",
    ")"
   ]
  },
  {
   "cell_type": "code",
   "execution_count": 41,
   "metadata": {},
   "outputs": [
    {
     "name": "stdout",
     "output_type": "stream",
     "text": [
      "lexical search query: \n",
      "{'query': {'bool': {'filter': [],\n",
      "                    'must': [{'match': {'text': {'minimum_should_match': '0%',\n",
      "                                                 'operator': 'or',\n",
      "                                                 'query': '홈페이지 이용자아이디를 여러 개 '\n",
      "                                                          '사용할 수 있나요?'}}}]}},\n",
      " 'size': 3}\n",
      "\n",
      "\n",
      "\u001b[1m> Entering new StuffDocumentsChain chain...\u001b[0m\n",
      "\n",
      "\n",
      "\u001b[1m> Entering new LLMChain chain...\u001b[0m\n",
      "Prompt after formatting:\n",
      "\u001b[32;1m\u001b[1;3m\n",
      "\n",
      "Human: Here is the context, inside <context></context> XML tags.\n",
      "\n",
      "<context>\n",
      "ask: 홈페이지 이용자아이디 여러 개 사용할 수 있나요?\n",
      "Information: 홈페이지 이용자 아이디는 개인의 경우 1인 1개만 이용 가능하고 기업의 경우에는 1개의 사업자번호당 사용자별로 이용자아이디를 복수로 사용할 수 있습니다. \n",
      "※ 개인사업자의 경우 개인과 기업 각각 이용자아이디를 발급하여 복수로 이용 가능합니다. \n",
      "기타 궁금하신 내용은 신한은행 고객센터 1599-8000로 문의하여 주시기 바랍니다.\n",
      "\n",
      "ask: 영업점에서 인터넷뱅킹 가입하고 왔는데 홈페이지회원은 별도로 가입해야 하나요?\n",
      "Information: 인터넷뱅킹 가입과 홈페이지 회원은 개별로 운영되고 있습니다. \n",
      "인터넷뱅킹만 가입을 하셨다면 별도로 홈페이지에 회원가입 후 홈페이지 로그인이 가능합니다. \n",
      "※ 영업점에서 인터넷뱅킹 가입 시 전계좌조회서비스 가입하신 고객은 홈페이지 상에서 이용자비밀번호 등록 후 이용가능합니다. \n",
      "기타 궁금하신 내용은 신한은행 고객센터 1599-8000로 문의하여 주시기 바랍니다.\n",
      "\n",
      "ask: 홈페이지 회원아이디를 변경하고 싶습니다.\n",
      "Information: 회원탈퇴를 하시고, 사용하시고 싶은 아이디로 신규 회원가입신청을 하시면 됩니다. 다만, 사용하시고 싶은 아이디가 이미 다른 고객이 사용하고 있는 경우에는 사용하실 수 없습니다. 기타 문의는 콜센터 1599-8000번으로 문의 바랍니다.\n",
      "</context>\n",
      "\n",
      "Only using the context as above, answer the following question with the rule as below:\n",
      "    - Don't insert XML tag such as <context> and </context> when answering.\n",
      "    - Write as much as you can\n",
      "    - Be courteous and polite\n",
      "    - Only answer the question if you can find the answer in the context with certainty.\n",
      "\n",
      "Question:\n",
      "홈페이지 이용자아이디를 여러 개 사용할 수 있나요?\n",
      "\n",
      "If the answer is not in the context, just say \"주어진 내용에서 관련 답변을 찾을 수 없습니다.\"\n",
      "\n",
      "\n",
      "Assistant:\u001b[0m\n",
      "\n",
      "\u001b[1m> Finished chain.\u001b[0m\n",
      "\n",
      "\u001b[1m> Finished chain.\u001b[0m\n",
      "################################################################################\n",
      "query: \n",
      " 홈페이지 이용자아이디를 여러 개 사용할 수 있나요?\n",
      "answer: \n",
      "  주어진 내용에서 홈페이지 이용자아이디를 여러 개 사용할 수 있는지에 대한 답변을 찾을 수 있습니다. \n",
      "\n",
      "홈페이지 이용자 아이디는 개인의 경우 1인 1개만 이용 가능합니다. 기업의 경우에는 1개의 사업자번호당 사용자별로 이용자아이디를 복수로 사용할 수 있습니다. 따라서 개인은 여러 개의 홈페이지 이용자아이디를 사용할 수 없지만, 기업은 복수의 이용자아이디 사용이 가능합니다.\n"
     ]
    }
   ],
   "source": [
    "search_hybrid_result = ensemble_retriever.get_relevant_documents(query=query)\n",
    "\n",
    "answer = chain.run(\n",
    "  input_documents=search_keyword_result,\n",
    "  question=query\n",
    ")\n",
    "\n",
    "print(\"#\"*80)\n",
    "print(\"query: \\n\", query)\n",
    "print(\"answer: \\n\", answer)"
   ]
  },
  {
   "cell_type": "code",
   "execution_count": 42,
   "metadata": {},
   "outputs": [
    {
     "name": "stdout",
     "output_type": "stream",
     "text": [
      "-----------------------------------------------\n",
      "1. Chunk: 232 Characters\n",
      "-----------------------------------------------\n",
      "ask: 홈페이지 이용자아이디 여러 개 사용할 수 있나요?\n",
      "Information: 홈페이지 이용자 아이디는 개인의 경우 1인 1개만 이용 가능하고 기업의 경우에는 1개의 사업자번호당 사용자별로 이용자아이디를 복수로 사용할 수 있습니다.\n",
      "※ 개인사업자의 경우 개인과 기업 각각 이용자아이디를 발급하여 복수로 이용 가능합니다.\n",
      "기타 궁금하신 내용은 신한은행 고객센터 1599-8000로 문의하여 주시기 바랍니다.\n",
      "metadata:\n",
      " {'source': '신한은행', 'row': 21, 'type': '홈페이지', 'timestamp': 1701838934.879154}\n",
      "-----------------------------------------------\n",
      "2. Chunk: 172 Characters\n",
      "-----------------------------------------------\n",
      "ask: 홈페이지 회원아이디를 변경하고 싶습니다.\n",
      "Information: 회원탈퇴를 하시고, 사용하시고 싶은 아이디로 신규 회원가입신청을 하시면 됩니다. 다만, 사용하시고 싶은 아이디가 이미 다른 고객이 사용하고 있는 경우에는\n",
      "사용하실 수 없습니다. 기타 문의는 콜센터 1599-8000번으로 문의 바랍니다.\n",
      "metadata:\n",
      " {'source': '신한은행', 'row': 45, 'type': '홈페이지', 'timestamp': 1701838934.8792145}\n",
      "-----------------------------------------------\n",
      "3. Chunk: 261 Characters\n",
      "-----------------------------------------------\n",
      "ask: 아이핀으로 홈페이지회원 가입한 고객은 간편조회서비스 이용할 수 없나요?\n",
      "Information: 아이핀으로 홈페이지 회원가입하신 고객은 홈페이지에서 개인회원으로 전환 후 간편조회서비스 이용가능 합니다.\n",
      "홈페이지 이용자아이디와 비밀번호 로그인→ (우측상단) 고객센터→ 회원서비스 →[ I-Pin → 개인회원 전환]→ '보기' 클릭 후 약관동의→ 개인회원정보 등록→ 확인\n",
      "기타 궁금하신 내용은 신한은행 고객센터 1599-8000로 문의하여 주시기 바랍니다.\n",
      "metadata:\n",
      " {'source': '신한은행', 'row': 19, 'type': '간편서비스', 'timestamp': 1701838934.879149, 'id':\n",
      "'1d6210d0-a006-43c6-944b-f1b2a01842fc'}\n",
      "-----------------------------------------------\n",
      "4. Chunk: 436 Characters\n",
      "-----------------------------------------------\n",
      "ask: 만14세 미만의 고객은 홈페이지 회원가입이 가능하나요?\n",
      "Information: 만 14세 미만 고객은 회원가입시 '정보통신망 이용촉진 및 정보 등에 관한 법률' 및 '개인정보보호지침'에 따라 법정대리인의 정보활용 동의가 필요합니다.\n",
      "당행 영업점을 통한 보호자분의 홈페이지 회원 법정대리인 등록이 완료된 고객님에 한하여 회원등록이 가능하므로 홈페이지 회원 법정대리인 등록이 안된 고객님의 보호자분께서는 먼저 가까운\n",
      "영업점을 방문하여 주시기 바랍니다. [구비서류] - 법정대리인 실명확인증표 - 미성년자 기준으로 발급된 특정 또는 상세 기본증명서 - 미성년자 기준으로 발급된 가족관계증명서 *\n",
      "은행 방문일로부터 3개월 이내 발급한 서류로 준비해주셔야 하며, 성함과 주민등록번호 13자리가 모두 기재되어 있어야합니다. 기타 문의는 콜센터 1599-8000번으로 문의\n",
      "바랍니다.\n",
      "metadata:\n",
      " {'source': '신한은행', 'row': 48, 'type': '홈페이지', 'timestamp': 1701838934.879221}\n",
      "-----------------------------------------------\n",
      "5. Chunk: 492 Characters\n",
      "-----------------------------------------------\n",
      "ask: 아이디/비밀번호가 생각나지 않습니다. 어떻게 해야 하나요?\n",
      "Information: 홈페이지 상단에 있는 [고객센터] > 회원서비스 메뉴에서 아이디 찾기, 비밀번호 재설정하여 이용하시기 바랍니다. 신한은행 개인\n",
      "인터넷뱅킹(bank.shinhan.com) 접속 후 1. 아이디 찾기 ① 고객센터 > 회원서비스 > 아이디찾기 또는 뱅킹로그인 > 아이디찾기 ② [보기] 클릭 > 약관확인 >\n",
      "동의함 체크 ③ 성명/생년월일/계좌번호/계좌비밀번호 입력 > 확인 ④ 이용자아이디 확인 완료 2. 비밀번호 재설정 ① 고객센터 > 회원서비스 ② 회원정보변경>비밀번호 찾기(재설정)\n",
      "③ (개인회원)약관보기 및 동의 ④ 본인확인(이름, 생년월일, 아이디, 계좌번호, 계좌비밀번호 입력) ⑤ 사용할 비밀번호/비밀번호 확인 2회 입력>확인 ※ 영문, 숫자, 특수문자\n",
      "포함 8-15자리 이내 ⑥ 비밀번호 재설정 완료 진행과정 중 궁금하신 내용은 고객센터(1599-8000)으로 문의 부탁드립니다.\n",
      "metadata:\n",
      " {'source': '신한은행', 'row': 47, 'type': '', 'timestamp': 1701838934.879219, 'id':\n",
      "'6fe8cca5-22d0-4eff-9f03-8fdbc4e3a310'}\n",
      "-----------------------------------------------\n",
      "6. Chunk: 137 Characters\n",
      "-----------------------------------------------\n",
      "ask: 홈페이지 회원가입은 어떻게 해야 하나요?\n",
      "Information: 홈페이지 상단에 있는 [고객센터]를 클릭하여, 회원서비스 → 회원가입메뉴에서 회원가입 메뉴를 이용하시기 바랍니다. 기타 문의는 콜센터 1599-8000번으로\n",
      "문의 바랍니다.\n",
      "metadata:\n",
      " {'source': '신한은행', 'row': 49, 'type': '홈페이지', 'timestamp': 1701838934.8792229}\n",
      "-----------------------------------------------\n",
      "7. Chunk: 225 Characters\n",
      "-----------------------------------------------\n",
      "ask: 홈페이지 고객정보를 수정하고 싶습니다.\n",
      "Information: 홈페이지 회원로그인 후 정보수정을 하실 수 있습니다. 홈페이지 상단에 있는 [고객센터]를 클릭하여, 회원서비스 → 회원정보변경 메뉴에서 회원정보변경을\n",
      "이용하시기 바랍니다. 인터넷뱅킹의 회원정보는 인터넷뱅킹으로 로그인 하신 후 사용자 관리메뉴를 이용하여 수정하시기 바랍니다. 기타 문의는 콜센터 1599-8000번으로 문의\n",
      "바랍니다.\n",
      "metadata:\n",
      " {'source': '신한은행', 'row': 46, 'type': '홈페이지', 'timestamp': 1701838934.8792167}\n"
     ]
    }
   ],
   "source": [
    "show_context_used(search_hybrid_result)"
   ]
  },
  {
   "cell_type": "code",
   "execution_count": null,
   "metadata": {},
   "outputs": [],
   "source": []
  }
 ],
 "metadata": {
  "kernelspec": {
   "display_name": "bedrock",
   "language": "python",
   "name": "python3"
  },
  "language_info": {
   "codemirror_mode": {
    "name": "ipython",
    "version": 3
   },
   "file_extension": ".py",
   "mimetype": "text/x-python",
   "name": "python",
   "nbconvert_exporter": "python",
   "pygments_lexer": "ipython3",
   "version": "3.10.13"
  }
 },
 "nbformat": 4,
 "nbformat_minor": 2
}
