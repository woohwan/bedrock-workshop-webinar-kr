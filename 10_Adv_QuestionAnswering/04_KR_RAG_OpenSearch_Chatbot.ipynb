{
 "cells": [
  {
   "cell_type": "markdown",
   "metadata": {
    "tags": []
   },
   "source": [
    "# Conversational Interface - Chatbot with Claude-v2 and OpenSearch\n",
    "\n",
    "> 이 노트북은 SageMaker Studio의 **`Data Science 3.0`** 커널과 잘 작동합니다.\n",
    "\n",
    "> **SageMaker Notebook Instance** 를 이용해 실습을 진행하신다면, **JupyterLab이 아닌 Jupyter**에서 실행하시기 바랍니다.\n",
    "\n",
    "이 노트북에서는 Amazon Bedrock의 기본 모델 (FM) 을 사용하여 챗봇을 구축할 것입니다.사용 사례에서는 Claude를 챗봇 구축을 위한 FM으로 사용합니다.\n",
    "\n",
    "---\n",
    "### 중요\n",
    "- 이 노트북은 Anthropic 의 Claude-v2 모델 접근 가능한 분만 실행 가능합니다. \n",
    "- 접근이 안되시는 분은 노트북의 코드와 결과 만을 확인 하시면 좋겠습니다.\n",
    "- 만일 실행시에는 **\"과금\"** 이 발생이 되는 부분 유념 해주시기 바랍니다."
   ]
  },
  {
   "cell_type": "markdown",
   "metadata": {
    "tags": []
   },
   "source": [
    "## 개요\n",
    "\n",
    "챗봇 및 가상 어시스턴트와 같은 대화형 인터페이스를 사용하여 고객의 사용자 경험을 향상시킬 수 있습니다. 챗봇은 자연어 처리 (NLP) 및 기계 학습 알고리즘을 사용하여 사용자 쿼리를 이해하고 이에 응답합니다.챗봇은 고객 서비스, 판매, 전자 상거래와 같은 다양한 애플리케이션에서 사용되어 사용자에게 빠르고 효율적인 응답을 제공할 수 있습니다.웹사이트, 소셜 미디어 플랫폼 및 메시징 앱과 같은 다양한 채널을 통해 액세스할 수 있습니다.\n",
    "\n",
    "\n",
    "## Amazon Bedrock을 사용하는 챗봇\n"
   ]
  },
  {
   "cell_type": "markdown",
   "metadata": {
    "tags": []
   },
   "source": [
    "### 설정\n",
    "\n",
    "이 노트북의 나머지 부분을 실행하기 전에 아래 셀을 실행하여 (필요한 라이브러리가 설치되어 있는지 확인하고) Bedrock에 연결해야 합니다.\n"
   ]
  },
  {
   "cell_type": "markdown",
   "metadata": {},
   "source": [
    "이 노트북에는 몇 가지 추가 종속성도 필요합니다.\n",
    "\n",
    "- [iPyWidgets](https://ipywidgets.readthedocs.io/en/stable/), 노트북의 대화형 UI 위젯용\n"
   ]
  },
  {
   "cell_type": "code",
   "execution_count": 2,
   "metadata": {
    "tags": []
   },
   "outputs": [],
   "source": [
    "# install_needed = True  # should only be True once\n",
    "install_needed = False  # should only be True once"
   ]
  },
  {
   "cell_type": "code",
   "execution_count": 3,
   "metadata": {
    "tags": []
   },
   "outputs": [],
   "source": [
    "# Make sure you ran `download-dependencies.sh` from the root of the repository first!\n",
    "import sys\n",
    "import IPython\n",
    "\n",
    "if install_needed:\n",
    "    print(\"installing deps and restarting kernel\")\n",
    "    !{sys.executable} -m pip install -U pip\n",
    "    !{sys.executable} -m pip install -U sagemaker    \n",
    "    !{sys.executable} -m pip install \"ipywidgets>=7,<8\"\n",
    "    !{sys.executable} -m pip install langchain==0.0.279    \n",
    "\n",
    "    \n",
    "    IPython.Application.instance().kernel.do_shutdown(True)"
   ]
  },
  {
   "cell_type": "code",
   "execution_count": 4,
   "metadata": {
    "tags": []
   },
   "outputs": [],
   "source": [
    "%load_ext autoreload\n",
    "%autoreload 2\n",
    "\n",
    "import sys, os\n",
    "module_path = \"..\"\n",
    "sys.path.append(os.path.abspath(module_path))"
   ]
  },
  {
   "cell_type": "markdown",
   "metadata": {
    "tags": []
   },
   "source": [
    "# 1. Bedrock Client 생성"
   ]
  },
  {
   "cell_type": "code",
   "execution_count": 2,
   "metadata": {
    "tags": []
   },
   "outputs": [
    {
     "name": "stdout",
     "output_type": "stream",
     "text": [
      "Create new client\n",
      "  Using region: None\n",
      "  Using profile: None\n",
      "boto3 Bedrock client successfully created!\n",
      "bedrock-runtime(https://bedrock-runtime.us-east-1.amazonaws.com)\n",
      "\u001b[32m\n",
      "== FM lists ==\u001b[0m\n",
      "{'Claude-Instant-V1': 'anthropic.claude-instant-v1',\n",
      " 'Claude-V1': 'anthropic.claude-v1',\n",
      " 'Claude-V2': 'anthropic.claude-v2',\n",
      " 'Command': 'cohere.command-text-v14',\n",
      " 'Jurassic-2-Mid': 'ai21.j2-mid-v1',\n",
      " 'Jurassic-2-Ultra': 'ai21.j2-ultra-v1',\n",
      " 'Titan-Embeddings-G1': 'amazon.titan-embed-text-v1',\n",
      " 'Titan-Text-G1': 'TBD'}\n"
     ]
    }
   ],
   "source": [
    "import json\n",
    "import boto3\n",
    "from pprint import pprint\n",
    "from termcolor import colored\n",
    "from utils import bedrock, print_ww\n",
    "from utils.bedrock import bedrock_info\n",
    "\n",
    "# ---- ⚠️ Un-comment and edit the below lines as needed for your AWS setup ⚠️ ----\n",
    "\n",
    "# os.environ[\"AWS_DEFAULT_REGION\"] = \"<REGION_NAME>\"  # E.g. \"us-east-1\"\n",
    "# os.environ[\"AWS_PROFILE\"] = \"<YOUR_PROFILE>\"\n",
    "# os.environ[\"BEDROCK_ASSUME_ROLE\"] = \"<YOUR_ROLE_ARN>\"  # E.g. \"arn:aws:...\"\n",
    "# os.environ[\"BEDROCK_ENDPOINT_URL\"] = \"<YOUR_ENDPOINT_URL>\"  # E.g. \"https://...\"\n",
    "\n",
    "\n",
    "boto3_bedrock = bedrock.get_bedrock_client(\n",
    "    assumed_role=os.environ.get(\"BEDROCK_ASSUME_ROLE\", None),\n",
    "    endpoint_url=os.environ.get(\"BEDROCK_ENDPOINT_URL\", None),\n",
    "    region=os.environ.get(\"AWS_DEFAULT_REGION\", None),\n",
    ")\n",
    "\n",
    "print (colored(\"\\n== FM lists ==\", \"green\"))\n",
    "pprint (bedrock_info.get_list_fm_models())"
   ]
  },
  {
   "cell_type": "markdown",
   "metadata": {},
   "source": [
    "# 2. Titan Embedding 및 LLM 인 Claude-v2 모델 로딩"
   ]
  },
  {
   "cell_type": "markdown",
   "metadata": {
    "tags": []
   },
   "source": [
    "## LLM 로딩 (Claude-v2)"
   ]
  },
  {
   "cell_type": "code",
   "execution_count": 3,
   "metadata": {
    "tags": []
   },
   "outputs": [],
   "source": [
    "from langchain.llms.bedrock import Bedrock"
   ]
  },
  {
   "cell_type": "code",
   "execution_count": 4,
   "metadata": {
    "tags": []
   },
   "outputs": [
    {
     "data": {
      "text/plain": [
       "Bedrock(client=<botocore.client.BedrockRuntime object at 0x7f93caae3760>, model_id='anthropic.claude-v2', model_kwargs={'max_tokens_to_sample': 1024, 'temperature': 0.1, 'top_k': 3, 'top_p': 0.1})"
      ]
     },
     "execution_count": 4,
     "metadata": {},
     "output_type": "execute_result"
    }
   ],
   "source": [
    "# - create the Anthropic Model\n",
    "llm_text = Bedrock(\n",
    "    model_id=bedrock_info.get_model_id(model_name=\"Claude-V2\"),\n",
    "    client=boto3_bedrock,\n",
    "    model_kwargs={\n",
    "        \"max_tokens_to_sample\":1024,\n",
    "        \"temperature\": 0.1,\n",
    "        \"top_k\": 3,\n",
    "        \"top_p\": 0.1\n",
    "    }\n",
    ")\n",
    "llm_text"
   ]
  },
  {
   "cell_type": "markdown",
   "metadata": {},
   "source": [
    "## Embedding 모델 선택"
   ]
  },
  {
   "cell_type": "code",
   "execution_count": 7,
   "metadata": {
    "tags": []
   },
   "outputs": [],
   "source": [
    "from utils.rag import KoSimCSERobertaContentHandler, SagemakerEndpointEmbeddingsJumpStart\n",
    "\n",
    "def get_embedding_model(is_bedrock_embeddings, is_KoSimCSERobert, aws_region, endpont_name=None):\n",
    "    if is_bedrock_embeddings:\n",
    "\n",
    "        # We will be using the Titan Embeddings Model to generate our Embeddings.\n",
    "        from langchain.embeddings import BedrockEmbeddings\n",
    "\n",
    "        llm_emb = BedrockEmbeddings(\n",
    "            client=boto3_bedrock,\n",
    "            model_id=bedrock_info.get_model_id(\n",
    "                model_name=\"Titan-Embeddings-G1\"\n",
    "            )\n",
    "        )\n",
    "        print(\"Bedrock Embeddings Model Loaded\")\n",
    "\n",
    "    elif is_KoSimCSERobert:\n",
    "        LLMEmbHandler = KoSimCSERobertaContentHandler()\n",
    "        endpoint_name_emb = endpont_name\n",
    "        llm_emb = SagemakerEndpointEmbeddingsJumpStart(\n",
    "            endpoint_name=endpoint_name_emb,\n",
    "            region_name=aws_region,\n",
    "            content_handler=LLMEmbHandler,\n",
    "        )        \n",
    "        print(\"KoSimCSERobert Embeddings Model Loaded\")\n",
    "    else:\n",
    "        llm_emb = None\n",
    "        print(\"No Embedding Model Selected\")\n",
    "    \n",
    "    return llm_emb"
   ]
  },
  {
   "cell_type": "markdown",
   "metadata": {},
   "source": [
    "#### [중요] is_KoSimCSERobert == True 일시에 endpoint_name 을 꼭 넣어 주세요."
   ]
  },
  {
   "cell_type": "code",
   "execution_count": 8,
   "metadata": {
    "tags": []
   },
   "outputs": [
    {
     "name": "stdout",
     "output_type": "stream",
     "text": [
      "Bedrock Embeddings Model Loaded\n"
     ]
    }
   ],
   "source": [
    "is_bedrock_embeddings = True\n",
    "# is_bedrock_embeddings = False\n",
    "# is_KoSimCSERobert = True\n",
    "is_KoSimCSERobert = False\n",
    "\n",
    "##############################\n",
    "# Parameters for is_KoSimCSERobert\n",
    "##############################\n",
    "aws_region = os.environ.get(\"AWS_DEFAULT_REGION\", None)\n",
    "endpont_name = \"KoSimCSE-roberta-2023-09-01-14-34-11\"\n",
    "##############################\n",
    "\n",
    "llm_emb = get_embedding_model(is_bedrock_embeddings, is_KoSimCSERobert, aws_region, endpont_name)    "
   ]
  },
  {
   "cell_type": "markdown",
   "metadata": {
    "tags": []
   },
   "source": [
    "# 3. LangChain OpenSearch VectorStore 생성 \n",
    "## 선수 조건\n",
    "- 이전 노트북 02_KR_RAG_OpenSearch_Claude.ipynb 를 통해서 OpenSearch Index 가 생성이 되어 있어야 합니다."
   ]
  },
  {
   "cell_type": "markdown",
   "metadata": {},
   "source": [
    "## 오픈 서치 도메인 및 인증 정보 세팅\n",
    "\n",
    "- [langchain.vectorstores.opensearch_vector_search.OpenSearchVectorSearch](https://api.python.langchain.com/en/latest/vectorstores/langchain.vectorstores.opensearch_vector_search.OpenSearchVectorSearch.html)"
   ]
  },
  {
   "cell_type": "markdown",
   "metadata": {},
   "source": [
    "#### [중요] 아래에 OpenSearch ID/PW 를 입력을 해주세요."
   ]
  },
  {
   "cell_type": "code",
   "execution_count": 9,
   "metadata": {
    "tags": []
   },
   "outputs": [],
   "source": [
    "\n",
    "os.environ[\"OpenSearch_UserName\"] = \"Type ID\" \n",
    "os.environ[\"OpenSearch_UserPassword\"] = \"Type PW\" \n",
    "\n",
    "\n",
    "\n",
    "\n",
    "rag_user_name = os.environ[\"OpenSearch_UserName\"]\n",
    "rag_user_password = os.environ[\"OpenSearch_UserPassword\"]\n"
   ]
  },
  {
   "cell_type": "code",
   "execution_count": 10,
   "metadata": {
    "tags": []
   },
   "outputs": [],
   "source": [
    "# OpenSearch Dashboards URL = https://search-gonsoo-jeiuxgzz4322ulsrbokvnqispu.us-east-1.es.amazonaws.com/_dashboards\n",
    "http_auth = (rag_user_name, rag_user_password) # Master username, Master password\n",
    "\n",
    "index_name = \"fsi-v10\"\n"
   ]
  },
  {
   "cell_type": "markdown",
   "metadata": {
    "tags": []
   },
   "source": [
    "## LangChain OpenSearch VectorStore 생성"
   ]
  },
  {
   "cell_type": "code",
   "execution_count": 11,
   "metadata": {
    "tags": []
   },
   "outputs": [],
   "source": [
    "from langchain.vectorstores import OpenSearchVectorSearch\n",
    "\n",
    "vector_db = OpenSearchVectorSearch(\n",
    "    index_name=index_name,\n",
    "    opensearch_url=opensearch_domain_endpoint,\n",
    "    embedding_function=llm_emb,\n",
    "    http_auth=http_auth, # http_auth\n",
    "    is_aoss =False,\n",
    "    engine=\"faiss\",\n",
    "    space_type=\"l2\"\n",
    ")"
   ]
  },
  {
   "cell_type": "markdown",
   "metadata": {},
   "source": [
    "# 4. RetrievalQA 구현"
   ]
  },
  {
   "cell_type": "markdown",
   "metadata": {},
   "source": [
    "## 템플릿 생성"
   ]
  },
  {
   "cell_type": "markdown",
   "metadata": {},
   "source": [
    "### [TIP] Prompt의 instruction의 경우 한글보다 **영어**로 했을 때 더 좋은 결과를 얻을 수 있습니다."
   ]
  },
  {
   "cell_type": "code",
   "execution_count": 12,
   "metadata": {
    "tags": []
   },
   "outputs": [],
   "source": [
    "from utils.rag import create_bool_filter, run_RetrievalQA, show_context_used\n",
    "from langchain.prompts import PromptTemplate\n",
    "\n",
    "prompt_template = \"\"\"\\n\\nHuman: 다음 문맥의 Information을 사용하여 고객 서비스 센터 직원처럼, 마지막 질문에 대한 목차 형식으로 답변을 제공하세요. 읃답을 모르면 모른다고 말하고 응답을 만들려고 하지 마세요.\n",
    "\n",
    "{context}\n",
    "\n",
    "Question: {question}\n",
    "\\n\\nAssistant:\"\"\"\n",
    "\n",
    "# prompt_template = \"\"\"\n",
    "# \\n\\nHuman: 다음 문맥의 Information을 사용하여 고객 서비스 센터 직원처럼, 마지막 질문에 대한 목차 형식으로 답변을 제공하세요. 응답을 모르면 모른다고 말하고 응답을 만들려고 하지 마세요.\n",
    "\n",
    "# {context}\n",
    "\n",
    "# Question: {question}\n",
    "# \\n\\nAssistant:\"\"\"\n",
    "\n",
    "# prompt_template = \"\"\"\n",
    "# \\n\\nHuman: Use the following pieces of context to provide a concise answer to the question at the end.\n",
    "# If you don't know the answer, just say that you don't know, don't try to make up an answer.\n",
    "\n",
    "# {context}\n",
    "\n",
    "# Question: {question}\n",
    "\n",
    "# \\n\\nAssistant:\"\"\"\n",
    "\n",
    "PROMPT = PromptTemplate(\n",
    "    template=prompt_template, input_variables=[\"context\", \"question\"]\n",
    ")\n"
   ]
  },
  {
   "cell_type": "markdown",
   "metadata": {},
   "source": [
    "### 필터 생성"
   ]
  },
  {
   "cell_type": "code",
   "execution_count": 13,
   "metadata": {
    "tags": []
   },
   "outputs": [],
   "source": [
    "filter01 = \"인터넷뱅킹\"\n",
    "# filter01 = \"인증서\"\n",
    "filter02 = \"신한은행\"\n",
    "# filter02 = \"아마존은행\"\n",
    "\n",
    "# query = \"홈페이지 이용자아이디 여러 개 사용할 수 있나요?\"\n",
    "query = \"타기관OTP 등록 방법 알려주세요\"\n",
    "\n",
    "boolean_filter = create_bool_filter(filter01, filter02)\n"
   ]
  },
  {
   "cell_type": "code",
   "execution_count": 14,
   "metadata": {
    "tags": []
   },
   "outputs": [
    {
     "name": "stdout",
     "output_type": "stream",
     "text": [
      "##################################\n",
      "query:  타기관OTP 등록 방법 알려주세요\n",
      "##################################\n",
      " 타기관 OTP 등록 방법은 다음과 같습니다:\n",
      "\n",
      "1. 인터넷뱅킹 로그인\n",
      "2. 사용자관리 > 인터넷뱅킹관리 > OTP이용등록\n",
      "\n",
      "또는\n",
      "\n",
      "1. 신한 쏠(SOL) 로그인\n",
      "2. 전체메뉴 > 설정/인증 > 이용중인 보안매체선택 > OTP이용등록\n",
      "\n",
      "OTP 등록 후 재로그인하셔야 새로 등록된 보안매체가 적용됩니다.\n",
      "\n",
      "더 자세한 내용은 신한은행 고객센터(1599-8000)로 문의하시기 바랍니다.\n"
     ]
    }
   ],
   "source": [
    "result = run_RetrievalQA(query, boolean_filter, llm_text, vector_db, PROMPT, verbose=False, is_filter=True ,k=5)\n",
    "\n",
    "print(\"##################################\")\n",
    "print(\"query: \", query)\n",
    "print(\"##################################\")\n",
    "print_ww(result['result'])\n",
    "# show_context_used(result['source_documents'])        \n"
   ]
  },
  {
   "cell_type": "markdown",
   "metadata": {
    "tags": []
   },
   "source": [
    "# 5. Conversational Chatbot 사용한 대화형 세션\n",
    "\n",
    "다음 유틸리티 클래스를 사용하면 Claude와 보다 자연스러운 방식으로 상호 작용할 수 있습니다. 입력창에 질문을 적고 클로드의 답변을 받습니다. 그러면 대화를 계속할 수 있습니다."
   ]
  },
  {
   "cell_type": "markdown",
   "metadata": {
    "tags": []
   },
   "source": [
    "### 메모리\n",
    "모든 챗봇에는 사용 사례에 따라 맞춤화된 다양한 옵션을 갖춘 QA 체인이 필요합니다. 그러나 챗봇에서는 모델이 답변을 제공하기 위해 이를 고려할 수 있도록 항상 대화 기록을 보관해야 합니다. 이 예에서는 대화 기록을 유지하기 위해 ConversationBufferMemory와 함께 LangChain의 [ConversationalRetrievalChain](https://python.langchain.com/docs/modules/chains/popular/chat_Vector_db)을 사용합니다.\n",
    "\n",
    "출처: https://python.langchain.com/docs/modules/chains/popular/chat_Vector_db\n",
    "\n",
    "뒤에서 무슨 일이 일어나고 있는지 모두 보려면 'verbose'를 'True'로 설정하세요."
   ]
  },
  {
   "cell_type": "markdown",
   "metadata": {},
   "source": [
    "### ConversationRetrievalChain에 사용되는 매개변수\n",
    "* **retriever**: 우리는 `VectorStore`가 지원하는 `VectorStoreRetriever`를 사용했습니다. 텍스트를 검색하려면 `\"similarity\"` 또는 `\"mmr\"`라는 두 가지 검색 유형을 선택할 수 있습니다. `search_type=\"similarity\"`는 질문 벡터와 가장 유사한 텍스트 청크 벡터를 선택하는 검색 객체에서 유사성 검색을 사용합니다.\n",
    "\n",
    "* **메모리**: 이력을 저장하는 메모리 체인\n",
    "\n",
    "\n",
    "질문이 컨텍스트 범위를 벗어나면 모델은 답을 모른다고 대답합니다.\n",
    "\n",
    "**참고**: 체인이 어떻게 작동하는지 궁금하다면 `verbose=True` 줄의 주석 처리를 해제하세요."
   ]
  },
  {
   "cell_type": "markdown",
   "metadata": {},
   "source": [
    "## ConversationChain 생성"
   ]
  },
  {
   "cell_type": "code",
   "execution_count": 15,
   "metadata": {
    "tags": []
   },
   "outputs": [],
   "source": [
    "from langchain.chains import ConversationChain\n",
    "from langchain.memory import ConversationBufferMemory\n",
    "from langchain.chains import ConversationalRetrievalChain\n",
    "from langchain.schema import BaseMessage\n",
    "# from utils.rag import _get_chat_history \n",
    "\n",
    "\n",
    "from langchain import PromptTemplate"
   ]
  },
  {
   "cell_type": "code",
   "execution_count": 16,
   "metadata": {
    "tags": []
   },
   "outputs": [],
   "source": [
    "from langchain.prompts import SystemMessagePromptTemplate, HumanMessagePromptTemplate, AIMessagePromptTemplate\n",
    "from langchain.prompts import ChatPromptTemplate\n",
    "\n",
    "from langchain.prompts.prompt import PromptTemplate\n",
    "\n",
    "condense_question_template = \"\"\"To create condense_question, given the following conversation and a follow up question, rephrase the follow up question to be a standalone question, in its original language.\n",
    "\n",
    "Chat History:\n",
    "{chat_history}\n",
    "Follow Up Input: {question}\n",
    "Standalone question:\"\"\"\n",
    "CONDENSE_QUESTION_PROMPT = PromptTemplate.from_template(condense_question_template)\n",
    "\n",
    "qa_prompt = PromptTemplate.from_template(\"\"\"\n",
    "\n",
    "\n",
    "Human:\n",
    "Here is the context, inside <context></context> XML tags.    \n",
    "Based on the context as below, answer the question. If you don't know the answer, just say that you don't know, don't try to make up an answer.\n",
    "\n",
    "<context>\n",
    "{context}\n",
    "</context>\n",
    "\n",
    "Human: Use at maximum 5 sentences to answer the following question.\n",
    "{question}\n",
    "\n",
    "If the answer is not in the context say \"주어진 내용에서 관련 답변을 찾을 수 없습니다.\"\n",
    "\n",
    "Assistant:\"\"\")\n",
    "\n",
    "# print(qa_prompt)"
   ]
  },
  {
   "cell_type": "markdown",
   "metadata": {},
   "source": [
    "### 챗봇 (ConversationalRetrievalChain)  질문"
   ]
  },
  {
   "cell_type": "code",
   "execution_count": 17,
   "metadata": {
    "tags": []
   },
   "outputs": [],
   "source": [
    "from utils.rag import ChatUX   \n",
    "from utils.rag import _get_chat_history\n",
    "\n",
    "def create_ConversationalRetrievalChain(qa_prompt, boolean_filter, llm_text, k=1, verbose=False):\n",
    "    memory_chain = ConversationBufferMemory(memory_key=\"chat_history\", return_messages=True)\n",
    "    qa = ConversationalRetrievalChain.from_llm(\n",
    "        llm= llm_text, \n",
    "        retriever=vector_db.as_retriever(\n",
    "                            search_type=\"similarity\", \n",
    "                            search_kwargs={\n",
    "                                            \"k\": k,\n",
    "                                            \"boolean_filter\" : boolean_filter\n",
    "                                        }\n",
    "                ),\n",
    "        memory=memory_chain,\n",
    "        condense_question_prompt= CONDENSE_QUESTION_PROMPT,                \n",
    "        combine_docs_chain_kwargs={'prompt': qa_prompt},                                               \n",
    "        get_chat_history=_get_chat_history,\n",
    "    #     verbose=True,\n",
    "        verbose= verbose,    \n",
    "        # condense_question_prompt=condense_prompt_claude, \n",
    "        # chain_type='stuff', # 'refine',\n",
    "    )\n",
    "    \n",
    "    return qa\n",
    "    \n"
   ]
  },
  {
   "cell_type": "markdown",
   "metadata": {},
   "source": [
    "# 6. 챗봇 (ConversationalRetrievalChain) 실행"
   ]
  },
  {
   "cell_type": "markdown",
   "metadata": {},
   "source": [
    "## ChatHistory 사용한 Q&A 내부 로직\n",
    "- 첫째 질문: \n",
    "    - qa(\"타기관OTP 등록 방법 알려주세요\")\n",
    "    - 내부 로직\n",
    "        - (1) StuffDocumentsChain 실행 (Vector Store 로 부터 검색하여 Top K 가져옴)\n",
    "        - (2) combine_docs_chain_kwargs (아래 정의 참조) 를 이용하여 Prompt 포맷팅 완료 후에 LLMChain 실행\n",
    "        - (3) 결과 제공\n",
    "- 둘째 질문: \n",
    "    - qa(\"앱 이름이 뭐야?\")\n",
    "    - 내부 로직\n",
    "        - (1) Chat History  존재 확인\n",
    "        - (2) CONDENSE_QUESTION_PROMPT 를 실행하여, 새로이 입력된 질문을 기존의 Chat history 와 결합하여 \"새로운 질문\" 을 생성 함.\n",
    "            - \"새로운 질문\" + \"Chat History\" = \"새롭게 창조된 질문\" (예: 타기관 OTP 등록 시 사용하는 앱 이름이 무엇인가요?)\n",
    "                - \"타기관 OTP 등록 시 사용하는\" 이 부분이 채팅 기록을 이용하여 만들어 냄\n",
    "        - (3) StuffDocumentsChain 실행 (\"새롭게 창조된 질문\" 를 이용하여 Vector Store 로 부터 검색하여 Top K 가져옴)\n",
    "        - (4) combine_docs_chain_kwargs (아래 정의 참조) 를 이용하여 Prompt 포맷팅 완료 후에 LLMChain 실행\n",
    "        - (5) 결과 제공\n",
    "        \n",
    "        "
   ]
  },
  {
   "cell_type": "markdown",
   "metadata": {
    "jp-MarkdownHeadingCollapsed": true,
    "tags": []
   },
   "source": [
    "- CONDENSE_QUESTION_PROMPT\n",
    "    - 우리가 제어할 수 있는 첫 번째 것은 채팅 기록과 새로운 질문을 가져와 독립형 질문을 생성하는 프롬프트입니다. 이는 이 독립형 질문이 관련 문서를 찾는 데 사용되기 때문에 필요합니다.이것은 교활하고 중요한 단계입니다. 관련 문서를 조회하기 위해 새로운 질문을 사용했다면, 후속 질문에 대해 챗봇이 제대로 작동하지 않을 것입니다(이전 교환에서 관련 문서를 조회하는 데 필요한 정보가 있을 수 있기 때문입니다). 관련 문서를 찾기 위해 새 질문과 함께 전체 채팅 기록을 삽입하면 대화와 더 이상 관련이 없는 문서를 가져올 수 있습니다(새 질문이 전혀 관련이 없는 경우). 따라서 채팅 기록과 새로운 질문을 독립형 질문으로 압축하는 이 단계는 매우 중요합니다.\n",
    "- combine_docs_chain_kwargs={'prompt': qa_prompt}\n",
    "    - 매번 대화를 할때 마다 생성이 되는 프롬프트 입니다. 이 프롬프트는 Claude 형식의 프로프트로 만들어 주시기를 권장 합니다. 아래는 예시 입니다.\n",
    "```\n",
    "qa_prompt = PromptTemplate.from_template(\"\"\"\n",
    "\n",
    "\n",
    "Human:\n",
    "Here is the context, inside <context></context> XML tags.    \n",
    "Based on the context as below, answer the question. If you don't know the answer, just say that you don't know, don't try to make up an answer.\n",
    "\n",
    "<context>\n",
    "{context}\n",
    "</context>\n",
    "\n",
    "Human: Use at maximum 3 sentences to answer the following question.\n",
    "{question}\n",
    "\n",
    "If the answer is not in the context say \"Sorry, I don't know as the answer was not found in the context\"\n",
    "\n",
    "Assistant:\"\"\")\n",
    "\n",
    "```\n",
    "\n",
    "## Reference\n",
    "- [Store and reference chat history](https://python.langchain.com/docs/use_cases/question_answering/how_to/chat_vector_db)\n",
    "- [Condense Question Prompt](https://blog.langchain.dev/tutorial-chatgpt-over-your-data/)\n",
    "- [langchain.chains.conversational_retrieval.base.ConversationalRetrievalChain¶](https://api.python.langchain.com/en/latest/chains/langchain.chains.conversational_retrieval.base.ConversationalRetrievalChain.html)\n",
    "- [Chat Over Documents with Vectara](https://blog.langchain.dev/conversational-retrieval-agents/)"
   ]
  },
  {
   "cell_type": "markdown",
   "metadata": {},
   "source": [
    "## (1) 챗봇 실행"
   ]
  },
  {
   "cell_type": "code",
   "execution_count": 24,
   "metadata": {
    "tags": []
   },
   "outputs": [],
   "source": [
    "qa = create_ConversationalRetrievalChain(qa_prompt, boolean_filter, llm_text, k=3, verbose=True)"
   ]
  },
  {
   "cell_type": "code",
   "execution_count": 25,
   "metadata": {
    "tags": []
   },
   "outputs": [
    {
     "name": "stdout",
     "output_type": "stream",
     "text": [
      "\n",
      "\n",
      "\u001b[1m> Entering new StuffDocumentsChain chain...\u001b[0m\n",
      "\n",
      "\n",
      "\u001b[1m> Entering new LLMChain chain...\u001b[0m\n",
      "Prompt after formatting:\n",
      "\u001b[32;1m\u001b[1;3m\n",
      "\n",
      "\n",
      "Human:\n",
      "Here is the context, inside <context></context> XML tags.    \n",
      "Based on the context as below, answer the question. If you don't know the answer, just say that you don't know, don't try to make up an answer.\n",
      "\n",
      "<context>\n",
      "ask: 타기관OTP 이용등록방법 알려주세요\n",
      "Information: 타기관에서 발급받으신 OTP가 통합OTP카드인 경우 당행에 등록하여 이용가능합니다. \n",
      "[경로]\n",
      "- 인터넷뱅킹 로그인→ 사용자관리→인터넷뱅킹관리→OTP이용등록  \n",
      "- 신한 쏠(SOL) 로그인→ 전체메뉴→설정/인증→ 이용중인 보안매체선택→   OTP이용등록\n",
      " \n",
      " ※ OTP이용등록후 재로그인을 하셔야 새로 등록된 보안매체가 적용됩니다.\n",
      "\n",
      "기타 궁금하신 내용은 신한은행 고객센터 1599-8000로 문의하여 주시기 바랍니다.\n",
      "\n",
      "ask: 인터넷뱅킹에서 모바일OTP 인증요청 했는데 푸시메세지가 오지 않아요. 어떻게 해야하나요?\n",
      "Information: 신한 쏠(SOL) 푸시알림 수신에 동의를 하신경우 푸시를 받을수 있습니다. 경로 : 신한 쏠(SOL) 로그인 > 전체메뉴 > 설정/인증  > 일반 > 알림 > 금융정보 알림 항목을 수신동의로 설정 기타 궁금하신 내용은 신한은행 고객센터 1599-8000로 문의하여 주시기 바랍니다.\n",
      "\n",
      "ask: 모바일 OTP 사용하고 있는데 인터넷뱅킹에서는 어떻게 이용하는건가요?\n",
      "Information: 인터넷뱅킹 거래시 보안매체 입력단계에 [인증요청] 버튼 클릭하면 핸드폰으로 푸시메세지가 전달됩니다. \n",
      "푸시메세지 터치하여 모바일 OTP 비밀번호 6자리 입력, 인증처리 완료후 인터넷뱅킹에서 이후의 절차를 진행하시면 됩니다.\n",
      "※ 스마트폰에 모바일 OTP 푸시(PUSH) 메세지가 오지 않는 경우 메뉴 직접 실행 \n",
      "- 신한 쏠(SOL) [로그인 하지 않음]> 전체메뉴> 설정/인증> 보안매체 전체보기> 모바일OTP> 인증\n",
      "기타 궁금하신 내용은 신한은행 고객센터 1599-8000로 문의하여 주시기 바랍니다.\n",
      "</context>\n",
      "\n",
      "Human: Use at maximum 5 sentences to answer the following question.\n",
      "타기관OTP 등록 방법 알려주세요\n",
      "\n",
      "If the answer is not in the context say \"주어진 내용에서 관련 답변을 찾을 수 없습니다.\"\n",
      "\n",
      "Assistant:\u001b[0m\n",
      "\n",
      "\u001b[1m> Finished chain.\u001b[0m\n",
      "\n",
      "\u001b[1m> Finished chain.\u001b[0m\n"
     ]
    },
    {
     "data": {
      "text/plain": [
       "{'question': '타기관OTP 등록 방법 알려주세요',\n",
       " 'chat_history': [HumanMessage(content='타기관OTP 등록 방법 알려주세요', additional_kwargs={}, example=False),\n",
       "  AIMessage(content=' 주어진 내용에서 타기관 OTP 등록 방법은 다음과 같습니다.\\n\\n타기관에서 발급받으신 OTP가 통합OTP카드인 경우 당행에 등록하여 이용가능합니다. 인터넷뱅킹 로그인 후 사용자관리 - 인터넷뱅킹관리 - OTP이용등록 메뉴에서 등록할 수 있습니다. 신한 쏠(SOL)의 경우 전체메뉴 - 설정/인증 - 이용중인 보안매체선택 - OTP이용등록 메뉴에서 등록이 가능합니다. 등록 후 재로그인해야 새로 등록된 보안매체가 적용됩니다.', additional_kwargs={}, example=False)],\n",
       " 'answer': ' 주어진 내용에서 타기관 OTP 등록 방법은 다음과 같습니다.\\n\\n타기관에서 발급받으신 OTP가 통합OTP카드인 경우 당행에 등록하여 이용가능합니다. 인터넷뱅킹 로그인 후 사용자관리 - 인터넷뱅킹관리 - OTP이용등록 메뉴에서 등록할 수 있습니다. 신한 쏠(SOL)의 경우 전체메뉴 - 설정/인증 - 이용중인 보안매체선택 - OTP이용등록 메뉴에서 등록이 가능합니다. 등록 후 재로그인해야 새로 등록된 보안매체가 적용됩니다.'}"
      ]
     },
     "execution_count": 25,
     "metadata": {},
     "output_type": "execute_result"
    }
   ],
   "source": [
    "qa(\"타기관OTP 등록 방법 알려주세요\")"
   ]
  },
  {
   "cell_type": "code",
   "execution_count": 26,
   "metadata": {
    "tags": []
   },
   "outputs": [
    {
     "name": "stdout",
     "output_type": "stream",
     "text": [
      "\n",
      "\n",
      "\u001b[1m> Entering new LLMChain chain...\u001b[0m\n",
      "Prompt after formatting:\n",
      "\u001b[32;1m\u001b[1;3mTo create condense_question, given the following conversation and a follow up question, rephrase the follow up question to be a standalone question, in its original language.\n",
      "\n",
      "Chat History:\n",
      "\n",
      "\n",
      "\n",
      "Human: 타기관OTP 등록 방법 알려주세요\n",
      "\n",
      "\n",
      "Assistant:  주어진 내용에서 타기관 OTP 등록 방법은 다음과 같습니다.\n",
      "\n",
      "타기관에서 발급받으신 OTP가 통합OTP카드인 경우 당행에 등록하여 이용가능합니다. 인터넷뱅킹 로그인 후 사용자관리 - 인터넷뱅킹관리 - OTP이용등록 메뉴에서 등록할 수 있습니다. 신한 쏠(SOL)의 경우 전체메뉴 - 설정/인증 - 이용중인 보안매체선택 - OTP이용등록 메뉴에서 등록이 가능합니다. 등록 후 재로그인해야 새로 등록된 보안매체가 적용됩니다.\n",
      "Follow Up Input: 앱 이름이 뭐야?\n",
      "Standalone question:\u001b[0m\n",
      "\n",
      "\u001b[1m> Finished chain.\u001b[0m\n",
      "\n",
      "\n",
      "\u001b[1m> Entering new StuffDocumentsChain chain...\u001b[0m\n",
      "\n",
      "\n",
      "\u001b[1m> Entering new LLMChain chain...\u001b[0m\n",
      "Prompt after formatting:\n",
      "\u001b[32;1m\u001b[1;3m\n",
      "\n",
      "\n",
      "Human:\n",
      "Here is the context, inside <context></context> XML tags.    \n",
      "Based on the context as below, answer the question. If you don't know the answer, just say that you don't know, don't try to make up an answer.\n",
      "\n",
      "<context>\n",
      "ask: 타기관OTP 이용등록방법 알려주세요\n",
      "Information: 타기관에서 발급받으신 OTP가 통합OTP카드인 경우 당행에 등록하여 이용가능합니다. \n",
      "[경로]\n",
      "- 인터넷뱅킹 로그인→ 사용자관리→인터넷뱅킹관리→OTP이용등록  \n",
      "- 신한 쏠(SOL) 로그인→ 전체메뉴→설정/인증→ 이용중인 보안매체선택→   OTP이용등록\n",
      " \n",
      " ※ OTP이용등록후 재로그인을 하셔야 새로 등록된 보안매체가 적용됩니다.\n",
      "\n",
      "기타 궁금하신 내용은 신한은행 고객센터 1599-8000로 문의하여 주시기 바랍니다.\n",
      "\n",
      "ask: 모바일 OTP 사용하고 있는데 인터넷뱅킹에서는 어떻게 이용하는건가요?\n",
      "Information: 인터넷뱅킹 거래시 보안매체 입력단계에 [인증요청] 버튼 클릭하면 핸드폰으로 푸시메세지가 전달됩니다. \n",
      "푸시메세지 터치하여 모바일 OTP 비밀번호 6자리 입력, 인증처리 완료후 인터넷뱅킹에서 이후의 절차를 진행하시면 됩니다.\n",
      "※ 스마트폰에 모바일 OTP 푸시(PUSH) 메세지가 오지 않는 경우 메뉴 직접 실행 \n",
      "- 신한 쏠(SOL) [로그인 하지 않음]> 전체메뉴> 설정/인증> 보안매체 전체보기> 모바일OTP> 인증\n",
      "기타 궁금하신 내용은 신한은행 고객센터 1599-8000로 문의하여 주시기 바랍니다.\n",
      "\n",
      "ask: 인터넷뱅킹에서 모바일OTP 인증요청 했는데 푸시메세지가 오지 않아요. 어떻게 해야하나요?\n",
      "Information: 신한 쏠(SOL) 푸시알림 수신에 동의를 하신경우 푸시를 받을수 있습니다. 경로 : 신한 쏠(SOL) 로그인 > 전체메뉴 > 설정/인증  > 일반 > 알림 > 금융정보 알림 항목을 수신동의로 설정 기타 궁금하신 내용은 신한은행 고객센터 1599-8000로 문의하여 주시기 바랍니다.\n",
      "</context>\n",
      "\n",
      "Human: Use at maximum 5 sentences to answer the following question.\n",
      " 타기관 OTP를 등록할 수 있는 신한은행 앱 이름이 무엇인가요?\n",
      "\n",
      "If the answer is not in the context say \"주어진 내용에서 관련 답변을 찾을 수 없습니다.\"\n",
      "\n",
      "Assistant:\u001b[0m\n",
      "\n",
      "\u001b[1m> Finished chain.\u001b[0m\n",
      "\n",
      "\u001b[1m> Finished chain.\u001b[0m\n"
     ]
    },
    {
     "data": {
      "text/plain": [
       "{'question': '앱 이름이 뭐야?',\n",
       " 'chat_history': [HumanMessage(content='타기관OTP 등록 방법 알려주세요', additional_kwargs={}, example=False),\n",
       "  AIMessage(content=' 주어진 내용에서 타기관 OTP 등록 방법은 다음과 같습니다.\\n\\n타기관에서 발급받으신 OTP가 통합OTP카드인 경우 당행에 등록하여 이용가능합니다. 인터넷뱅킹 로그인 후 사용자관리 - 인터넷뱅킹관리 - OTP이용등록 메뉴에서 등록할 수 있습니다. 신한 쏠(SOL)의 경우 전체메뉴 - 설정/인증 - 이용중인 보안매체선택 - OTP이용등록 메뉴에서 등록이 가능합니다. 등록 후 재로그인해야 새로 등록된 보안매체가 적용됩니다.', additional_kwargs={}, example=False),\n",
       "  HumanMessage(content='앱 이름이 뭐야?', additional_kwargs={}, example=False),\n",
       "  AIMessage(content=' 주어진 내용에서 타기관 OTP를 등록할 수 있는 신한은행 앱 이름을 확인할 수 없습니다.', additional_kwargs={}, example=False)],\n",
       " 'answer': ' 주어진 내용에서 타기관 OTP를 등록할 수 있는 신한은행 앱 이름을 확인할 수 없습니다.'}"
      ]
     },
     "execution_count": 26,
     "metadata": {},
     "output_type": "execute_result"
    }
   ],
   "source": [
    "qa(\"앱 이름이 뭐야?\")"
   ]
  },
  {
   "cell_type": "code",
   "execution_count": 27,
   "metadata": {
    "tags": []
   },
   "outputs": [
    {
     "name": "stdout",
     "output_type": "stream",
     "text": [
      "\n",
      "\n",
      "\u001b[1m> Entering new LLMChain chain...\u001b[0m\n",
      "Prompt after formatting:\n",
      "\u001b[32;1m\u001b[1;3mTo create condense_question, given the following conversation and a follow up question, rephrase the follow up question to be a standalone question, in its original language.\n",
      "\n",
      "Chat History:\n",
      "\n",
      "\n",
      "\n",
      "Human: 타기관OTP 등록 방법 알려주세요\n",
      "\n",
      "\n",
      "Assistant:  주어진 내용에서 타기관 OTP 등록 방법은 다음과 같습니다.\n",
      "\n",
      "타기관에서 발급받으신 OTP가 통합OTP카드인 경우 당행에 등록하여 이용가능합니다. 인터넷뱅킹 로그인 후 사용자관리 - 인터넷뱅킹관리 - OTP이용등록 메뉴에서 등록할 수 있습니다. 신한 쏠(SOL)의 경우 전체메뉴 - 설정/인증 - 이용중인 보안매체선택 - OTP이용등록 메뉴에서 등록이 가능합니다. 등록 후 재로그인해야 새로 등록된 보안매체가 적용됩니다.\n",
      "\n",
      "\n",
      "Human: 앱 이름이 뭐야?\n",
      "\n",
      "\n",
      "Assistant:  주어진 내용에서 타기관 OTP를 등록할 수 있는 신한은행 앱 이름을 확인할 수 없습니다.\n",
      "Follow Up Input: 등록 후 재로그인하면 새로 등록한 OTP를 사용할 수 있어?\n",
      "Standalone question:\u001b[0m\n",
      "\n",
      "\u001b[1m> Finished chain.\u001b[0m\n",
      "\n",
      "\n",
      "\u001b[1m> Entering new StuffDocumentsChain chain...\u001b[0m\n",
      "\n",
      "\n",
      "\u001b[1m> Entering new LLMChain chain...\u001b[0m\n",
      "Prompt after formatting:\n",
      "\u001b[32;1m\u001b[1;3m\n",
      "\n",
      "\n",
      "Human:\n",
      "Here is the context, inside <context></context> XML tags.    \n",
      "Based on the context as below, answer the question. If you don't know the answer, just say that you don't know, don't try to make up an answer.\n",
      "\n",
      "<context>\n",
      "ask: 타기관OTP 이용등록방법 알려주세요\n",
      "Information: 타기관에서 발급받으신 OTP가 통합OTP카드인 경우 당행에 등록하여 이용가능합니다. \n",
      "[경로]\n",
      "- 인터넷뱅킹 로그인→ 사용자관리→인터넷뱅킹관리→OTP이용등록  \n",
      "- 신한 쏠(SOL) 로그인→ 전체메뉴→설정/인증→ 이용중인 보안매체선택→   OTP이용등록\n",
      " \n",
      " ※ OTP이용등록후 재로그인을 하셔야 새로 등록된 보안매체가 적용됩니다.\n",
      "\n",
      "기타 궁금하신 내용은 신한은행 고객센터 1599-8000로 문의하여 주시기 바랍니다.\n",
      "\n",
      "ask: 모바일 OTP 사용하고 있는데 인터넷뱅킹에서는 어떻게 이용하는건가요?\n",
      "Information: 인터넷뱅킹 거래시 보안매체 입력단계에 [인증요청] 버튼 클릭하면 핸드폰으로 푸시메세지가 전달됩니다. \n",
      "푸시메세지 터치하여 모바일 OTP 비밀번호 6자리 입력, 인증처리 완료후 인터넷뱅킹에서 이후의 절차를 진행하시면 됩니다.\n",
      "※ 스마트폰에 모바일 OTP 푸시(PUSH) 메세지가 오지 않는 경우 메뉴 직접 실행 \n",
      "- 신한 쏠(SOL) [로그인 하지 않음]> 전체메뉴> 설정/인증> 보안매체 전체보기> 모바일OTP> 인증\n",
      "기타 궁금하신 내용은 신한은행 고객센터 1599-8000로 문의하여 주시기 바랍니다.\n",
      "\n",
      "ask: 인터넷뱅킹에서 모바일OTP 인증요청 했는데 푸시메세지가 오지 않아요. 어떻게 해야하나요?\n",
      "Information: 신한 쏠(SOL) 푸시알림 수신에 동의를 하신경우 푸시를 받을수 있습니다. 경로 : 신한 쏠(SOL) 로그인 > 전체메뉴 > 설정/인증  > 일반 > 알림 > 금융정보 알림 항목을 수신동의로 설정 기타 궁금하신 내용은 신한은행 고객센터 1599-8000로 문의하여 주시기 바랍니다.\n",
      "</context>\n",
      "\n",
      "Human: Use at maximum 5 sentences to answer the following question.\n",
      " 신한은행 앱에서 타기관 OTP를 등록한 후 재로그인하면 새로 등록한 OTP를 사용할 수 있나요?\n",
      "\n",
      "If the answer is not in the context say \"주어진 내용에서 관련 답변을 찾을 수 없습니다.\"\n",
      "\n",
      "Assistant:\u001b[0m\n",
      "\n",
      "\u001b[1m> Finished chain.\u001b[0m\n",
      "\n",
      "\u001b[1m> Finished chain.\u001b[0m\n"
     ]
    },
    {
     "data": {
      "text/plain": [
       "{'question': '등록 후 재로그인하면 새로 등록한 OTP를 사용할 수 있어?',\n",
       " 'chat_history': [HumanMessage(content='타기관OTP 등록 방법 알려주세요', additional_kwargs={}, example=False),\n",
       "  AIMessage(content=' 주어진 내용에서 타기관 OTP 등록 방법은 다음과 같습니다.\\n\\n타기관에서 발급받으신 OTP가 통합OTP카드인 경우 당행에 등록하여 이용가능합니다. 인터넷뱅킹 로그인 후 사용자관리 - 인터넷뱅킹관리 - OTP이용등록 메뉴에서 등록할 수 있습니다. 신한 쏠(SOL)의 경우 전체메뉴 - 설정/인증 - 이용중인 보안매체선택 - OTP이용등록 메뉴에서 등록이 가능합니다. 등록 후 재로그인해야 새로 등록된 보안매체가 적용됩니다.', additional_kwargs={}, example=False),\n",
       "  HumanMessage(content='앱 이름이 뭐야?', additional_kwargs={}, example=False),\n",
       "  AIMessage(content=' 주어진 내용에서 타기관 OTP를 등록할 수 있는 신한은행 앱 이름을 확인할 수 없습니다.', additional_kwargs={}, example=False),\n",
       "  HumanMessage(content='등록 후 재로그인하면 새로 등록한 OTP를 사용할 수 있어?', additional_kwargs={}, example=False),\n",
       "  AIMessage(content=' 주어진 내용에서는 신한은행 앱에서 타기관 OTP를 등록한 후 재로그인하면 새로 등록한 OTP를 사용할 수 있는지에 대한 정보를 찾을 수 없습니다.', additional_kwargs={}, example=False)],\n",
       " 'answer': ' 주어진 내용에서는 신한은행 앱에서 타기관 OTP를 등록한 후 재로그인하면 새로 등록한 OTP를 사용할 수 있는지에 대한 정보를 찾을 수 없습니다.'}"
      ]
     },
     "execution_count": 27,
     "metadata": {},
     "output_type": "execute_result"
    }
   ],
   "source": [
    "qa(\"등록 후 재로그인하면 새로 등록한 OTP를 사용할 수 있어?\")"
   ]
  },
  {
   "cell_type": "markdown",
   "metadata": {},
   "source": [
    "## (2) 챗봇 실행 (내부 로그 확인)"
   ]
  },
  {
   "cell_type": "code",
   "execution_count": 109,
   "metadata": {
    "tags": []
   },
   "outputs": [],
   "source": [
    "qa_d = create_ConversationalRetrievalChain(qa_prompt, boolean_filter, llm_text, k=3, verbose=True)"
   ]
  },
  {
   "cell_type": "code",
   "execution_count": 110,
   "metadata": {
    "tags": []
   },
   "outputs": [
    {
     "name": "stdout",
     "output_type": "stream",
     "text": [
      "\n",
      "\n",
      "\u001b[1m> Entering new StuffDocumentsChain chain...\u001b[0m\n",
      "\n",
      "\n",
      "\u001b[1m> Entering new LLMChain chain...\u001b[0m\n",
      "Prompt after formatting:\n",
      "\u001b[32;1m\u001b[1;3m\n",
      "\n",
      "\n",
      "Human:\n",
      "Here is the context, inside <context></context> XML tags.    \n",
      "Based on the context as below, answer the question. If you don't know the answer, just say that you don't know, don't try to make up an answer.\n",
      "\n",
      "<context>\n",
      "ask: 타기관OTP 이용등록방법 알려주세요\n",
      "Information: 타기관에서 발급받으신 OTP가 통합OTP카드인 경우 당행에 등록하여 이용가능합니다. \n",
      "[경로]\n",
      "- 인터넷뱅킹 로그인→ 사용자관리→인터넷뱅킹관리→OTP이용등록  \n",
      "- 신한 쏠(SOL) 로그인→ 전체메뉴→설정/인증→ 이용중인 보안매체선택→   OTP이용등록\n",
      " \n",
      " ※ OTP이용등록후 재로그인을 하셔야 새로 등록된 보안매체가 적용됩니다.\n",
      "\n",
      "기타 궁금하신 내용은 신한은행 고객센터 1599-8000로 문의하여 주시기 바랍니다.\n",
      "\n",
      "ask: 인터넷뱅킹에서 모바일OTP 인증요청 했는데 푸시메세지가 오지 않아요. 어떻게 해야하나요?\n",
      "Information: 신한 쏠(SOL) 푸시알림 수신에 동의를 하신경우 푸시를 받을수 있습니다. 경로 : 신한 쏠(SOL) 로그인 > 전체메뉴 > 설정/인증  > 일반 > 알림 > 금융정보 알림 항목을 수신동의로 설정 기타 궁금하신 내용은 신한은행 고객센터 1599-8000로 문의하여 주시기 바랍니다.\n",
      "\n",
      "ask: 모바일 OTP 사용하고 있는데 인터넷뱅킹에서는 어떻게 이용하는건가요?\n",
      "Information: 인터넷뱅킹 거래시 보안매체 입력단계에 [인증요청] 버튼 클릭하면 핸드폰으로 푸시메세지가 전달됩니다. \n",
      "푸시메세지 터치하여 모바일 OTP 비밀번호 6자리 입력, 인증처리 완료후 인터넷뱅킹에서 이후의 절차를 진행하시면 됩니다.\n",
      "※ 스마트폰에 모바일 OTP 푸시(PUSH) 메세지가 오지 않는 경우 메뉴 직접 실행 \n",
      "- 신한 쏠(SOL) [로그인 하지 않음]> 전체메뉴> 설정/인증> 보안매체 전체보기> 모바일OTP> 인증\n",
      "기타 궁금하신 내용은 신한은행 고객센터 1599-8000로 문의하여 주시기 바랍니다.\n",
      "</context>\n",
      "\n",
      "Human: Use at maximum 5 sentences to answer the following question.\n",
      "타기관OTP 등록 방법 알려주세요\n",
      "\n",
      "If the answer is not in the context say \"주어진 내용에서 관련 답변을 찾을 수 없습니다.\"\n",
      "\n",
      "Assistant:\u001b[0m\n",
      "\n",
      "\u001b[1m> Finished chain.\u001b[0m\n",
      "\n",
      "\u001b[1m> Finished chain.\u001b[0m\n"
     ]
    },
    {
     "data": {
      "text/plain": [
       "{'question': '타기관OTP 등록 방법 알려주세요',\n",
       " 'chat_history': [HumanMessage(content='타기관OTP 등록 방법 알려주세요', additional_kwargs={}, example=False),\n",
       "  AIMessage(content=' 주어진 내용에서 타기관 OTP 등록 방법은 다음과 같습니다.\\n\\n타기관에서 발급받으신 OTP가 통합OTP카드인 경우 당행에 등록하여 이용가능합니다. 인터넷뱅킹 로그인 후 사용자관리 - 인터넷뱅킹관리 - OTP이용등록 메뉴에서 등록할 수 있습니다. 신한 쏠(SOL)로그인 후 전체메뉴 - 설정/인증 - 이용중인 보안매체선택 - OTP이용등록 메뉴에서도 등록이 가능합니다. 등록 후 재로그인해야 새로 등록된 보안매체가 적용됩니다.', additional_kwargs={}, example=False)],\n",
       " 'answer': ' 주어진 내용에서 타기관 OTP 등록 방법은 다음과 같습니다.\\n\\n타기관에서 발급받으신 OTP가 통합OTP카드인 경우 당행에 등록하여 이용가능합니다. 인터넷뱅킹 로그인 후 사용자관리 - 인터넷뱅킹관리 - OTP이용등록 메뉴에서 등록할 수 있습니다. 신한 쏠(SOL)로그인 후 전체메뉴 - 설정/인증 - 이용중인 보안매체선택 - OTP이용등록 메뉴에서도 등록이 가능합니다. 등록 후 재로그인해야 새로 등록된 보안매체가 적용됩니다.'}"
      ]
     },
     "execution_count": 110,
     "metadata": {},
     "output_type": "execute_result"
    }
   ],
   "source": [
    "qa_d(\"타기관OTP 등록 방법 알려주세요\")"
   ]
  },
  {
   "cell_type": "code",
   "execution_count": 111,
   "metadata": {
    "tags": []
   },
   "outputs": [
    {
     "name": "stdout",
     "output_type": "stream",
     "text": [
      "\n",
      "\n",
      "\u001b[1m> Entering new LLMChain chain...\u001b[0m\n",
      "Prompt after formatting:\n",
      "\u001b[32;1m\u001b[1;3mTo create condense_question, given the following conversation and a follow up question, rephrase the follow up question to be a standalone question, in its original language.\n",
      "\n",
      "Chat History:\n",
      "\n",
      "\n",
      "\n",
      "Human: 타기관OTP 등록 방법 알려주세요\n",
      "\n",
      "\n",
      "Assistant:  주어진 내용에서 타기관 OTP 등록 방법은 다음과 같습니다.\n",
      "\n",
      "타기관에서 발급받으신 OTP가 통합OTP카드인 경우 당행에 등록하여 이용가능합니다. 인터넷뱅킹 로그인 후 사용자관리 - 인터넷뱅킹관리 - OTP이용등록 메뉴에서 등록할 수 있습니다. 신한 쏠(SOL)로그인 후 전체메뉴 - 설정/인증 - 이용중인 보안매체선택 - OTP이용등록 메뉴에서도 등록이 가능합니다. 등록 후 재로그인해야 새로 등록된 보안매체가 적용됩니다.\n",
      "Follow Up Input: 앱 이름이 뭐야?\n",
      "Standalone question:\u001b[0m\n",
      "\n",
      "\u001b[1m> Finished chain.\u001b[0m\n",
      "\n",
      "\n",
      "\u001b[1m> Entering new StuffDocumentsChain chain...\u001b[0m\n",
      "\n",
      "\n",
      "\u001b[1m> Entering new LLMChain chain...\u001b[0m\n",
      "Prompt after formatting:\n",
      "\u001b[32;1m\u001b[1;3m\n",
      "\n",
      "\n",
      "Human:\n",
      "Here is the context, inside <context></context> XML tags.    \n",
      "Based on the context as below, answer the question. If you don't know the answer, just say that you don't know, don't try to make up an answer.\n",
      "\n",
      "<context>\n",
      "ask: 타기관OTP 이용등록방법 알려주세요\n",
      "Information: 타기관에서 발급받으신 OTP가 통합OTP카드인 경우 당행에 등록하여 이용가능합니다. \n",
      "[경로]\n",
      "- 인터넷뱅킹 로그인→ 사용자관리→인터넷뱅킹관리→OTP이용등록  \n",
      "- 신한 쏠(SOL) 로그인→ 전체메뉴→설정/인증→ 이용중인 보안매체선택→   OTP이용등록\n",
      " \n",
      " ※ OTP이용등록후 재로그인을 하셔야 새로 등록된 보안매체가 적용됩니다.\n",
      "\n",
      "기타 궁금하신 내용은 신한은행 고객센터 1599-8000로 문의하여 주시기 바랍니다.\n",
      "\n",
      "ask: 모바일 OTP 사용하고 있는데 인터넷뱅킹에서는 어떻게 이용하는건가요?\n",
      "Information: 인터넷뱅킹 거래시 보안매체 입력단계에 [인증요청] 버튼 클릭하면 핸드폰으로 푸시메세지가 전달됩니다. \n",
      "푸시메세지 터치하여 모바일 OTP 비밀번호 6자리 입력, 인증처리 완료후 인터넷뱅킹에서 이후의 절차를 진행하시면 됩니다.\n",
      "※ 스마트폰에 모바일 OTP 푸시(PUSH) 메세지가 오지 않는 경우 메뉴 직접 실행 \n",
      "- 신한 쏠(SOL) [로그인 하지 않음]> 전체메뉴> 설정/인증> 보안매체 전체보기> 모바일OTP> 인증\n",
      "기타 궁금하신 내용은 신한은행 고객센터 1599-8000로 문의하여 주시기 바랍니다.\n",
      "\n",
      "ask: 인터넷뱅킹에서 모바일OTP 인증요청 했는데 푸시메세지가 오지 않아요. 어떻게 해야하나요?\n",
      "Information: 신한 쏠(SOL) 푸시알림 수신에 동의를 하신경우 푸시를 받을수 있습니다. 경로 : 신한 쏠(SOL) 로그인 > 전체메뉴 > 설정/인증  > 일반 > 알림 > 금융정보 알림 항목을 수신동의로 설정 기타 궁금하신 내용은 신한은행 고객센터 1599-8000로 문의하여 주시기 바랍니다.\n",
      "</context>\n",
      "\n",
      "Human: Use at maximum 5 sentences to answer the following question.\n",
      " 타기관 OTP를 등록할 수 있는 신한은행 앱 이름이 무엇인가요?\n",
      "\n",
      "If the answer is not in the context say \"주어진 내용에서 관련 답변을 찾을 수 없습니다.\"\n",
      "\n",
      "Assistant:\u001b[0m\n",
      "\n",
      "\u001b[1m> Finished chain.\u001b[0m\n",
      "\n",
      "\u001b[1m> Finished chain.\u001b[0m\n"
     ]
    },
    {
     "data": {
      "text/plain": [
       "{'question': '앱 이름이 뭐야?',\n",
       " 'chat_history': [HumanMessage(content='타기관OTP 등록 방법 알려주세요', additional_kwargs={}, example=False),\n",
       "  AIMessage(content=' 주어진 내용에서 타기관 OTP 등록 방법은 다음과 같습니다.\\n\\n타기관에서 발급받으신 OTP가 통합OTP카드인 경우 당행에 등록하여 이용가능합니다. 인터넷뱅킹 로그인 후 사용자관리 - 인터넷뱅킹관리 - OTP이용등록 메뉴에서 등록할 수 있습니다. 신한 쏠(SOL)로그인 후 전체메뉴 - 설정/인증 - 이용중인 보안매체선택 - OTP이용등록 메뉴에서도 등록이 가능합니다. 등록 후 재로그인해야 새로 등록된 보안매체가 적용됩니다.', additional_kwargs={}, example=False),\n",
       "  HumanMessage(content='앱 이름이 뭐야?', additional_kwargs={}, example=False),\n",
       "  AIMessage(content=' 주어진 내용에서 타기관 OTP를 등록할 수 있는 신한은행 앱 이름을 확인할 수 없습니다.', additional_kwargs={}, example=False)],\n",
       " 'answer': ' 주어진 내용에서 타기관 OTP를 등록할 수 있는 신한은행 앱 이름을 확인할 수 없습니다.'}"
      ]
     },
     "execution_count": 111,
     "metadata": {},
     "output_type": "execute_result"
    }
   ],
   "source": [
    "qa_d(\"앱 이름이 뭐야?\")"
   ]
  },
  {
   "cell_type": "code",
   "execution_count": 112,
   "metadata": {
    "tags": []
   },
   "outputs": [
    {
     "name": "stdout",
     "output_type": "stream",
     "text": [
      "\n",
      "\n",
      "\u001b[1m> Entering new LLMChain chain...\u001b[0m\n",
      "Prompt after formatting:\n",
      "\u001b[32;1m\u001b[1;3mTo create condense_question, given the following conversation and a follow up question, rephrase the follow up question to be a standalone question, in its original language.\n",
      "\n",
      "Chat History:\n",
      "\n",
      "\n",
      "\n",
      "Human: 타기관OTP 등록 방법 알려주세요\n",
      "\n",
      "\n",
      "Assistant:  주어진 내용에서 타기관 OTP 등록 방법은 다음과 같습니다.\n",
      "\n",
      "타기관에서 발급받으신 OTP가 통합OTP카드인 경우 당행에 등록하여 이용가능합니다. 인터넷뱅킹 로그인 후 사용자관리 - 인터넷뱅킹관리 - OTP이용등록 메뉴에서 등록할 수 있습니다. 신한 쏠(SOL)로그인 후 전체메뉴 - 설정/인증 - 이용중인 보안매체선택 - OTP이용등록 메뉴에서도 등록이 가능합니다. 등록 후 재로그인해야 새로 등록된 보안매체가 적용됩니다.\n",
      "\n",
      "\n",
      "Human: 앱 이름이 뭐야?\n",
      "\n",
      "\n",
      "Assistant:  주어진 내용에서 타기관 OTP를 등록할 수 있는 신한은행 앱 이름을 확인할 수 없습니다.\n",
      "Follow Up Input: 등록 후 재로그인하면 새로 등록한 OTP를 사용할 수 있어?\n",
      "Standalone question:\u001b[0m\n",
      "\n",
      "\u001b[1m> Finished chain.\u001b[0m\n",
      "\n",
      "\n",
      "\u001b[1m> Entering new StuffDocumentsChain chain...\u001b[0m\n",
      "\n",
      "\n",
      "\u001b[1m> Entering new LLMChain chain...\u001b[0m\n",
      "Prompt after formatting:\n",
      "\u001b[32;1m\u001b[1;3m\n",
      "\n",
      "\n",
      "Human:\n",
      "Here is the context, inside <context></context> XML tags.    \n",
      "Based on the context as below, answer the question. If you don't know the answer, just say that you don't know, don't try to make up an answer.\n",
      "\n",
      "<context>\n",
      "ask: 타기관OTP 이용등록방법 알려주세요\n",
      "Information: 타기관에서 발급받으신 OTP가 통합OTP카드인 경우 당행에 등록하여 이용가능합니다. \n",
      "[경로]\n",
      "- 인터넷뱅킹 로그인→ 사용자관리→인터넷뱅킹관리→OTP이용등록  \n",
      "- 신한 쏠(SOL) 로그인→ 전체메뉴→설정/인증→ 이용중인 보안매체선택→   OTP이용등록\n",
      " \n",
      " ※ OTP이용등록후 재로그인을 하셔야 새로 등록된 보안매체가 적용됩니다.\n",
      "\n",
      "기타 궁금하신 내용은 신한은행 고객센터 1599-8000로 문의하여 주시기 바랍니다.\n",
      "\n",
      "ask: 모바일 OTP 사용하고 있는데 인터넷뱅킹에서는 어떻게 이용하는건가요?\n",
      "Information: 인터넷뱅킹 거래시 보안매체 입력단계에 [인증요청] 버튼 클릭하면 핸드폰으로 푸시메세지가 전달됩니다. \n",
      "푸시메세지 터치하여 모바일 OTP 비밀번호 6자리 입력, 인증처리 완료후 인터넷뱅킹에서 이후의 절차를 진행하시면 됩니다.\n",
      "※ 스마트폰에 모바일 OTP 푸시(PUSH) 메세지가 오지 않는 경우 메뉴 직접 실행 \n",
      "- 신한 쏠(SOL) [로그인 하지 않음]> 전체메뉴> 설정/인증> 보안매체 전체보기> 모바일OTP> 인증\n",
      "기타 궁금하신 내용은 신한은행 고객센터 1599-8000로 문의하여 주시기 바랍니다.\n",
      "\n",
      "ask: 인터넷뱅킹에서 모바일OTP 인증요청 했는데 푸시메세지가 오지 않아요. 어떻게 해야하나요?\n",
      "Information: 신한 쏠(SOL) 푸시알림 수신에 동의를 하신경우 푸시를 받을수 있습니다. 경로 : 신한 쏠(SOL) 로그인 > 전체메뉴 > 설정/인증  > 일반 > 알림 > 금융정보 알림 항목을 수신동의로 설정 기타 궁금하신 내용은 신한은행 고객센터 1599-8000로 문의하여 주시기 바랍니다.\n",
      "</context>\n",
      "\n",
      "Human: Use at maximum 5 sentences to answer the following question.\n",
      " 신한은행 앱에서 타기관 OTP를 등록한 후 재로그인하면 새로 등록한 OTP를 사용할 수 있나요?\n",
      "\n",
      "If the answer is not in the context say \"주어진 내용에서 관련 답변을 찾을 수 없습니다.\"\n",
      "\n",
      "Assistant:\u001b[0m\n",
      "\n",
      "\u001b[1m> Finished chain.\u001b[0m\n",
      "\n",
      "\u001b[1m> Finished chain.\u001b[0m\n"
     ]
    },
    {
     "data": {
      "text/plain": [
       "{'question': '등록 후 재로그인하면 새로 등록한 OTP를 사용할 수 있어?',\n",
       " 'chat_history': [HumanMessage(content='타기관OTP 등록 방법 알려주세요', additional_kwargs={}, example=False),\n",
       "  AIMessage(content=' 주어진 내용에서 타기관 OTP 등록 방법은 다음과 같습니다.\\n\\n타기관에서 발급받으신 OTP가 통합OTP카드인 경우 당행에 등록하여 이용가능합니다. 인터넷뱅킹 로그인 후 사용자관리 - 인터넷뱅킹관리 - OTP이용등록 메뉴에서 등록할 수 있습니다. 신한 쏠(SOL)로그인 후 전체메뉴 - 설정/인증 - 이용중인 보안매체선택 - OTP이용등록 메뉴에서도 등록이 가능합니다. 등록 후 재로그인해야 새로 등록된 보안매체가 적용됩니다.', additional_kwargs={}, example=False),\n",
       "  HumanMessage(content='앱 이름이 뭐야?', additional_kwargs={}, example=False),\n",
       "  AIMessage(content=' 주어진 내용에서 타기관 OTP를 등록할 수 있는 신한은행 앱 이름을 확인할 수 없습니다.', additional_kwargs={}, example=False),\n",
       "  HumanMessage(content='등록 후 재로그인하면 새로 등록한 OTP를 사용할 수 있어?', additional_kwargs={}, example=False),\n",
       "  AIMessage(content=' 주어진 내용에서는 신한은행 앱에서 타기관 OTP를 등록한 후 재로그인하면 새로 등록한 OTP를 사용할 수 있는지에 대한 정보를 찾을 수 없습니다.', additional_kwargs={}, example=False)],\n",
       " 'answer': ' 주어진 내용에서는 신한은행 앱에서 타기관 OTP를 등록한 후 재로그인하면 새로 등록한 OTP를 사용할 수 있는지에 대한 정보를 찾을 수 없습니다.'}"
      ]
     },
     "execution_count": 112,
     "metadata": {},
     "output_type": "execute_result"
    }
   ],
   "source": [
    "qa_d(\"등록 후 재로그인하면 새로 등록한 OTP를 사용할 수 있어?\")"
   ]
  },
  {
   "cell_type": "markdown",
   "metadata": {},
   "source": [
    "## ipywidgets를 대화형 챗봇\n",
    "\n",
    "다음과 같은 질문을 넣어 보세요\n",
    "\n",
    "- 타기관OTP 등록 방법 알려주세요\n",
    "- 앱 이름이 뭐야?\n",
    "- 등록 후 재로그인하면 새로 등록한 OTP를 사용할 수 있어?\n"
   ]
  },
  {
   "cell_type": "code",
   "execution_count": null,
   "metadata": {
    "tags": []
   },
   "outputs": [
    {
     "name": "stdout",
     "output_type": "stream",
     "text": [
      "Starting chat bot\n"
     ]
    },
    {
     "data": {
      "application/vnd.jupyter.widget-view+json": {
       "model_id": "",
       "version_major": 2,
       "version_minor": 0
      },
      "text/plain": [
       "Output()"
      ]
     },
     "metadata": {},
     "output_type": "display_data"
    }
   ],
   "source": [
    "qa_1 = create_ConversationalRetrievalChain(qa_prompt, boolean_filter, llm_text, k=3, verbose=False)\n",
    "\n",
    "chat = ChatUX(qa_1, retrievalChain=True)\n",
    "chat.start_chat()"
   ]
  },
  {
   "cell_type": "code",
   "execution_count": null,
   "metadata": {},
   "outputs": [],
   "source": [
    " "
   ]
  },
  {
   "cell_type": "code",
   "execution_count": null,
   "metadata": {},
   "outputs": [],
   "source": []
  }
 ],
 "metadata": {
  "availableInstances": [
   {
    "_defaultOrder": 0,
    "_isFastLaunch": true,
    "category": "General purpose",
    "gpuNum": 0,
    "hideHardwareSpecs": false,
    "memoryGiB": 4,
    "name": "ml.t3.medium",
    "vcpuNum": 2
   },
   {
    "_defaultOrder": 1,
    "_isFastLaunch": false,
    "category": "General purpose",
    "gpuNum": 0,
    "hideHardwareSpecs": false,
    "memoryGiB": 8,
    "name": "ml.t3.large",
    "vcpuNum": 2
   },
   {
    "_defaultOrder": 2,
    "_isFastLaunch": false,
    "category": "General purpose",
    "gpuNum": 0,
    "hideHardwareSpecs": false,
    "memoryGiB": 16,
    "name": "ml.t3.xlarge",
    "vcpuNum": 4
   },
   {
    "_defaultOrder": 3,
    "_isFastLaunch": false,
    "category": "General purpose",
    "gpuNum": 0,
    "hideHardwareSpecs": false,
    "memoryGiB": 32,
    "name": "ml.t3.2xlarge",
    "vcpuNum": 8
   },
   {
    "_defaultOrder": 4,
    "_isFastLaunch": true,
    "category": "General purpose",
    "gpuNum": 0,
    "hideHardwareSpecs": false,
    "memoryGiB": 8,
    "name": "ml.m5.large",
    "vcpuNum": 2
   },
   {
    "_defaultOrder": 5,
    "_isFastLaunch": false,
    "category": "General purpose",
    "gpuNum": 0,
    "hideHardwareSpecs": false,
    "memoryGiB": 16,
    "name": "ml.m5.xlarge",
    "vcpuNum": 4
   },
   {
    "_defaultOrder": 6,
    "_isFastLaunch": false,
    "category": "General purpose",
    "gpuNum": 0,
    "hideHardwareSpecs": false,
    "memoryGiB": 32,
    "name": "ml.m5.2xlarge",
    "vcpuNum": 8
   },
   {
    "_defaultOrder": 7,
    "_isFastLaunch": false,
    "category": "General purpose",
    "gpuNum": 0,
    "hideHardwareSpecs": false,
    "memoryGiB": 64,
    "name": "ml.m5.4xlarge",
    "vcpuNum": 16
   },
   {
    "_defaultOrder": 8,
    "_isFastLaunch": false,
    "category": "General purpose",
    "gpuNum": 0,
    "hideHardwareSpecs": false,
    "memoryGiB": 128,
    "name": "ml.m5.8xlarge",
    "vcpuNum": 32
   },
   {
    "_defaultOrder": 9,
    "_isFastLaunch": false,
    "category": "General purpose",
    "gpuNum": 0,
    "hideHardwareSpecs": false,
    "memoryGiB": 192,
    "name": "ml.m5.12xlarge",
    "vcpuNum": 48
   },
   {
    "_defaultOrder": 10,
    "_isFastLaunch": false,
    "category": "General purpose",
    "gpuNum": 0,
    "hideHardwareSpecs": false,
    "memoryGiB": 256,
    "name": "ml.m5.16xlarge",
    "vcpuNum": 64
   },
   {
    "_defaultOrder": 11,
    "_isFastLaunch": false,
    "category": "General purpose",
    "gpuNum": 0,
    "hideHardwareSpecs": false,
    "memoryGiB": 384,
    "name": "ml.m5.24xlarge",
    "vcpuNum": 96
   },
   {
    "_defaultOrder": 12,
    "_isFastLaunch": false,
    "category": "General purpose",
    "gpuNum": 0,
    "hideHardwareSpecs": false,
    "memoryGiB": 8,
    "name": "ml.m5d.large",
    "vcpuNum": 2
   },
   {
    "_defaultOrder": 13,
    "_isFastLaunch": false,
    "category": "General purpose",
    "gpuNum": 0,
    "hideHardwareSpecs": false,
    "memoryGiB": 16,
    "name": "ml.m5d.xlarge",
    "vcpuNum": 4
   },
   {
    "_defaultOrder": 14,
    "_isFastLaunch": false,
    "category": "General purpose",
    "gpuNum": 0,
    "hideHardwareSpecs": false,
    "memoryGiB": 32,
    "name": "ml.m5d.2xlarge",
    "vcpuNum": 8
   },
   {
    "_defaultOrder": 15,
    "_isFastLaunch": false,
    "category": "General purpose",
    "gpuNum": 0,
    "hideHardwareSpecs": false,
    "memoryGiB": 64,
    "name": "ml.m5d.4xlarge",
    "vcpuNum": 16
   },
   {
    "_defaultOrder": 16,
    "_isFastLaunch": false,
    "category": "General purpose",
    "gpuNum": 0,
    "hideHardwareSpecs": false,
    "memoryGiB": 128,
    "name": "ml.m5d.8xlarge",
    "vcpuNum": 32
   },
   {
    "_defaultOrder": 17,
    "_isFastLaunch": false,
    "category": "General purpose",
    "gpuNum": 0,
    "hideHardwareSpecs": false,
    "memoryGiB": 192,
    "name": "ml.m5d.12xlarge",
    "vcpuNum": 48
   },
   {
    "_defaultOrder": 18,
    "_isFastLaunch": false,
    "category": "General purpose",
    "gpuNum": 0,
    "hideHardwareSpecs": false,
    "memoryGiB": 256,
    "name": "ml.m5d.16xlarge",
    "vcpuNum": 64
   },
   {
    "_defaultOrder": 19,
    "_isFastLaunch": false,
    "category": "General purpose",
    "gpuNum": 0,
    "hideHardwareSpecs": false,
    "memoryGiB": 384,
    "name": "ml.m5d.24xlarge",
    "vcpuNum": 96
   },
   {
    "_defaultOrder": 20,
    "_isFastLaunch": false,
    "category": "General purpose",
    "gpuNum": 0,
    "hideHardwareSpecs": true,
    "memoryGiB": 0,
    "name": "ml.geospatial.interactive",
    "supportedImageNames": [
     "sagemaker-geospatial-v1-0"
    ],
    "vcpuNum": 0
   },
   {
    "_defaultOrder": 21,
    "_isFastLaunch": true,
    "category": "Compute optimized",
    "gpuNum": 0,
    "hideHardwareSpecs": false,
    "memoryGiB": 4,
    "name": "ml.c5.large",
    "vcpuNum": 2
   },
   {
    "_defaultOrder": 22,
    "_isFastLaunch": false,
    "category": "Compute optimized",
    "gpuNum": 0,
    "hideHardwareSpecs": false,
    "memoryGiB": 8,
    "name": "ml.c5.xlarge",
    "vcpuNum": 4
   },
   {
    "_defaultOrder": 23,
    "_isFastLaunch": false,
    "category": "Compute optimized",
    "gpuNum": 0,
    "hideHardwareSpecs": false,
    "memoryGiB": 16,
    "name": "ml.c5.2xlarge",
    "vcpuNum": 8
   },
   {
    "_defaultOrder": 24,
    "_isFastLaunch": false,
    "category": "Compute optimized",
    "gpuNum": 0,
    "hideHardwareSpecs": false,
    "memoryGiB": 32,
    "name": "ml.c5.4xlarge",
    "vcpuNum": 16
   },
   {
    "_defaultOrder": 25,
    "_isFastLaunch": false,
    "category": "Compute optimized",
    "gpuNum": 0,
    "hideHardwareSpecs": false,
    "memoryGiB": 72,
    "name": "ml.c5.9xlarge",
    "vcpuNum": 36
   },
   {
    "_defaultOrder": 26,
    "_isFastLaunch": false,
    "category": "Compute optimized",
    "gpuNum": 0,
    "hideHardwareSpecs": false,
    "memoryGiB": 96,
    "name": "ml.c5.12xlarge",
    "vcpuNum": 48
   },
   {
    "_defaultOrder": 27,
    "_isFastLaunch": false,
    "category": "Compute optimized",
    "gpuNum": 0,
    "hideHardwareSpecs": false,
    "memoryGiB": 144,
    "name": "ml.c5.18xlarge",
    "vcpuNum": 72
   },
   {
    "_defaultOrder": 28,
    "_isFastLaunch": false,
    "category": "Compute optimized",
    "gpuNum": 0,
    "hideHardwareSpecs": false,
    "memoryGiB": 192,
    "name": "ml.c5.24xlarge",
    "vcpuNum": 96
   },
   {
    "_defaultOrder": 29,
    "_isFastLaunch": true,
    "category": "Accelerated computing",
    "gpuNum": 1,
    "hideHardwareSpecs": false,
    "memoryGiB": 16,
    "name": "ml.g4dn.xlarge",
    "vcpuNum": 4
   },
   {
    "_defaultOrder": 30,
    "_isFastLaunch": false,
    "category": "Accelerated computing",
    "gpuNum": 1,
    "hideHardwareSpecs": false,
    "memoryGiB": 32,
    "name": "ml.g4dn.2xlarge",
    "vcpuNum": 8
   },
   {
    "_defaultOrder": 31,
    "_isFastLaunch": false,
    "category": "Accelerated computing",
    "gpuNum": 1,
    "hideHardwareSpecs": false,
    "memoryGiB": 64,
    "name": "ml.g4dn.4xlarge",
    "vcpuNum": 16
   },
   {
    "_defaultOrder": 32,
    "_isFastLaunch": false,
    "category": "Accelerated computing",
    "gpuNum": 1,
    "hideHardwareSpecs": false,
    "memoryGiB": 128,
    "name": "ml.g4dn.8xlarge",
    "vcpuNum": 32
   },
   {
    "_defaultOrder": 33,
    "_isFastLaunch": false,
    "category": "Accelerated computing",
    "gpuNum": 4,
    "hideHardwareSpecs": false,
    "memoryGiB": 192,
    "name": "ml.g4dn.12xlarge",
    "vcpuNum": 48
   },
   {
    "_defaultOrder": 34,
    "_isFastLaunch": false,
    "category": "Accelerated computing",
    "gpuNum": 1,
    "hideHardwareSpecs": false,
    "memoryGiB": 256,
    "name": "ml.g4dn.16xlarge",
    "vcpuNum": 64
   },
   {
    "_defaultOrder": 35,
    "_isFastLaunch": false,
    "category": "Accelerated computing",
    "gpuNum": 1,
    "hideHardwareSpecs": false,
    "memoryGiB": 61,
    "name": "ml.p3.2xlarge",
    "vcpuNum": 8
   },
   {
    "_defaultOrder": 36,
    "_isFastLaunch": false,
    "category": "Accelerated computing",
    "gpuNum": 4,
    "hideHardwareSpecs": false,
    "memoryGiB": 244,
    "name": "ml.p3.8xlarge",
    "vcpuNum": 32
   },
   {
    "_defaultOrder": 37,
    "_isFastLaunch": false,
    "category": "Accelerated computing",
    "gpuNum": 8,
    "hideHardwareSpecs": false,
    "memoryGiB": 488,
    "name": "ml.p3.16xlarge",
    "vcpuNum": 64
   },
   {
    "_defaultOrder": 38,
    "_isFastLaunch": false,
    "category": "Accelerated computing",
    "gpuNum": 8,
    "hideHardwareSpecs": false,
    "memoryGiB": 768,
    "name": "ml.p3dn.24xlarge",
    "vcpuNum": 96
   },
   {
    "_defaultOrder": 39,
    "_isFastLaunch": false,
    "category": "Memory Optimized",
    "gpuNum": 0,
    "hideHardwareSpecs": false,
    "memoryGiB": 16,
    "name": "ml.r5.large",
    "vcpuNum": 2
   },
   {
    "_defaultOrder": 40,
    "_isFastLaunch": false,
    "category": "Memory Optimized",
    "gpuNum": 0,
    "hideHardwareSpecs": false,
    "memoryGiB": 32,
    "name": "ml.r5.xlarge",
    "vcpuNum": 4
   },
   {
    "_defaultOrder": 41,
    "_isFastLaunch": false,
    "category": "Memory Optimized",
    "gpuNum": 0,
    "hideHardwareSpecs": false,
    "memoryGiB": 64,
    "name": "ml.r5.2xlarge",
    "vcpuNum": 8
   },
   {
    "_defaultOrder": 42,
    "_isFastLaunch": false,
    "category": "Memory Optimized",
    "gpuNum": 0,
    "hideHardwareSpecs": false,
    "memoryGiB": 128,
    "name": "ml.r5.4xlarge",
    "vcpuNum": 16
   },
   {
    "_defaultOrder": 43,
    "_isFastLaunch": false,
    "category": "Memory Optimized",
    "gpuNum": 0,
    "hideHardwareSpecs": false,
    "memoryGiB": 256,
    "name": "ml.r5.8xlarge",
    "vcpuNum": 32
   },
   {
    "_defaultOrder": 44,
    "_isFastLaunch": false,
    "category": "Memory Optimized",
    "gpuNum": 0,
    "hideHardwareSpecs": false,
    "memoryGiB": 384,
    "name": "ml.r5.12xlarge",
    "vcpuNum": 48
   },
   {
    "_defaultOrder": 45,
    "_isFastLaunch": false,
    "category": "Memory Optimized",
    "gpuNum": 0,
    "hideHardwareSpecs": false,
    "memoryGiB": 512,
    "name": "ml.r5.16xlarge",
    "vcpuNum": 64
   },
   {
    "_defaultOrder": 46,
    "_isFastLaunch": false,
    "category": "Memory Optimized",
    "gpuNum": 0,
    "hideHardwareSpecs": false,
    "memoryGiB": 768,
    "name": "ml.r5.24xlarge",
    "vcpuNum": 96
   },
   {
    "_defaultOrder": 47,
    "_isFastLaunch": false,
    "category": "Accelerated computing",
    "gpuNum": 1,
    "hideHardwareSpecs": false,
    "memoryGiB": 16,
    "name": "ml.g5.xlarge",
    "vcpuNum": 4
   },
   {
    "_defaultOrder": 48,
    "_isFastLaunch": false,
    "category": "Accelerated computing",
    "gpuNum": 1,
    "hideHardwareSpecs": false,
    "memoryGiB": 32,
    "name": "ml.g5.2xlarge",
    "vcpuNum": 8
   },
   {
    "_defaultOrder": 49,
    "_isFastLaunch": false,
    "category": "Accelerated computing",
    "gpuNum": 1,
    "hideHardwareSpecs": false,
    "memoryGiB": 64,
    "name": "ml.g5.4xlarge",
    "vcpuNum": 16
   },
   {
    "_defaultOrder": 50,
    "_isFastLaunch": false,
    "category": "Accelerated computing",
    "gpuNum": 1,
    "hideHardwareSpecs": false,
    "memoryGiB": 128,
    "name": "ml.g5.8xlarge",
    "vcpuNum": 32
   },
   {
    "_defaultOrder": 51,
    "_isFastLaunch": false,
    "category": "Accelerated computing",
    "gpuNum": 1,
    "hideHardwareSpecs": false,
    "memoryGiB": 256,
    "name": "ml.g5.16xlarge",
    "vcpuNum": 64
   },
   {
    "_defaultOrder": 52,
    "_isFastLaunch": false,
    "category": "Accelerated computing",
    "gpuNum": 4,
    "hideHardwareSpecs": false,
    "memoryGiB": 192,
    "name": "ml.g5.12xlarge",
    "vcpuNum": 48
   },
   {
    "_defaultOrder": 53,
    "_isFastLaunch": false,
    "category": "Accelerated computing",
    "gpuNum": 4,
    "hideHardwareSpecs": false,
    "memoryGiB": 384,
    "name": "ml.g5.24xlarge",
    "vcpuNum": 96
   },
   {
    "_defaultOrder": 54,
    "_isFastLaunch": false,
    "category": "Accelerated computing",
    "gpuNum": 8,
    "hideHardwareSpecs": false,
    "memoryGiB": 768,
    "name": "ml.g5.48xlarge",
    "vcpuNum": 192
   },
   {
    "_defaultOrder": 55,
    "_isFastLaunch": false,
    "category": "Accelerated computing",
    "gpuNum": 8,
    "hideHardwareSpecs": false,
    "memoryGiB": 1152,
    "name": "ml.p4d.24xlarge",
    "vcpuNum": 96
   },
   {
    "_defaultOrder": 56,
    "_isFastLaunch": false,
    "category": "Accelerated computing",
    "gpuNum": 8,
    "hideHardwareSpecs": false,
    "memoryGiB": 1152,
    "name": "ml.p4de.24xlarge",
    "vcpuNum": 96
   }
  ],
  "instance_type": "ml.m5.large",
  "kernelspec": {
   "display_name": "conda_python3",
   "language": "python",
   "name": "conda_python3"
  },
  "language_info": {
   "codemirror_mode": {
    "name": "ipython",
    "version": 3
   },
   "file_extension": ".py",
   "mimetype": "text/x-python",
   "name": "python",
   "nbconvert_exporter": "python",
   "pygments_lexer": "ipython3",
   "version": "3.10.12"
  }
 },
 "nbformat": 4,
 "nbformat_minor": 4
}
