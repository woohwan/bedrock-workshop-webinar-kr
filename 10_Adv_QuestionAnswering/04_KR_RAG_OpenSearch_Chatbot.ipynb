{
 "cells": [
  {
   "cell_type": "markdown",
   "metadata": {},
   "source": [
    "## Conversational Interface - Chatbot with Claude-v2 and OpenSearch"
   ]
  },
  {
   "cell_type": "markdown",
   "metadata": {},
   "source": [
    "### Amazon Bedrock을 사용하는 챗봇"
   ]
  },
  {
   "cell_type": "code",
   "execution_count": 33,
   "metadata": {},
   "outputs": [],
   "source": [
    "installed_needed = False"
   ]
  },
  {
   "cell_type": "code",
   "execution_count": 34,
   "metadata": {},
   "outputs": [],
   "source": [
    "import sys\n",
    "import IPython\n",
    "\n",
    "if installed_needed:\n",
    "  print(\"installing deps and restarting kernel\")\n",
    "  !{sys.executable} -m pip install -U pip\n",
    "  !{sys.executable} -m pip install -U sagemaker\n",
    "  !{sys.executable} -m pip install \"ipywidget>=7,<8\"\n",
    "  !{sys.executable} -m pip install langchain==0.0.347\n",
    "  \n",
    "  IPython.Application.instance().kernel.do_shutdown(True)"
   ]
  },
  {
   "cell_type": "code",
   "execution_count": 35,
   "metadata": {},
   "outputs": [],
   "source": [
    "# add path\n",
    "\n",
    "import sys, os\n",
    "module_path=\"..\"\n",
    "sys.path.append(os.path.abspath(module_path))"
   ]
  },
  {
   "cell_type": "markdown",
   "metadata": {},
   "source": [
    "### 1. Bedrock Client 생성"
   ]
  },
  {
   "cell_type": "code",
   "execution_count": 36,
   "metadata": {},
   "outputs": [
    {
     "name": "stdout",
     "output_type": "stream",
     "text": [
      "Create new client\n",
      "  Using region: us-east-1\n",
      "  Using profile: None\n",
      "boto3 Bedrock client successfully created!\n",
      "bedrock-runtime(https://bedrock-runtime.us-east-1.amazonaws.com)\n"
     ]
    }
   ],
   "source": [
    "from utils import bedrock\n",
    "from utils.bedrock import bedrock_info\n",
    "\n",
    "boto3_bedrock = bedrock.get_bedrock_client(\n",
    "  assumed_role=None,\n",
    "  endpoint_url=None,\n",
    "  region=\"us-east-1\"\n",
    ")"
   ]
  },
  {
   "cell_type": "markdown",
   "metadata": {},
   "source": [
    "### 2. Titan Embedding 및 LLM Calud2-v2 모델 로딩"
   ]
  },
  {
   "cell_type": "markdown",
   "metadata": {},
   "source": [
    "#### LLM loading (claude-v2)"
   ]
  },
  {
   "cell_type": "code",
   "execution_count": 37,
   "metadata": {},
   "outputs": [
    {
     "data": {
      "text/plain": [
       "Bedrock(client=<botocore.client.BedrockRuntime object at 0x7fe2304bc760>, model_id='anthropic.claude-v2', model_kwargs={'max_tokens_to_sample': 512, 'temperature': 0.1, 'top_k': 3, 'top_p': 0.1})"
      ]
     },
     "execution_count": 37,
     "metadata": {},
     "output_type": "execute_result"
    }
   ],
   "source": [
    "from langchain.llms.bedrock import Bedrock\n",
    "\n",
    "llm_text = Bedrock(\n",
    "  client= boto3_bedrock,\n",
    "  model_id=\"anthropic.claude-v2\",\n",
    "  model_kwargs={\n",
    "    \"max_tokens_to_sample\": 512,\n",
    "    \"temperature\": 0.1,\n",
    "    \"top_k\": 3,\n",
    "    \"top_p\": 0.1\n",
    "  }\n",
    ")\n",
    "llm_text"
   ]
  },
  {
   "cell_type": "markdown",
   "metadata": {},
   "source": [
    "#### Embedding Model 선택"
   ]
  },
  {
   "cell_type": "code",
   "execution_count": 38,
   "metadata": {},
   "outputs": [],
   "source": [
    "from langchain.embeddings.bedrock import BedrockEmbeddings\n",
    "\n",
    "llm_emb = BedrockEmbeddings(\n",
    "  client=boto3_bedrock,\n",
    "  model_id=\"amazon.titan-embed-text-v1\",\n",
    ")"
   ]
  },
  {
   "cell_type": "markdown",
   "metadata": {},
   "source": [
    "### 3. LangChain OpenSearch VectorStore 생성\n",
    "##### opensearch-py package를 이용하여 local opensearch 연결\n",
    "\n",
    "ref: https://opensearch.org/docs/latest/clients/python-low-level/\n"
   ]
  },
  {
   "cell_type": "markdown",
   "metadata": {},
   "source": [
    "#### Local OpenSearch 정보"
   ]
  },
  {
   "cell_type": "code",
   "execution_count": 39,
   "metadata": {},
   "outputs": [],
   "source": [
    "host = \"localhost\"\n",
    "port = \"9200\"\n",
    "opensearch_endpoint = f\"https://{host}:{port}\"\n",
    "# 인증 정보\n",
    "http_auth = (\"admin\", \"admin\")\n",
    "\n",
    "# CA에 대한 ssl 정보\n",
    "ca_certs_path = \"root-ca.pem\"\n",
    "\n",
    "# Optional Client certificates if you don't want to use HTTP basic authentication\n",
    "client_cert_path = 'admin.pem'\n",
    "client_key_path = 'admin-key.pem'"
   ]
  },
  {
   "cell_type": "markdown",
   "metadata": {},
   "source": [
    "#### Create client with SSL/TLS, but hostname verification disabled"
   ]
  },
  {
   "cell_type": "code",
   "execution_count": 40,
   "metadata": {},
   "outputs": [],
   "source": [
    "from opensearchpy import OpenSearch\n",
    "\n",
    "os_client = OpenSearch(\n",
    "  hosts=[{'host': host, 'port': port}],\n",
    "  http_compress=True,\n",
    "  http_auth=http_auth,\n",
    "  client_cert = client_cert_path,\n",
    "  client_key = client_key_path,\n",
    "  use_ssl = True,\n",
    "  verify_certs = True,\n",
    "  ssl_assert_hostname = False,\n",
    "  ssl_show_warn=False,\n",
    "  ca_certs = ca_certs_path\n",
    " )"
   ]
  },
  {
   "cell_type": "code",
   "execution_count": 41,
   "metadata": {},
   "outputs": [],
   "source": [
    "# index name\n",
    "index_name = \"genai-demo-index-v1-with-tokenizer\""
   ]
  },
  {
   "cell_type": "markdown",
   "metadata": {},
   "source": [
    "#### LangChain OpenSearch VectorStore 생성"
   ]
  },
  {
   "cell_type": "code",
   "execution_count": 42,
   "metadata": {},
   "outputs": [],
   "source": [
    "from langchain.vectorstores import OpenSearchVectorSearch\n",
    "\n",
    "vector_db = OpenSearchVectorSearch(\n",
    "  index_name=index_name,\n",
    "  opensearch_url=opensearch_endpoint,\n",
    "  embedding_function=llm_emb,\n",
    "  http_auth=http_auth,\n",
    "  is_aoss=False,\n",
    "  engine=\"faiss\",\n",
    "  space_type=\"l2\",\n",
    "  client_cert = client_cert_path,\n",
    "  client_key = client_key_path,\n",
    "  use_ssl = True,\n",
    "  verify_certs = True,\n",
    "  ssl_assert_hostname = False,\n",
    "  ssl_show_warn=False,\n",
    "  ca_certs = ca_certs_path\n",
    ")"
   ]
  },
  {
   "cell_type": "markdown",
   "metadata": {},
   "source": [
    "### 4. RetrievalQA 구현\n",
    "##### 템플릿 생성"
   ]
  },
  {
   "cell_type": "code",
   "execution_count": 43,
   "metadata": {},
   "outputs": [],
   "source": [
    "from langchain.prompts import PromptTemplate\n",
    "\n",
    "prompt_template = \"\"\"\\n\\nHuman: 다음 문맥의 information을 사용하여 고객 서비스 센터 직원처럼, 마지막 질문에 대한 목차 형식으로 답변을 제공하세요.\n",
    "\n",
    "{context}\n",
    "\n",
    "Question: {question}\n",
    "\\n\\nAssistant:\"\"\"\n",
    "\n",
    "PROMPT = PromptTemplate(template=prompt_template, input_variables=[\"context\", \"question\"])"
   ]
  },
  {
   "cell_type": "markdown",
   "metadata": {},
   "source": [
    "#### 필터 생성"
   ]
  },
  {
   "cell_type": "code",
   "execution_count": 53,
   "metadata": {},
   "outputs": [
    {
     "name": "stdout",
     "output_type": "stream",
     "text": [
      "{'bool': {'filter': [{'term': {'metadata.type': '인터넷뱅킹'}}, {'term': {'metadata.source': '신한은행'}}]}}\n"
     ]
    }
   ],
   "source": [
    "from utils.rag import  run_RetrievalQA, show_context_used\n",
    "from utils.opensearch import opensearch_utils\n",
    "\n",
    "filter01 = \"인터넷뱅킹\"\n",
    "filter02 = \"신한은행\"\n",
    "\n",
    "query = \"타기관 OTP 등록 방법 알려 주세요\"\n",
    "\n",
    "boolean_filter = opensearch_utils.get_filter(\n",
    "  filter=[\n",
    "    {\"term\": {\"metadata.type\": filter01}},\n",
    "    {\"term\": {\"metadata.source\": filter02}}\n",
    "  ]\n",
    ")\n",
    "print(boolean_filter)"
   ]
  },
  {
   "cell_type": "code",
   "execution_count": 54,
   "metadata": {},
   "outputs": [
    {
     "name": "stdout",
     "output_type": "stream",
     "text": [
      "##################################################\n",
      "query:  타기관 OTP 등록 방법 알려 주세요\n",
      "##################################################\n",
      " 타기관 OTP 등록 방법은 다음과 같습니다:\n",
      "\n",
      "1. 인터넷뱅킹 로그인 → 사용자관리→인터넷뱅킹관리→OTP이용등록\n",
      "\n",
      "2. 신한 쏠(SOL) 로그인→ 전체메뉴→설정/인증→ 이용중인 보안매체선택→ OTP이용등록\n",
      "\n",
      "※ OTP이용등록후 재로그인을 하셔야 새로 등록된 보안매체가 적용됩니다.\n",
      "\n",
      "기타 궁금한 점은 신한은행 고객센터(1599-8000)로 문의하시기 바랍니다.\n"
     ]
    }
   ],
   "source": [
    "from utils import print_ww\n",
    "result = run_RetrievalQA(\n",
    "  llm=llm_text,\n",
    "  query=query,\n",
    "  prompt=PROMPT,\n",
    "  vector_db=vector_db,\n",
    "  boolean_filter=boolean_filter,\n",
    "  k=5\n",
    ")\n",
    "\n",
    "print(\"#\"*50)\n",
    "print(\"query: \", query)\n",
    "print(\"#\"*50)\n",
    "print_ww(result['result'])"
   ]
  },
  {
   "cell_type": "markdown",
   "metadata": {},
   "source": [
    "### 5. Conversational Chatbot 사용한 대화형 세션"
   ]
  },
  {
   "cell_type": "code",
   "execution_count": 55,
   "metadata": {},
   "outputs": [],
   "source": [
    "from langchain.chains import ConversationChain, ConversationalRetrievalChain\n",
    "from langchain.memory import ConversationBufferMemory\n",
    "from langchain.schema import BaseMessage\n"
   ]
  },
  {
   "cell_type": "code",
   "execution_count": null,
   "metadata": {},
   "outputs": [],
   "source": []
  }
 ],
 "metadata": {
  "kernelspec": {
   "display_name": "bedrock",
   "language": "python",
   "name": "python3"
  },
  "language_info": {
   "codemirror_mode": {
    "name": "ipython",
    "version": 3
   },
   "file_extension": ".py",
   "mimetype": "text/x-python",
   "name": "python",
   "nbconvert_exporter": "python",
   "pygments_lexer": "ipython3",
   "version": "3.10.13"
  }
 },
 "nbformat": 4,
 "nbformat_minor": 2
}
