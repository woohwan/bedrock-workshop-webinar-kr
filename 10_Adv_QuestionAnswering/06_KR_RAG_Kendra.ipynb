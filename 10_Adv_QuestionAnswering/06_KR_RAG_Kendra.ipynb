{
 "cells": [
  {
   "cell_type": "markdown",
   "id": "1bc16475-c1e9-4db2-8151-b8e12e7bc176",
   "metadata": {},
   "source": [
    "# Amazon Kendra 기반 RAG\n",
    "> 이 노트북은  SageMaker Studio* **`Data Science 3.0`** kernel 및 ml.t3.medium 인스턴스에서 테스트 되었습니다.\n",
    "---\n",
    "### 중요\n",
    "- 이 노트북은 Anthropic 의 Claude-v2 모델 접근 가능한 분만 실행 가능합니다. \n",
    "- 접근이 안되시는 분은 노트북의 코드와 결과 만을 확인 하시면 좋겠습니다.\n",
    "- 만일 실행시에는 **\"과금\"** 이 발생이 되는 부분 유념 해주시기 바랍니다.\n",
    "\n",
    "### 선수조건\n",
    "- Kendra indexing이 되어 있어야 합니다\n"
   ]
  },
  {
   "cell_type": "markdown",
   "id": "37467962-1b4d-4bc0-9d77-1bf4521060f2",
   "metadata": {
    "tags": []
   },
   "source": [
    "### 설정\n",
    "\n",
    "이 노트북의 나머지 부분을 실행하기 전에 아래 셀을 실행하여 (필요한 라이브러리가 설치되어 있는지 확인하고) Bedrock에 연결해야 합니다."
   ]
  },
  {
   "cell_type": "code",
   "execution_count": 2,
   "id": "38dc8a64-ca43-49df-9602-1daa357601bf",
   "metadata": {
    "tags": []
   },
   "outputs": [],
   "source": [
    "%load_ext autoreload\n",
    "%autoreload 2\n",
    "\n",
    "import sys, os\n",
    "module_path = \"..\"\n",
    "sys.path.append(os.path.abspath(module_path))"
   ]
  },
  {
   "cell_type": "markdown",
   "id": "f662145d-6281-4463-8732-77139e4fc547",
   "metadata": {},
   "source": [
    "# 1. Bedrock Client 생성"
   ]
  },
  {
   "cell_type": "code",
   "execution_count": 2,
   "id": "f9551e35-1bf3-452a-a127-f5aea58917c1",
   "metadata": {
    "tags": []
   },
   "outputs": [
    {
     "name": "stdout",
     "output_type": "stream",
     "text": [
      "Create new client\n",
      "  Using region: None\n",
      "  Using profile: None\n",
      "boto3 Bedrock client successfully created!\n",
      "bedrock-runtime(https://bedrock-runtime.us-east-1.amazonaws.com)\n",
      "\u001b[32m\n",
      "== FM lists ==\u001b[0m\n",
      "{'Claude-Instant-V1': 'anthropic.claude-instant-v1',\n",
      " 'Claude-V1': 'anthropic.claude-v1',\n",
      " 'Claude-V2': 'anthropic.claude-v2',\n",
      " 'Command': 'cohere.command-text-v14',\n",
      " 'Jurassic-2-Mid': 'ai21.j2-mid-v1',\n",
      " 'Jurassic-2-Ultra': 'ai21.j2-ultra-v1',\n",
      " 'Titan-Embeddings-G1': 'amazon.titan-embed-text-v1',\n",
      " 'Titan-Text-G1': 'TBD'}\n"
     ]
    }
   ],
   "source": [
    "import json\n",
    "import boto3\n",
    "from pprint import pprint\n",
    "from termcolor import colored\n",
    "from utils import bedrock, print_ww\n",
    "from utils.bedrock import bedrock_info\n",
    "\n",
    "# ---- ⚠️ Un-comment and edit the below lines as needed for your AWS setup ⚠️ ----\n",
    "\n",
    "# os.environ[\"AWS_DEFAULT_REGION\"] = \"<REGION_NAME>\"  # E.g. \"us-east-1\"\n",
    "# os.environ[\"AWS_PROFILE\"] = \"<YOUR_PROFILE>\"\n",
    "# os.environ[\"BEDROCK_ASSUME_ROLE\"] = \"<YOUR_ROLE_ARN>\"  # E.g. \"arn:aws:...\"\n",
    "# os.environ[\"BEDROCK_ENDPOINT_URL\"] = \"<YOUR_ENDPOINT_URL>\"  # E.g. \"https://...\"\n",
    "#os.environ[\"AWS_PROFILE\"] = \"bedrock_claude\"\n",
    "\n",
    "boto3_bedrock = bedrock.get_bedrock_client(\n",
    "    assumed_role=os.environ.get(\"BEDROCK_ASSUME_ROLE\", None),\n",
    "    endpoint_url=os.environ.get(\"BEDROCK_ENDPOINT_URL\", None),\n",
    "    region=os.environ.get(\"AWS_DEFAULT_REGION\", None),\n",
    ")\n",
    "\n",
    "print (colored(\"\\n== FM lists ==\", \"green\"))\n",
    "pprint (bedrock_info.get_list_fm_models())"
   ]
  },
  {
   "cell_type": "markdown",
   "id": "b25c6959-699f-4ef0-a2a9-d266fb98207e",
   "metadata": {},
   "source": [
    "# 2. Amazon Kendra 및 LLM 인 Claude-v2 모델 로딩"
   ]
  },
  {
   "cell_type": "markdown",
   "id": "c9049f32-8846-4aeb-a397-144e6d27c34f",
   "metadata": {},
   "source": [
    "## LLM 로딩 (Claude-v2)"
   ]
  },
  {
   "cell_type": "code",
   "execution_count": 3,
   "id": "4808be12-4be4-45ea-8f07-0cdb91505886",
   "metadata": {
    "tags": []
   },
   "outputs": [],
   "source": [
    "from langchain.llms.bedrock import Bedrock"
   ]
  },
  {
   "cell_type": "code",
   "execution_count": 4,
   "id": "735ecb51-77ba-4299-ab83-f179a5308a44",
   "metadata": {
    "tags": []
   },
   "outputs": [
    {
     "data": {
      "text/plain": [
       "Bedrock(client=<botocore.client.BedrockRuntime object at 0x7fc87b6a3310>, model_id='anthropic.claude-v2', model_kwargs={'max_tokens_to_sample': 512})"
      ]
     },
     "execution_count": 4,
     "metadata": {},
     "output_type": "execute_result"
    }
   ],
   "source": [
    "# - create the Anthropic Model\n",
    "llm_text = Bedrock(\n",
    "    model_id=bedrock_info.get_model_id(model_name=\"Claude-V2\"),\n",
    "    client=boto3_bedrock,\n",
    "    model_kwargs={'max_tokens_to_sample': 512}\n",
    ")\n",
    "llm_text"
   ]
  },
  {
   "cell_type": "markdown",
   "id": "03fc34bb-8bad-49db-b0bc-62abe8a9724c",
   "metadata": {},
   "source": [
    "## Kendra indexing"
   ]
  },
  {
   "cell_type": "markdown",
   "id": "8e9eac21-f861-454d-a4e4-67da1d526af1",
   "metadata": {},
   "source": [
    "## 선수 조건\n",
    "- Kendra indexing이 되어 있어야 합니다.\n",
    "- Kendra setting은 아래를 참고하세요."
   ]
  },
  {
   "cell_type": "markdown",
   "id": "8bb7f59e-cd8d-48a3-8999-a4b2f9793b21",
   "metadata": {
    "tags": []
   },
   "source": [
    "\"Create an Index\" 선택\n",
    "![nn](./img/kendra-1.png)"
   ]
  },
  {
   "cell_type": "markdown",
   "id": "6adc582e-197a-4c18-9b7c-caf2f9f531c6",
   "metadata": {},
   "source": [
    "\"Create Index\" 선택\n",
    "![nn](./img/kendra-2.png)"
   ]
  },
  {
   "cell_type": "markdown",
   "id": "64260cd6-447e-412e-a822-dbd8d5eef192",
   "metadata": {
    "tags": []
   },
   "source": [
    "\"Index name\" 및 \"Role\" 선택\n",
    "![nn](./img/kendra-3.png)"
   ]
  },
  {
   "cell_type": "markdown",
   "id": "9a62b1f6-0087-4e25-ae31-e58f55e973c1",
   "metadata": {
    "tags": []
   },
   "source": [
    "\"Next\" 선택\n",
    "![nn](./img/kendra-4.png)"
   ]
  },
  {
   "cell_type": "markdown",
   "id": "a751c09a-bc55-45df-b296-cbebac919e5c",
   "metadata": {},
   "source": [
    "\"next\" 선택\n",
    "![nn](./img/kendra-5.png)"
   ]
  },
  {
   "cell_type": "markdown",
   "id": "6ac0606a-9031-47bb-b235-e5bfb462af5f",
   "metadata": {},
   "source": [
    "생성된 index 선택\n",
    "![nn](./img/kendra-6.png)"
   ]
  },
  {
   "cell_type": "markdown",
   "id": "d78ceba7-8bdd-41b5-aae6-368eb812e30d",
   "metadata": {
    "tags": []
   },
   "source": [
    "\"데이터 소스이름\" 및 \"언어\" 선택\n",
    "![nn](./img/kendra-8.png)"
   ]
  },
  {
   "cell_type": "markdown",
   "id": "e5e23035-75a6-4635-8110-91d76ac84b40",
   "metadata": {
    "tags": []
   },
   "source": [
    "\"Role\"선택\n",
    "![nn](./img/kendra-9.png)"
   ]
  },
  {
   "cell_type": "markdown",
   "id": "2f22d4ca-0369-4799-8902-fb9a3a00d94d",
   "metadata": {},
   "source": [
    "\"S3 Bucket\"선택 후 계속 진행\n",
    "![nn](./img/kendra-10.png)"
   ]
  },
  {
   "cell_type": "markdown",
   "id": "9f9562ed-db62-403c-8fc3-7f610c79a640",
   "metadata": {
    "tags": []
   },
   "source": [
    "생성된 index에서 index-id 확인 <BR>\n",
    "![nn](./img/kendra-14.png)"
   ]
  },
  {
   "cell_type": "markdown",
   "id": "4f6fba37-a4ec-4354-89b7-3e6b1a645740",
   "metadata": {},
   "source": [
    "#### [중요] is_kendra == True 일시에 kendra_index_id 을 꼭 넣어 주세요."
   ]
  },
  {
   "cell_type": "code",
   "execution_count": 12,
   "id": "2ac0f3c9-6a5c-46fe-9549-fc26d76c9e0c",
   "metadata": {
    "tags": []
   },
   "outputs": [],
   "source": [
    "aws_region = os.environ.get(\"AWS_DEFAULT_REGION\", None)\n",
    "\n",
    "##############################\n",
    "# Parameters for is_kendra\n",
    "##############################\n",
    "\n",
    "kendra_index_id = \"92778f99-5480-4a28-93fd-0075486848d1\""
   ]
  },
  {
   "cell_type": "markdown",
   "id": "c63b807f-9145-4692-a711-cae276752f63",
   "metadata": {},
   "source": [
    "# 3. QnA"
   ]
  },
  {
   "cell_type": "markdown",
   "id": "876175e5-62fc-4fc7-944b-a8a9c9729ce1",
   "metadata": {},
   "source": [
    "## 프로프트 템플릿 생성"
   ]
  },
  {
   "cell_type": "code",
   "execution_count": 13,
   "id": "afde5977-d198-4d34-a32a-18b2c99f2687",
   "metadata": {
    "tags": []
   },
   "outputs": [],
   "source": [
    "from langchain import PromptTemplate"
   ]
  },
  {
   "cell_type": "markdown",
   "id": "066cd7d4-9fd6-4934-a090-0a93363fa523",
   "metadata": {},
   "source": [
    "### [TIP] Prompt의 instruction의 경우 한글보다 **영어**로 했을 때 더 좋은 결과를 얻을 수 있습니다."
   ]
  },
  {
   "cell_type": "code",
   "execution_count": 14,
   "id": "64af774f-602d-4e66-8929-9297759afd1f",
   "metadata": {
    "tags": []
   },
   "outputs": [],
   "source": [
    "from utils.rag import create_bool_filter, run_RetrievalQA, run_RetrievalQA_kendra, show_context_used\n",
    "from langchain.prompts import PromptTemplate\n",
    "\n",
    "# prompt_template = \"\"\"Human: 다음 문맥의 Information을 사용하여 고객 서비스 센터 직원처럼, 마지막 질문에 대한 목차 형식으로 답변을 제공하세요. 응답을 모르면 모른다고 말하고 응답을 만들려고 하지 마세요.\n",
    "\n",
    "# {context}\n",
    "\n",
    "# Question: {question}\n",
    "# Assistant:\"\"\"\n",
    "\n",
    "prompt_template = \"\"\"\n",
    "    \n",
    "    Human: Use the following pieces of context to provide a concise answer to the question at the end. If you\n",
    "    don't know the answer, just say that you don't know, don't try to make up an answer.\n",
    "    \n",
    "    {context}\n",
    "    \n",
    "    Question: {question}\n",
    "    Assistant:\"\"\"\n",
    "\n",
    "\n",
    "\n",
    "PROMPT = PromptTemplate(\n",
    "    template=prompt_template, input_variables=[\"context\", \"question\"]\n",
    ")\n"
   ]
  },
  {
   "cell_type": "markdown",
   "id": "bcc057b5-db5a-4423-b8b4-55cd06bfec6e",
   "metadata": {},
   "source": [
    "### LangChain RetrievalQA 를 통해 실행"
   ]
  },
  {
   "cell_type": "markdown",
   "id": "05a0cc74-7309-4a72-b3ce-b9ede035bc48",
   "metadata": {},
   "source": [
    "* Atttribute filter\n",
    "    - https://docs.aws.amazon.com/kendra/latest/APIReference/API_AttributeFilter.html#kendra-Type-AttributeFilter-ContainsAny\n",
    "    - https://docs.aws.amazon.com/kendra/latest/APIReference/API_Retrieve.html"
   ]
  },
  {
   "cell_type": "code",
   "execution_count": 15,
   "id": "fa761e0c-c18b-4c55-9f19-b63d19748cb9",
   "metadata": {
    "tags": []
   },
   "outputs": [],
   "source": [
    "query = \"클라우드에 보관 중인 인증서는 얼마나 유지 되나요?\""
   ]
  },
  {
   "cell_type": "code",
   "execution_count": 16,
   "id": "3211bdfa-d6d6-40d1-b210-0bf9addc5ce1",
   "metadata": {
    "tags": []
   },
   "outputs": [
    {
     "name": "stdout",
     "output_type": "stream",
     "text": [
      "##################################\n",
      "query:  클라우드에 보관 중인 인증서는 얼마나 유지 되나요?\n",
      "##################################\n",
      " 문서에 따르면, 정상적으로 이용하실 경우 금융인증서의 유효기간은 3년이며, 1년 동안 클라우드 이용 이력이 없는 경우는 안전한 이용을 위하여 클라우드 계정 및 저장된 모든\n",
      "인증서가 삭제됩니다.\n",
      "-----------------------------------------------\n",
      "1. Chunk: 1165 Characters\n",
      "-----------------------------------------------\n",
      "Document Title: fsi_smart_faq_ko_preprocess.csv\n",
      "Document Excerpt:\n",
      "인증서를 저장한 매체에서는 인증서 비밀번호로 편리하게 이용할 수 있으나 다른 기기에서 이용하려면 기기마다 복사하거나 이동식디스크에 저장해서 휴대해야 하는 불편함이 있을 수\n",
      "있습니다. 금융인증서는 금융인증서는 금융결제원의 클라우드에 저장하여 이용하는 인증서로 발급/이용 시에 클라우드에 접속이 필요합니다. 금융결제원 클라우드에 연결만 가능하다면 어디서든\n",
      "편리하게 이용 가능하지만, PC나 USB, 휴대폰 등 다른 기기로 복사는 불가합니다. (유효기간 3년/발급 수수료 무료) ※ 클라우드 계정 연결을 위해 휴대폰을 통한 ARS,\n",
      "SMS, 마이인포앱 인증 절차가 필요합니다. 인증서 신한은행 금융인증서 해외에서 발급할 수 있나요? 해외에서도 인증서 발급 업무는 가능합니다. 다만, 금융인증서 저장을 위한\n",
      "금융결제원 클라우드 계정 생성 및 연결이 필요한 업무로 해외연락처를 통한 ARS인증이 진행됩니다. 금융인증서 신한은행 클라우드에 보관 중인 인증서는 얼마나 유지 되나요? 정상적으로\n",
      "이용하실 경우 금융인증서의 유효기간은 3년이며, 1년 동안 클라우드 이용 이력이 없는 경우는 안전한 이용을 위하여 클라우드 계정 및 저장된 모든 인증서가 삭제됩니다. 금융인증서\n",
      "신한은행 금융인증서 발급대상은 누구인가요? 다만, 금융인증서 저장을 위한 금융결제원 클라우드 계정 생성 및 연결이 필요한 업무로 해외연락처를 통한 ARS인증이 진행됩니다.\n",
      "금융인증서 신한은행 클라우드에 보관 중인 인증서는 얼마나 유지 되나요? 정상적으로 이용하실 경우 금융인증서의 유효기간은 3년이며, 1년 동안 클라우드 이용 이력이 없는 경우는\n",
      "안전한 이용을 위하여 클라우드 계정 및 저장된 모든 인증서가 삭제됩니다. 금융인증서 신한은행 금융인증서 발급대상은 누구인가요? 금융인증서는 은행 등의 금융회사에서 실명 확인된\n",
      "고객을 대상으로 안전하게 발급되며 신한은행 온라인서비스 가입 고객이면 발급가능합니다. 다만 금융인증서는 PC하드디스크나 휴대폰 등에 파일형태로 저장하는 방식이 아닌 금융결제원의\n",
      "클라우드에 저장되기 때문에 금융결제원의 클라우드 연결을 위해 문자, ARS, 마이인포 앱을 통한 인증 절차가 진행됩니다. 금융인증서 신한은행 기존 공동인증서를 보유한 상태에서\n",
      "금융인증서 발급이 가능한가요?\n",
      "\n",
      "metadata:\n",
      " {'result_id': 'a07efcb5-bc8c-4712-9571-c5bc575bf0e2-838a52f3-10ac-48df-ab29-973c622d2de2',\n",
      "'document_id': 's3://kendra-repo/fsi_smart_faq_ko_preprocess.csv', 'source': 'https://kendra-\n",
      "repo.s3.amazonaws.com/fsi_smart_faq_ko_preprocess.csv', 'title': 'fsi_smart_faq_ko_preprocess.csv',\n",
      "'excerpt': '인증서를 저장한 매체에서는 인증서 비밀번호로 편리하게 이용할 수 있으나 다른 기기에서 이용하려면 기기마다 복사하거나 이동식디스크에 저장해서 휴대해야 하는\n",
      "불편함이 있을 수 있습니다. 금융인증서는 금융인증서는 금융결제원의 클라우드에 저장하여 이용하는 인증서로 발급/이용 시에 클라우드에 접속이 필요합니다. 금융결제원 클라우드에 연결만\n",
      "가능하다면 어디서든 편리하게 이용 가능하지만, PC나 USB, 휴대폰 등 다른 기기로 복사는 불가합니다. (유효기간 3년/발급 수수료 무료) ※ 클라우드 계정 연결을 위해 휴대폰을\n",
      "통한 ARS, SMS, 마이인포앱 인증 절차가 필요합니다. 인증서\\t신한은행 금융인증서 해외에서 발급할 수 있나요? 해외에서도 인증서 발급 업무는 가능합니다. 다만, 금융인증서\n",
      "저장을 위한 금융결제원 클라우드 계정 생성 및 연결이 필요한 업무로 해외연락처를 통한 ARS인증이 진행됩니다. 금융인증서\\t신한은행 클라우드에 보관 중인 인증서는 얼마나 유지\n",
      "되나요? 정상적으로 이용하실 경우 금융인증서의 유효기간은 3년이며, 1년 동안 클라우드 이용 이력이 없는 경우는 안전한 이용을 위하여 클라우드 계정 및 저장된 모든 인증서가\n",
      "삭제됩니다. 금융인증서\\t신한은행 금융인증서 발급대상은 누구인가요? 다만, 금융인증서 저장을 위한 금융결제원 클라우드 계정 생성 및 연결이 필요한 업무로 해외연락처를 통한\n",
      "ARS인증이 진행됩니다. 금융인증서\\t신한은행 클라우드에 보관 중인 인증서는 얼마나 유지 되나요? 정상적으로 이용하실 경우 금융인증서의 유효기간은 3년이며, 1년 동안 클라우드\n",
      "이용 이력이 없는 경우는 안전한 이용을 위하여 클라우드 계정 및 저장된 모든 인증서가 삭제됩니다. 금융인증서\\t신한은행 금융인증서 발급대상은 누구인가요? 금융인증서는 은행 등의\n",
      "금융회사에서 실명 확인된 고객을 대상으로 안전하게 발급되며 신한은행 온라인서비스 가입 고객이면 발급가능합니다. 다만 금융인증서는 PC하드디스크나 휴대폰 등에 파일형태로 저장하는\n",
      "방식이 아닌 금융결제원의 클라우드에 저장되기 때문에 금융결제원의 클라우드 연결을 위해 문자, ARS, 마이인포 앱을 통한 인증 절차가 진행됩니다. 금융인증서\\t신한은행 기존\n",
      "공동인증서를 보유한 상태에서 금융인증서 발급이 가능한가요?', 'document_attributes': {'_source_uri': 'https://kendra-\n",
      "repo.s3.amazonaws.com/fsi_smart_faq_ko_preprocess.csv', 's3_document_id':\n",
      "'fsi_smart_faq_ko_preprocess.csv'}}\n",
      "-----------------------------------------------\n",
      "2. Chunk: 1159 Characters\n",
      "-----------------------------------------------\n",
      "Document Title: fsi_smart_faq_ko_preprocess.csv\n",
      "Document Excerpt:\n",
      "(유효기간 3년/발급 수수료 무료) ※ 클라우드 계정 연결을 위해 휴대폰을 통한 ARS, SMS, 마이인포앱 인증 절차가 필요합니다. 인증서 신한은행 금융인증서 해외에서 발급할 수\n",
      "있나요? 해외에서도 인증서 발급 업무는 가능합니다. 다만, 금융인증서 저장을 위한 금융결제원 클라우드 계정 생성 및 연결이 필요한 업무로 해외연락처를 통한 ARS인증이 진행됩니다.\n",
      "금융인증서 신한은행 클라우드에 보관 중인 인증서는 얼마나 유지 되나요? 정상적으로 이용하실 경우 금융인증서의 유효기간은 3년이며, 1년 동안 클라우드 이용 이력이 없는 경우는\n",
      "안전한 이용을 위하여 클라우드 계정 및 저장된 모든 인증서가 삭제됩니다. 금융인증서 신한은행 금융인증서 발급대상은 누구인가요? 다만, 금융인증서 저장을 위한 금융결제원 클라우드\n",
      "계정 생성 및 연결이 필요한 업무로 해외연락처를 통한 ARS인증이 진행됩니다. 금융인증서 신한은행 클라우드에 보관 중인 인증서는 얼마나 유지 되나요? 정상적으로 이용하실 경우\n",
      "금융인증서의 유효기간은 3년이며, 1년 동안 클라우드 이용 이력이 없는 경우는 안전한 이용을 위하여 클라우드 계정 및 저장된 모든 인증서가 삭제됩니다. 금융인증서 신한은행\n",
      "금융인증서 발급대상은 누구인가요? 금융인증서는 은행 등의 금융회사에서 실명 확인된 고객을 대상으로 안전하게 발급되며 신한은행 온라인서비스 가입 고객이면 발급가능합니다. 다만\n",
      "금융인증서는 PC하드디스크나 휴대폰 등에 파일형태로 저장하는 방식이 아닌 금융결제원의 클라우드에 저장되기 때문에 금융결제원의 클라우드 연결을 위해 문자, ARS, 마이인포 앱을\n",
      "통한 인증 절차가 진행됩니다. 금융인증서 신한은행 기존 공동인증서를 보유한 상태에서 금융인증서 발급이 가능한가요? 공동인증서와 금융인증서는 별개의 인증서로 두 가지 인증서를 모두\n",
      "사용할 수 있습니다. 금융인증서 신한은행 뱅크아이디란 무엇인가요? 뱅크아이디란, 블록체인기반의 은행권 공동인증서비스로 블록체인 원장을 분산하여 저장/관리함으로써 정보의 신뢰성과\n",
      "안정성을 높이는 인증기술방식입니다. 기존의 뱅크사인(BankSign)이 뱅크아이디(마이인포) 로 전환되었으며 별도의 앱 설치 없이 신한 쏠(SOL)에서 직접 신청 및 관리가\n",
      "가능합니다.\n",
      "\n",
      "metadata:\n",
      " {'result_id': 'a07efcb5-bc8c-4712-9571-c5bc575bf0e2-542cec7d-f191-42a4-a60e-cc3af81a93d1',\n",
      "'document_id': 's3://kendra-repo/fsi_smart_faq_ko_preprocess.csv', 'source': 'https://kendra-\n",
      "repo.s3.amazonaws.com/fsi_smart_faq_ko_preprocess.csv', 'title': 'fsi_smart_faq_ko_preprocess.csv',\n",
      "'excerpt': '(유효기간 3년/발급 수수료 무료) ※ 클라우드 계정 연결을 위해 휴대폰을 통한 ARS, SMS, 마이인포앱 인증 절차가 필요합니다. 인증서\\t신한은행\n",
      "금융인증서 해외에서 발급할 수 있나요? 해외에서도 인증서 발급 업무는 가능합니다. 다만, 금융인증서 저장을 위한 금융결제원 클라우드 계정 생성 및 연결이 필요한 업무로 해외연락처를\n",
      "통한 ARS인증이 진행됩니다. 금융인증서\\t신한은행 클라우드에 보관 중인 인증서는 얼마나 유지 되나요? 정상적으로 이용하실 경우 금융인증서의 유효기간은 3년이며, 1년 동안\n",
      "클라우드 이용 이력이 없는 경우는 안전한 이용을 위하여 클라우드 계정 및 저장된 모든 인증서가 삭제됩니다. 금융인증서\\t신한은행 금융인증서 발급대상은 누구인가요? 다만, 금융인증서\n",
      "저장을 위한 금융결제원 클라우드 계정 생성 및 연결이 필요한 업무로 해외연락처를 통한 ARS인증이 진행됩니다. 금융인증서\\t신한은행 클라우드에 보관 중인 인증서는 얼마나 유지\n",
      "되나요? 정상적으로 이용하실 경우 금융인증서의 유효기간은 3년이며, 1년 동안 클라우드 이용 이력이 없는 경우는 안전한 이용을 위하여 클라우드 계정 및 저장된 모든 인증서가\n",
      "삭제됩니다. 금융인증서\\t신한은행 금융인증서 발급대상은 누구인가요? 금융인증서는 은행 등의 금융회사에서 실명 확인된 고객을 대상으로 안전하게 발급되며 신한은행 온라인서비스 가입\n",
      "고객이면 발급가능합니다. 다만 금융인증서는 PC하드디스크나 휴대폰 등에 파일형태로 저장하는 방식이 아닌 금융결제원의 클라우드에 저장되기 때문에 금융결제원의 클라우드 연결을 위해\n",
      "문자, ARS, 마이인포 앱을 통한 인증 절차가 진행됩니다. 금융인증서\\t신한은행 기존 공동인증서를 보유한 상태에서 금융인증서 발급이 가능한가요? 공동인증서와 금융인증서는 별개의\n",
      "인증서로 두 가지 인증서를 모두 사용할 수 있습니다. 금융인증서\\t신한은행 뱅크아이디란 무엇인가요? 뱅크아이디란, 블록체인기반의 은행권 공동인증서비스로 블록체인 원장을 분산하여\n",
      "저장/관리함으로써 정보의 신뢰성과 안정성을 높이는 인증기술방식입니다. 기존의 뱅크사인(BankSign)이  뱅크아이디(마이인포) 로 전환되었으며 별도의 앱 설치 없이 신한\n",
      "쏠(SOL)에서 직접 신청 및 관리가 가능합니다.', 'document_attributes': {'_source_uri': 'https://kendra-\n",
      "repo.s3.amazonaws.com/fsi_smart_faq_ko_preprocess.csv', 's3_document_id':\n",
      "'fsi_smart_faq_ko_preprocess.csv'}}\n",
      "-----------------------------------------------\n",
      "3. Chunk: 831 Characters\n",
      "-----------------------------------------------\n",
      "Document Title: fsi_smart_faq_ko_preprocess.csv\n",
      "Document Excerpt:\n",
      "인터넷뱅킹 신한은행 모바일 OTP 사용하고 있는데 인터넷뱅킹에서는 어떻게 이용하는건가요? 인터넷뱅킹 거래시 보안매체 입력단계에 [인증요청] 버튼 클릭하면 핸드폰으로 푸시메세지가\n",
      "전달됩니다. 푸시메세지 터치하여 모바일 OTP 비밀번호 6자리 입력, 인증처리 완료후 인터넷뱅킹에서 이후의 절차를 진행하시면 됩니다. ※ 스마트폰에 모바일 OTP 푸시(PUSH)\n",
      "메세지가 오지 않는 경우 메뉴 직접 실행 - 신한 쏠(SOL) [로그인 하지 않음]> 전체메뉴> 설정/인증> 보안매체 전체보기> 모바일OTP> 인증 기타 궁금하신 내용은 신한은행\n",
      "고객센터 1599-8000로 문의하여 주시기 바랍니다. 인터넷뱅킹 신한은행 증권사에서 발급받은 인증서는 은행에서 사용 불가한가요? 인증서 용도로 구분해 주셔야 합니다.\n",
      "증권용(무료) 인증서를 통한 은행 거래는 불가하나, 발급하신 인증서가 전자거래범용(유료) 인증서일 경우 은행에서도 이용 가능합니다. 인증서 신한은행 미래를함께하는따뜻한금융\n",
      "안전한금융거래를위해준비중입니다.' 화면에서 멈춤 / 로딩중 멈추는데 어떻게 하나요? 오류 사유는 인터넷 익스플로러 설정값의 영향이거나 이용하시는 장소의 네트워크 영향에 의해 로딩이\n",
      "원활하지 않은 경우입니다. 조치방법은 1. 임시 인터넷 파일 및 쿠키 삭제, 신뢰할 수 있는 사이트 추가 인터넷 익스플로러 상단의 [도구] > [인터넷옵션]에서 ① [일반Tab]\n",
      "> 검색기록항목의 [삭제] 버튼 클릭 \"임시 인터넷 파일 및 사이트 파일\" , \"쿠키 및 웹사이트 데이터\" 항목만 체크하고 [삭제]\n",
      "\n",
      "metadata:\n",
      " {'result_id': 'a07efcb5-bc8c-4712-9571-c5bc575bf0e2-d42c289c-fd31-418a-a528-559397de2a2d',\n",
      "'document_id': 's3://kendra-repo/fsi_smart_faq_ko_preprocess.csv', 'source': 'https://kendra-\n",
      "repo.s3.amazonaws.com/fsi_smart_faq_ko_preprocess.csv', 'title': 'fsi_smart_faq_ko_preprocess.csv',\n",
      "'excerpt': '인터넷뱅킹\\t신한은행 모바일 OTP 사용하고 있는데 인터넷뱅킹에서는 어떻게 이용하는건가요? 인터넷뱅킹 거래시 보안매체 입력단계에 [인증요청] 버튼 클릭하면\n",
      "핸드폰으로 푸시메세지가 전달됩니다. 푸시메세지 터치하여 모바일 OTP 비밀번호 6자리 입력, 인증처리 완료후 인터넷뱅킹에서 이후의 절차를 진행하시면 됩니다. ※ 스마트폰에 모바일\n",
      "OTP 푸시(PUSH) 메세지가 오지 않는 경우 메뉴 직접 실행 - 신한 쏠(SOL) [로그인 하지 않음]> 전체메뉴> 설정/인증> 보안매체 전체보기> 모바일OTP> 인증 기타\n",
      "궁금하신 내용은 신한은행 고객센터 1599-8000로 문의하여 주시기 바랍니다.\\xa0 인터넷뱅킹\\t신한은행 증권사에서 발급받은 인증서는 은행에서 사용 불가한가요? 인증서 용도로\n",
      "구분해 주셔야 합니다. 증권용(무료) 인증서를 통한 은행 거래는 불가하나, 발급하신 인증서가 전자거래범용(유료) 인증서일 경우 은행에서도 이용 가능합니다. 인증서\\t신한은행\n",
      "미래를함께하는따뜻한금융 안전한금융거래를위해준비중입니다.\\' 화면에서 멈춤 / 로딩중 멈추는데 어떻게 하나요? 오류 사유는 인터넷 익스플로러 설정값의 영향이거나 이용하시는 장소의\n",
      "네트워크 영향에 의해 로딩이 원활하지 않은 경우입니다. 조치방법은 1. 임시 인터넷 파일 및 쿠키 삭제, 신뢰할 수 있는 사이트 추가 인터넷 익스플로러 상단의 [도구] >\n",
      "[인터넷옵션]에서 ① [일반Tab] > 검색기록항목의 [삭제] 버튼 클릭 \"임시 인터넷 파일 및 사이트 파일\" , \"쿠키 및 웹사이트 데이터\" 항목만 체크하고 [삭제]',\n",
      "'document_attributes': {'_source_uri': 'https://kendra-\n",
      "repo.s3.amazonaws.com/fsi_smart_faq_ko_preprocess.csv', 's3_document_id':\n",
      "'fsi_smart_faq_ko_preprocess.csv'}}\n",
      "-----------------------------------------------\n",
      "4. Chunk: 847 Characters\n",
      "-----------------------------------------------\n",
      "Document Title: fsi_smart_faq_ko_preprocess.csv\n",
      "Document Excerpt:\n",
      "공동인증서와 금융인증서 차이점이 무엇인가요? 공동인증서 (구 공인인증서)는 용도에 따라 은행/신용카드/보험용 무료 인증서와 전자거래범용(수수료 4,400원) 인증서가 있으며\n",
      "유효기간은 1년입니다. 공동인증서는 하드디스크나 이동식디스크, 휴대폰 등 원하시는 기기에 저장해서 이용할 수 있습니다. 인증서를 저장한 매체에서는 인증서 비밀번호로 편리하게 이용할\n",
      "수 있으나 다른 기기에서 이용하려면 기기마다 복사하거나 이동식디스크에 저장해서 휴대해야 하는 불편함이 있을 수 있습니다. 금융인증서는 금융인증서는 금융결제원의 클라우드에 저장하여\n",
      "이용하는 인증서로 발급/이용 시에 클라우드에 접속이 필요합니다. 금융결제원 클라우드에 연결만 가능하다면 어디서든 편리하게 이용 가능하지만, PC나 USB, 휴대폰 등 다른 기기로\n",
      "복사는 불가합니다. (유효기간 3년/발급 수수료 무료) ※ 클라우드 계정 연결을 위해 휴대폰을 통한 ARS, SMS, 마이인포앱 인증 절차가 필요합니다. 인증서 신한은행 금융인증서\n",
      "해외에서 발급할 수 있나요? 해외에서도 인증서 발급 업무는 가능합니다. 다만, 금융인증서 저장을 위한 금융결제원 클라우드 계정 생성 및 연결이 필요한 업무로 해외연락처를 통한\n",
      "ARS인증이 진행됩니다. 금융인증서 신한은행 클라우드에 보관 중인 인증서는 얼마나 유지 되나요? 정상적으로 이용하실 경우 금융인증서의 유효기간은 3년이며, 1년 동안 클라우드 이용\n",
      "이력이 없는 경우는 안전한 이용을 위하여 클라우드 계정 및 저장된 모든 인증서가 삭제됩니다. 금융인증서 신한은행 금융인증서 발급대상은 누구인가요?\n",
      "\n",
      "metadata:\n",
      " {'result_id': 'a07efcb5-bc8c-4712-9571-c5bc575bf0e2-ae3ea68f-9d8e-420e-92a2-848d1fdb888a',\n",
      "'document_id': 's3://kendra-repo/fsi_smart_faq_ko_preprocess.csv', 'source': 'https://kendra-\n",
      "repo.s3.amazonaws.com/fsi_smart_faq_ko_preprocess.csv', 'title': 'fsi_smart_faq_ko_preprocess.csv',\n",
      "'excerpt': '공동인증서와 금융인증서 차이점이 무엇인가요? 공동인증서 (구 공인인증서)는 용도에 따라 은행/신용카드/보험용 무료 인증서와 전자거래범용(수수료 4,400원)\n",
      "인증서가 있으며 유효기간은 1년입니다. 공동인증서는 하드디스크나 이동식디스크, 휴대폰 등 원하시는 기기에 저장해서 이용할 수 있습니다. 인증서를 저장한 매체에서는 인증서 비밀번호로\n",
      "편리하게 이용할 수 있으나 다른 기기에서 이용하려면 기기마다 복사하거나 이동식디스크에 저장해서 휴대해야 하는 불편함이 있을 수 있습니다. 금융인증서는 금융인증서는 금융결제원의\n",
      "클라우드에 저장하여 이용하는 인증서로 발급/이용 시에 클라우드에 접속이 필요합니다. 금융결제원 클라우드에 연결만 가능하다면 어디서든 편리하게 이용 가능하지만, PC나 USB,\n",
      "휴대폰 등 다른 기기로 복사는 불가합니다. (유효기간 3년/발급 수수료 무료) ※ 클라우드 계정 연결을 위해 휴대폰을 통한 ARS, SMS, 마이인포앱 인증 절차가 필요합니다.\n",
      "인증서\\t신한은행 금융인증서 해외에서 발급할 수 있나요? 해외에서도 인증서 발급 업무는 가능합니다. 다만, 금융인증서 저장을 위한 금융결제원 클라우드 계정 생성 및 연결이 필요한\n",
      "업무로 해외연락처를 통한 ARS인증이 진행됩니다. 금융인증서\\t신한은행 클라우드에 보관 중인 인증서는 얼마나 유지 되나요? 정상적으로 이용하실 경우 금융인증서의 유효기간은\n",
      "3년이며, 1년 동안 클라우드 이용 이력이 없는 경우는 안전한 이용을 위하여 클라우드 계정 및 저장된 모든 인증서가 삭제됩니다. 금융인증서\\t신한은행 금융인증서 발급대상은\n",
      "누구인가요?', 'document_attributes': {'_source_uri': 'https://kendra-\n",
      "repo.s3.amazonaws.com/fsi_smart_faq_ko_preprocess.csv', 's3_document_id':\n",
      "'fsi_smart_faq_ko_preprocess.csv'}}\n",
      "-----------------------------------------------\n",
      "5. Chunk: 792 Characters\n",
      "-----------------------------------------------\n",
      "Document Title: fsi_smart_faq_ko_preprocess.csv\n",
      "Document Excerpt:\n",
      "금융결제원 클라우드에 연결만 가능하다면 어디서든 편리하게 이용 가능하지만, PC나 USB, 휴대폰 등 다른 기기로 복사는 불가합니다. (유효기간 3년/발급 수수료 무료) ※\n",
      "클라우드 계정 연결을 위해 휴대폰을 통한 ARS, SMS, 마이인포앱 인증 절차가 필요합니다. 인증서 아마존은행 공동인증서와 금융인증서 차이점이 무엇인가요? 공동인증서 (구\n",
      "공인인증서)는 용도에 따라 은행/신용카드/보험용 무료 인증서와 전자거래범용(수수료 4,400원) 인증서가 있으며 유효기간은 1년입니다. 공동인증서는 하드디스크나 이동식디스크,\n",
      "휴대폰 등 원하시는 기기에 저장해서 이용할 수 있습니다. 인증서를 저장한 매체에서는 인증서 비밀번호로 편리하게 이용할 수 있으나 다른 기기에서 이용하려면 기기마다 복사하거나\n",
      "이동식디스크에 저장해서 휴대해야 하는 불편함이 있을 수 있습니다. 금융인증서는 금융인증서는 금융결제원의 클라우드에 저장하여 이용하는 인증서로 발급/이용 시에 클라우드에 접속이\n",
      "필요합니다. 금융결제원 클라우드에 연결만 가능하다면 어디서든 편리하게 이용 가능하지만, PC나 USB, 휴대폰 등 다른 기기로 복사는 불가합니다. (유효기간 3년/발급 수수료\n",
      "무료) ※ 클라우드 계정 연결을 위해 휴대폰을 통한 ARS, SMS, 마이인포앱 인증 절차가 필요합니다. 인증서 신한은행 타기관OTP 이용등록방법 알려주세요 타기관에서 발급받으신\n",
      "OTP가 통합OTP카드인 경우 당행에 등록하여 이용가능합니다. [경로]\n",
      "\n",
      "metadata:\n",
      " {'result_id': 'a07efcb5-bc8c-4712-9571-c5bc575bf0e2-24dfc25f-cd27-41c2-a700-28c88f962c2f',\n",
      "'document_id': 's3://kendra-repo/fsi_smart_faq_ko_preprocess.csv', 'source': 'https://kendra-\n",
      "repo.s3.amazonaws.com/fsi_smart_faq_ko_preprocess.csv', 'title': 'fsi_smart_faq_ko_preprocess.csv',\n",
      "'excerpt': '금융결제원 클라우드에 연결만 가능하다면 어디서든 편리하게 이용 가능하지만, PC나 USB, 휴대폰 등 다른 기기로 복사는 불가합니다. (유효기간 3년/발급\n",
      "수수료 무료) ※ 클라우드 계정 연결을 위해 휴대폰을 통한 ARS, SMS, 마이인포앱 인증 절차가 필요합니다. 인증서\\t아마존은행 공동인증서와 금융인증서 차이점이 무엇인가요?\n",
      "공동인증서 (구 공인인증서)는 용도에 따라 은행/신용카드/보험용 무료 인증서와 전자거래범용(수수료 4,400원) 인증서가 있으며 유효기간은 1년입니다. 공동인증서는 하드디스크나\n",
      "이동식디스크, 휴대폰 등 원하시는 기기에 저장해서 이용할 수 있습니다. 인증서를 저장한 매체에서는 인증서 비밀번호로 편리하게 이용할 수 있으나 다른 기기에서 이용하려면 기기마다\n",
      "복사하거나 이동식디스크에 저장해서 휴대해야 하는 불편함이 있을 수 있습니다. 금융인증서는 금융인증서는 금융결제원의 클라우드에 저장하여 이용하는 인증서로 발급/이용 시에 클라우드에\n",
      "접속이 필요합니다. 금융결제원 클라우드에 연결만 가능하다면 어디서든 편리하게 이용 가능하지만, PC나 USB, 휴대폰 등 다른 기기로 복사는 불가합니다. (유효기간 3년/발급\n",
      "수수료 무료) ※ 클라우드 계정 연결을 위해 휴대폰을 통한 ARS, SMS, 마이인포앱 인증 절차가 필요합니다. 인증서\\t신한은행 타기관OTP 이용등록방법 알려주세요\\t타기관에서\n",
      "발급받으신 OTP가 통합OTP카드인 경우 당행에 등록하여 이용가능합니다. [경로]', 'document_attributes': {'_source_uri':\n",
      "'https://kendra-repo.s3.amazonaws.com/fsi_smart_faq_ko_preprocess.csv', 's3_document_id':\n",
      "'fsi_smart_faq_ko_preprocess.csv'}}\n",
      "CPU times: user 64 ms, sys: 22.5 ms, total: 86.5 ms\n",
      "Wall time: 6.22 s\n"
     ]
    }
   ],
   "source": [
    "%%time\n",
    "result = run_RetrievalQA_kendra(\n",
    "    query=query,\n",
    "    llm_text=llm_text,\n",
    "    PROMPT=PROMPT,\n",
    "    kendra_index_id=kendra_index_id,\n",
    "    k=5,\n",
    "    aws_region=aws_region,\n",
    "    verbose=False\n",
    ")\n",
    "\n",
    "print(\"##################################\")\n",
    "print(\"query: \", query)\n",
    "print(\"##################################\")\n",
    "print_ww(result['result'])\n",
    "show_context_used(result['source_documents'])  "
   ]
  }
 ],
 "metadata": {
  "availableInstances": [
   {
    "_defaultOrder": 0,
    "_isFastLaunch": true,
    "category": "General purpose",
    "gpuNum": 0,
    "hideHardwareSpecs": false,
    "memoryGiB": 4,
    "name": "ml.t3.medium",
    "vcpuNum": 2
   },
   {
    "_defaultOrder": 1,
    "_isFastLaunch": false,
    "category": "General purpose",
    "gpuNum": 0,
    "hideHardwareSpecs": false,
    "memoryGiB": 8,
    "name": "ml.t3.large",
    "vcpuNum": 2
   },
   {
    "_defaultOrder": 2,
    "_isFastLaunch": false,
    "category": "General purpose",
    "gpuNum": 0,
    "hideHardwareSpecs": false,
    "memoryGiB": 16,
    "name": "ml.t3.xlarge",
    "vcpuNum": 4
   },
   {
    "_defaultOrder": 3,
    "_isFastLaunch": false,
    "category": "General purpose",
    "gpuNum": 0,
    "hideHardwareSpecs": false,
    "memoryGiB": 32,
    "name": "ml.t3.2xlarge",
    "vcpuNum": 8
   },
   {
    "_defaultOrder": 4,
    "_isFastLaunch": true,
    "category": "General purpose",
    "gpuNum": 0,
    "hideHardwareSpecs": false,
    "memoryGiB": 8,
    "name": "ml.m5.large",
    "vcpuNum": 2
   },
   {
    "_defaultOrder": 5,
    "_isFastLaunch": false,
    "category": "General purpose",
    "gpuNum": 0,
    "hideHardwareSpecs": false,
    "memoryGiB": 16,
    "name": "ml.m5.xlarge",
    "vcpuNum": 4
   },
   {
    "_defaultOrder": 6,
    "_isFastLaunch": false,
    "category": "General purpose",
    "gpuNum": 0,
    "hideHardwareSpecs": false,
    "memoryGiB": 32,
    "name": "ml.m5.2xlarge",
    "vcpuNum": 8
   },
   {
    "_defaultOrder": 7,
    "_isFastLaunch": false,
    "category": "General purpose",
    "gpuNum": 0,
    "hideHardwareSpecs": false,
    "memoryGiB": 64,
    "name": "ml.m5.4xlarge",
    "vcpuNum": 16
   },
   {
    "_defaultOrder": 8,
    "_isFastLaunch": false,
    "category": "General purpose",
    "gpuNum": 0,
    "hideHardwareSpecs": false,
    "memoryGiB": 128,
    "name": "ml.m5.8xlarge",
    "vcpuNum": 32
   },
   {
    "_defaultOrder": 9,
    "_isFastLaunch": false,
    "category": "General purpose",
    "gpuNum": 0,
    "hideHardwareSpecs": false,
    "memoryGiB": 192,
    "name": "ml.m5.12xlarge",
    "vcpuNum": 48
   },
   {
    "_defaultOrder": 10,
    "_isFastLaunch": false,
    "category": "General purpose",
    "gpuNum": 0,
    "hideHardwareSpecs": false,
    "memoryGiB": 256,
    "name": "ml.m5.16xlarge",
    "vcpuNum": 64
   },
   {
    "_defaultOrder": 11,
    "_isFastLaunch": false,
    "category": "General purpose",
    "gpuNum": 0,
    "hideHardwareSpecs": false,
    "memoryGiB": 384,
    "name": "ml.m5.24xlarge",
    "vcpuNum": 96
   },
   {
    "_defaultOrder": 12,
    "_isFastLaunch": false,
    "category": "General purpose",
    "gpuNum": 0,
    "hideHardwareSpecs": false,
    "memoryGiB": 8,
    "name": "ml.m5d.large",
    "vcpuNum": 2
   },
   {
    "_defaultOrder": 13,
    "_isFastLaunch": false,
    "category": "General purpose",
    "gpuNum": 0,
    "hideHardwareSpecs": false,
    "memoryGiB": 16,
    "name": "ml.m5d.xlarge",
    "vcpuNum": 4
   },
   {
    "_defaultOrder": 14,
    "_isFastLaunch": false,
    "category": "General purpose",
    "gpuNum": 0,
    "hideHardwareSpecs": false,
    "memoryGiB": 32,
    "name": "ml.m5d.2xlarge",
    "vcpuNum": 8
   },
   {
    "_defaultOrder": 15,
    "_isFastLaunch": false,
    "category": "General purpose",
    "gpuNum": 0,
    "hideHardwareSpecs": false,
    "memoryGiB": 64,
    "name": "ml.m5d.4xlarge",
    "vcpuNum": 16
   },
   {
    "_defaultOrder": 16,
    "_isFastLaunch": false,
    "category": "General purpose",
    "gpuNum": 0,
    "hideHardwareSpecs": false,
    "memoryGiB": 128,
    "name": "ml.m5d.8xlarge",
    "vcpuNum": 32
   },
   {
    "_defaultOrder": 17,
    "_isFastLaunch": false,
    "category": "General purpose",
    "gpuNum": 0,
    "hideHardwareSpecs": false,
    "memoryGiB": 192,
    "name": "ml.m5d.12xlarge",
    "vcpuNum": 48
   },
   {
    "_defaultOrder": 18,
    "_isFastLaunch": false,
    "category": "General purpose",
    "gpuNum": 0,
    "hideHardwareSpecs": false,
    "memoryGiB": 256,
    "name": "ml.m5d.16xlarge",
    "vcpuNum": 64
   },
   {
    "_defaultOrder": 19,
    "_isFastLaunch": false,
    "category": "General purpose",
    "gpuNum": 0,
    "hideHardwareSpecs": false,
    "memoryGiB": 384,
    "name": "ml.m5d.24xlarge",
    "vcpuNum": 96
   },
   {
    "_defaultOrder": 20,
    "_isFastLaunch": false,
    "category": "General purpose",
    "gpuNum": 0,
    "hideHardwareSpecs": true,
    "memoryGiB": 0,
    "name": "ml.geospatial.interactive",
    "supportedImageNames": [
     "sagemaker-geospatial-v1-0"
    ],
    "vcpuNum": 0
   },
   {
    "_defaultOrder": 21,
    "_isFastLaunch": true,
    "category": "Compute optimized",
    "gpuNum": 0,
    "hideHardwareSpecs": false,
    "memoryGiB": 4,
    "name": "ml.c5.large",
    "vcpuNum": 2
   },
   {
    "_defaultOrder": 22,
    "_isFastLaunch": false,
    "category": "Compute optimized",
    "gpuNum": 0,
    "hideHardwareSpecs": false,
    "memoryGiB": 8,
    "name": "ml.c5.xlarge",
    "vcpuNum": 4
   },
   {
    "_defaultOrder": 23,
    "_isFastLaunch": false,
    "category": "Compute optimized",
    "gpuNum": 0,
    "hideHardwareSpecs": false,
    "memoryGiB": 16,
    "name": "ml.c5.2xlarge",
    "vcpuNum": 8
   },
   {
    "_defaultOrder": 24,
    "_isFastLaunch": false,
    "category": "Compute optimized",
    "gpuNum": 0,
    "hideHardwareSpecs": false,
    "memoryGiB": 32,
    "name": "ml.c5.4xlarge",
    "vcpuNum": 16
   },
   {
    "_defaultOrder": 25,
    "_isFastLaunch": false,
    "category": "Compute optimized",
    "gpuNum": 0,
    "hideHardwareSpecs": false,
    "memoryGiB": 72,
    "name": "ml.c5.9xlarge",
    "vcpuNum": 36
   },
   {
    "_defaultOrder": 26,
    "_isFastLaunch": false,
    "category": "Compute optimized",
    "gpuNum": 0,
    "hideHardwareSpecs": false,
    "memoryGiB": 96,
    "name": "ml.c5.12xlarge",
    "vcpuNum": 48
   },
   {
    "_defaultOrder": 27,
    "_isFastLaunch": false,
    "category": "Compute optimized",
    "gpuNum": 0,
    "hideHardwareSpecs": false,
    "memoryGiB": 144,
    "name": "ml.c5.18xlarge",
    "vcpuNum": 72
   },
   {
    "_defaultOrder": 28,
    "_isFastLaunch": false,
    "category": "Compute optimized",
    "gpuNum": 0,
    "hideHardwareSpecs": false,
    "memoryGiB": 192,
    "name": "ml.c5.24xlarge",
    "vcpuNum": 96
   },
   {
    "_defaultOrder": 29,
    "_isFastLaunch": true,
    "category": "Accelerated computing",
    "gpuNum": 1,
    "hideHardwareSpecs": false,
    "memoryGiB": 16,
    "name": "ml.g4dn.xlarge",
    "vcpuNum": 4
   },
   {
    "_defaultOrder": 30,
    "_isFastLaunch": false,
    "category": "Accelerated computing",
    "gpuNum": 1,
    "hideHardwareSpecs": false,
    "memoryGiB": 32,
    "name": "ml.g4dn.2xlarge",
    "vcpuNum": 8
   },
   {
    "_defaultOrder": 31,
    "_isFastLaunch": false,
    "category": "Accelerated computing",
    "gpuNum": 1,
    "hideHardwareSpecs": false,
    "memoryGiB": 64,
    "name": "ml.g4dn.4xlarge",
    "vcpuNum": 16
   },
   {
    "_defaultOrder": 32,
    "_isFastLaunch": false,
    "category": "Accelerated computing",
    "gpuNum": 1,
    "hideHardwareSpecs": false,
    "memoryGiB": 128,
    "name": "ml.g4dn.8xlarge",
    "vcpuNum": 32
   },
   {
    "_defaultOrder": 33,
    "_isFastLaunch": false,
    "category": "Accelerated computing",
    "gpuNum": 4,
    "hideHardwareSpecs": false,
    "memoryGiB": 192,
    "name": "ml.g4dn.12xlarge",
    "vcpuNum": 48
   },
   {
    "_defaultOrder": 34,
    "_isFastLaunch": false,
    "category": "Accelerated computing",
    "gpuNum": 1,
    "hideHardwareSpecs": false,
    "memoryGiB": 256,
    "name": "ml.g4dn.16xlarge",
    "vcpuNum": 64
   },
   {
    "_defaultOrder": 35,
    "_isFastLaunch": false,
    "category": "Accelerated computing",
    "gpuNum": 1,
    "hideHardwareSpecs": false,
    "memoryGiB": 61,
    "name": "ml.p3.2xlarge",
    "vcpuNum": 8
   },
   {
    "_defaultOrder": 36,
    "_isFastLaunch": false,
    "category": "Accelerated computing",
    "gpuNum": 4,
    "hideHardwareSpecs": false,
    "memoryGiB": 244,
    "name": "ml.p3.8xlarge",
    "vcpuNum": 32
   },
   {
    "_defaultOrder": 37,
    "_isFastLaunch": false,
    "category": "Accelerated computing",
    "gpuNum": 8,
    "hideHardwareSpecs": false,
    "memoryGiB": 488,
    "name": "ml.p3.16xlarge",
    "vcpuNum": 64
   },
   {
    "_defaultOrder": 38,
    "_isFastLaunch": false,
    "category": "Accelerated computing",
    "gpuNum": 8,
    "hideHardwareSpecs": false,
    "memoryGiB": 768,
    "name": "ml.p3dn.24xlarge",
    "vcpuNum": 96
   },
   {
    "_defaultOrder": 39,
    "_isFastLaunch": false,
    "category": "Memory Optimized",
    "gpuNum": 0,
    "hideHardwareSpecs": false,
    "memoryGiB": 16,
    "name": "ml.r5.large",
    "vcpuNum": 2
   },
   {
    "_defaultOrder": 40,
    "_isFastLaunch": false,
    "category": "Memory Optimized",
    "gpuNum": 0,
    "hideHardwareSpecs": false,
    "memoryGiB": 32,
    "name": "ml.r5.xlarge",
    "vcpuNum": 4
   },
   {
    "_defaultOrder": 41,
    "_isFastLaunch": false,
    "category": "Memory Optimized",
    "gpuNum": 0,
    "hideHardwareSpecs": false,
    "memoryGiB": 64,
    "name": "ml.r5.2xlarge",
    "vcpuNum": 8
   },
   {
    "_defaultOrder": 42,
    "_isFastLaunch": false,
    "category": "Memory Optimized",
    "gpuNum": 0,
    "hideHardwareSpecs": false,
    "memoryGiB": 128,
    "name": "ml.r5.4xlarge",
    "vcpuNum": 16
   },
   {
    "_defaultOrder": 43,
    "_isFastLaunch": false,
    "category": "Memory Optimized",
    "gpuNum": 0,
    "hideHardwareSpecs": false,
    "memoryGiB": 256,
    "name": "ml.r5.8xlarge",
    "vcpuNum": 32
   },
   {
    "_defaultOrder": 44,
    "_isFastLaunch": false,
    "category": "Memory Optimized",
    "gpuNum": 0,
    "hideHardwareSpecs": false,
    "memoryGiB": 384,
    "name": "ml.r5.12xlarge",
    "vcpuNum": 48
   },
   {
    "_defaultOrder": 45,
    "_isFastLaunch": false,
    "category": "Memory Optimized",
    "gpuNum": 0,
    "hideHardwareSpecs": false,
    "memoryGiB": 512,
    "name": "ml.r5.16xlarge",
    "vcpuNum": 64
   },
   {
    "_defaultOrder": 46,
    "_isFastLaunch": false,
    "category": "Memory Optimized",
    "gpuNum": 0,
    "hideHardwareSpecs": false,
    "memoryGiB": 768,
    "name": "ml.r5.24xlarge",
    "vcpuNum": 96
   },
   {
    "_defaultOrder": 47,
    "_isFastLaunch": false,
    "category": "Accelerated computing",
    "gpuNum": 1,
    "hideHardwareSpecs": false,
    "memoryGiB": 16,
    "name": "ml.g5.xlarge",
    "vcpuNum": 4
   },
   {
    "_defaultOrder": 48,
    "_isFastLaunch": false,
    "category": "Accelerated computing",
    "gpuNum": 1,
    "hideHardwareSpecs": false,
    "memoryGiB": 32,
    "name": "ml.g5.2xlarge",
    "vcpuNum": 8
   },
   {
    "_defaultOrder": 49,
    "_isFastLaunch": false,
    "category": "Accelerated computing",
    "gpuNum": 1,
    "hideHardwareSpecs": false,
    "memoryGiB": 64,
    "name": "ml.g5.4xlarge",
    "vcpuNum": 16
   },
   {
    "_defaultOrder": 50,
    "_isFastLaunch": false,
    "category": "Accelerated computing",
    "gpuNum": 1,
    "hideHardwareSpecs": false,
    "memoryGiB": 128,
    "name": "ml.g5.8xlarge",
    "vcpuNum": 32
   },
   {
    "_defaultOrder": 51,
    "_isFastLaunch": false,
    "category": "Accelerated computing",
    "gpuNum": 1,
    "hideHardwareSpecs": false,
    "memoryGiB": 256,
    "name": "ml.g5.16xlarge",
    "vcpuNum": 64
   },
   {
    "_defaultOrder": 52,
    "_isFastLaunch": false,
    "category": "Accelerated computing",
    "gpuNum": 4,
    "hideHardwareSpecs": false,
    "memoryGiB": 192,
    "name": "ml.g5.12xlarge",
    "vcpuNum": 48
   },
   {
    "_defaultOrder": 53,
    "_isFastLaunch": false,
    "category": "Accelerated computing",
    "gpuNum": 4,
    "hideHardwareSpecs": false,
    "memoryGiB": 384,
    "name": "ml.g5.24xlarge",
    "vcpuNum": 96
   },
   {
    "_defaultOrder": 54,
    "_isFastLaunch": false,
    "category": "Accelerated computing",
    "gpuNum": 8,
    "hideHardwareSpecs": false,
    "memoryGiB": 768,
    "name": "ml.g5.48xlarge",
    "vcpuNum": 192
   },
   {
    "_defaultOrder": 55,
    "_isFastLaunch": false,
    "category": "Accelerated computing",
    "gpuNum": 8,
    "hideHardwareSpecs": false,
    "memoryGiB": 1152,
    "name": "ml.p4d.24xlarge",
    "vcpuNum": 96
   },
   {
    "_defaultOrder": 56,
    "_isFastLaunch": false,
    "category": "Accelerated computing",
    "gpuNum": 8,
    "hideHardwareSpecs": false,
    "memoryGiB": 1152,
    "name": "ml.p4de.24xlarge",
    "vcpuNum": 96
   }
  ],
  "instance_type": "ml.m5.2xlarge",
  "kernelspec": {
   "display_name": "conda_python3",
   "language": "python",
   "name": "conda_python3"
  },
  "language_info": {
   "codemirror_mode": {
    "name": "ipython",
    "version": 3
   },
   "file_extension": ".py",
   "mimetype": "text/x-python",
   "name": "python",
   "nbconvert_exporter": "python",
   "pygments_lexer": "ipython3",
   "version": "3.10.12"
  }
 },
 "nbformat": 4,
 "nbformat_minor": 5
}
