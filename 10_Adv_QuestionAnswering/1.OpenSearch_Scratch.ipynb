{
 "cells": [
  {
   "cell_type": "markdown",
   "metadata": {},
   "source": [
    "## OpenSearch Warming Up"
   ]
  },
  {
   "cell_type": "code",
   "execution_count": 1,
   "metadata": {},
   "outputs": [],
   "source": [
    "from typing import List, Tuple\n",
    "from opensearchpy import OpenSearch, RequestsHttpConnection"
   ]
  },
  {
   "cell_type": "markdown",
   "metadata": {},
   "source": [
    "### OpenSearch Client 생성"
   ]
  },
  {
   "cell_type": "code",
   "execution_count": 2,
   "metadata": {},
   "outputs": [
    {
     "data": {
      "text/plain": [
       "<OpenSearch([{'host': 'search-bedrock-fkik524xhgkrn3t2omdtfspzmm.ap-northeast-2.es.amazonaws.com', 'port': 443}])>"
      ]
     },
     "execution_count": 2,
     "metadata": {},
     "output_type": "execute_result"
    }
   ],
   "source": [
    "def create_aws_opensearch_client(region: str, host: str, http_auth: Tuple[str, str]) -> OpenSearch:\n",
    "  aws_client = OpenSearch(\n",
    "    hosts=[{'host': host.replace(\"https://\",\"\"), 'port': 443}],\n",
    "    http_auth=http_auth,\n",
    "    use_ssl=True,\n",
    "    verify_certs=True,\n",
    "    connection_class=RequestsHttpConnection\n",
    "  )\n",
    "\n",
    "  return aws_client\n",
    "\n",
    "aws_region = \"ap-northeast-2\"\n",
    "opensearch_cluster_domain='https://search-bedrock-fkik524xhgkrn3t2omdtfspzmm.ap-northeast-2.es.amazonaws.com'\n",
    "http_auth=('admin', 'Admin123@')\n",
    "aws_client = create_aws_opensearch_client(aws_region, opensearch_cluster_domain, http_auth)\n",
    "aws_client"
   ]
  },
  {
   "cell_type": "markdown",
   "metadata": {},
   "source": [
    "### Index Creation"
   ]
  },
  {
   "cell_type": "code",
   "execution_count": 3,
   "metadata": {},
   "outputs": [
    {
     "name": "stdout",
     "output_type": "stream",
     "text": [
      "\n",
      "Creating Index: \n",
      "{'acknowledged': True, 'shards_acknowledged': True, 'index': 'python-test-index'}\n"
     ]
    }
   ],
   "source": [
    "def create_index(aws_client, index_name, index_body):\n",
    "  response = aws_client.indices.create(index_name, index_body)\n",
    "  print(\"\\nCreating Index: \")\n",
    "  print(response)\n",
    "\n",
    "# Create an index with non-default setting\n",
    "index_name = \"python-test-index\"\n",
    "index_body = {\n",
    "  'settings': {\n",
    "    'index': {\n",
    "      'number_of_shards': 2\n",
    "    }\n",
    "  }\n",
    "}\n",
    "create_index(aws_client, index_name, index_body)"
   ]
  },
  {
   "cell_type": "markdown",
   "metadata": {},
   "source": [
    "### Check if index exists"
   ]
  },
  {
   "cell_type": "code",
   "execution_count": 4,
   "metadata": {},
   "outputs": [
    {
     "name": "stdout",
     "output_type": "stream",
     "text": [
      "index_name=python-test-index, exists=True\n"
     ]
    },
    {
     "data": {
      "text/plain": [
       "True"
      ]
     },
     "execution_count": 4,
     "metadata": {},
     "output_type": "execute_result"
    }
   ],
   "source": [
    "def check_if_index_exist(aws_client, index_name):\n",
    "  exists = aws_client.indices.exists(index_name)\n",
    "  print(f\"index_name={index_name}, exists={exists}\")\n",
    "  return exists\n",
    "\n",
    "index_exists = check_if_index_exist(aws_client, index_name)\n",
    "index_exists"
   ]
  },
  {
   "cell_type": "markdown",
   "metadata": {},
   "source": [
    "### Add Documents"
   ]
  },
  {
   "cell_type": "code",
   "execution_count": 6,
   "metadata": {},
   "outputs": [
    {
     "name": "stdout",
     "output_type": "stream",
     "text": [
      "\n",
      "Adding document:\n",
      "{'_index': 'python-test-index', '_id': '1', '_version': 2, 'result': 'updated', 'forced_refresh': True, '_shards': {'total': 2, 'successful': 1, 'failed': 0}, '_seq_no': 1, '_primary_term': 1}\n",
      "\n",
      "Adding document:\n",
      "{'_index': 'python-test-index', '_id': '2', '_version': 1, 'result': 'created', 'forced_refresh': True, '_shards': {'total': 2, 'successful': 1, 'failed': 0}, '_seq_no': 2, '_primary_term': 1}\n"
     ]
    }
   ],
   "source": [
    "# Add a document to the index\n",
    "def add_doc(aws_client, index_name, document, id):\n",
    "  response = aws_client.index(\n",
    "    index=index_name,\n",
    "    body=document,\n",
    "    id=id,\n",
    "    refresh=True\n",
    "  )\n",
    "  print(\"\\nAdding document:\")\n",
    "  print(response)\n",
    "\n",
    "document = {\n",
    "  'title': 'Moneyball',\n",
    "  'director': 'Bennett Miller',\n",
    "  'year': '2011'\n",
    "}\n",
    "id = 1\n",
    "add_doc(aws_client, index_name, document, id)\n",
    "\n",
    "document = {\n",
    "  'title': 'Parasite',\n",
    "  'director': 'Junho Bong',\n",
    "  'year': '2019'\n",
    "}\n",
    "id = 2\n",
    "add_doc(aws_client, index_name, document, id)"
   ]
  },
  {
   "cell_type": "markdown",
   "metadata": {},
   "source": [
    "### Search Document"
   ]
  },
  {
   "cell_type": "code",
   "execution_count": 7,
   "metadata": {},
   "outputs": [
    {
     "name": "stdout",
     "output_type": "stream",
     "text": [
      "\n",
      "Search results:\n",
      "{'took': 66, 'timed_out': False, '_shards': {'total': 2, 'successful': 2, 'skipped': 0, 'failed': 0}, 'hits': {'total': {'value': 1, 'relation': 'eq'}, 'max_score': 0.6931471, 'hits': [{'_index': 'python-test-index', '_id': '1', '_score': 0.6931471, '_source': {'title': 'Moneyball', 'director': 'Bennett Miller', 'year': '2011'}}]}}\n"
     ]
    }
   ],
   "source": [
    "# search doc\n",
    "def search_document(aws_client, query, index_name):\n",
    "  response = aws_client.search(\n",
    "    body=query,\n",
    "    index=index_name\n",
    "  )\n",
    "  print(\"\\nSearch results:\")\n",
    "  print(response)\n",
    "\n",
    "q = 'miller'\n",
    "query = {\n",
    "  'size': 5,\n",
    "  'query': {\n",
    "    'multi_match': {\n",
    "      'query': q,\n",
    "      'fields': ['title', 'director']\n",
    "    }\n",
    "  }\n",
    "}\n",
    "search_document(aws_client, query, index_name)"
   ]
  },
  {
   "cell_type": "code",
   "execution_count": 8,
   "metadata": {},
   "outputs": [
    {
     "name": "stdout",
     "output_type": "stream",
     "text": [
      "\n",
      "Deleting doc\n",
      "{'_index': 'python-test-index', '_id': '1', '_version': 3, 'result': 'deleted', '_shards': {'total': 2, 'successful': 1, 'failed': 0}, '_seq_no': 3, '_primary_term': 1}\n"
     ]
    }
   ],
   "source": [
    "### delete doc\n",
    "def delete_doc(aws_client, index_name, id):\n",
    "  response = aws_client.delete(\n",
    "    index=index_name,\n",
    "    id=id\n",
    "  )\n",
    "  print(\"\\nDeleting doc\")\n",
    "  print(response)\n",
    "id=1\n",
    "delete_doc(aws_client, index_name, id)"
   ]
  },
  {
   "cell_type": "code",
   "execution_count": 9,
   "metadata": {},
   "outputs": [
    {
     "name": "stdout",
     "output_type": "stream",
     "text": [
      "\n",
      "Deleting Index:\n",
      "{'acknowledged': True}\n"
     ]
    }
   ],
   "source": [
    "# Delete index\n",
    "def delete_index(aws_client, index_name):\n",
    "  response = aws_client.indices.delete(\n",
    "    index=index_name\n",
    "  )\n",
    "  print(\"\\nDeleting Index:\")\n",
    "  print(response)\n",
    "\n",
    "delete_index(aws_client, index_name)"
   ]
  },
  {
   "cell_type": "code",
   "execution_count": null,
   "metadata": {},
   "outputs": [],
   "source": []
  }
 ],
 "metadata": {
  "kernelspec": {
   "display_name": "bedrock",
   "language": "python",
   "name": "python3"
  },
  "language_info": {
   "codemirror_mode": {
    "name": "ipython",
    "version": 3
   },
   "file_extension": ".py",
   "mimetype": "text/x-python",
   "name": "python",
   "nbconvert_exporter": "python",
   "pygments_lexer": "ipython3",
   "version": "3.10.13"
  }
 },
 "nbformat": 4,
 "nbformat_minor": 2
}
