{
 "cells": [
  {
   "cell_type": "code",
   "execution_count": 2,
   "metadata": {},
   "outputs": [],
   "source": [
    "import sys, os\n",
    "module_path=\"../..\"\n",
    "sys.path.append(os.path.abspath(module_path))\n",
    "from utils import print_ww"
   ]
  },
  {
   "cell_type": "code",
   "execution_count": 11,
   "metadata": {},
   "outputs": [],
   "source": [
    "from langchain.text_splitter import RecursiveCharacterTextSplitter, CharacterTextSplitter\n",
    "\n",
    "chunk_size = 26\n",
    "chunk_overlap = 4\n",
    "\n",
    "r_splitter = RecursiveCharacterTextSplitter(\n",
    "  chunk_size=chunk_size,\n",
    "  chunk_overlap=chunk_overlap\n",
    ")\n",
    "c_splitter = CharacterTextSplitter(\n",
    "  chunk_size=chunk_size,\n",
    "  chunk_overlap=chunk_overlap\n",
    ")"
   ]
  },
  {
   "cell_type": "markdown",
   "metadata": {},
   "source": [
    "### RecusrsiveCharacterTextSplitter 이해"
   ]
  },
  {
   "cell_type": "code",
   "execution_count": 4,
   "metadata": {},
   "outputs": [
    {
     "data": {
      "text/plain": [
       "['abcdefghijklmnopqrstuvwxyz']"
      ]
     },
     "execution_count": 4,
     "metadata": {},
     "output_type": "execute_result"
    }
   ],
   "source": [
    "# Recursive text Splitter\n",
    "text1 = 'abcdefghijklmnopqrstuvwxyz'\n",
    "r_splitter.split_text(text1)"
   ]
  },
  {
   "cell_type": "markdown",
   "metadata": {},
   "source": [
    "- 문자의 개수가 26개 이상이기에 4개의 문자를 중복(overap)시키고, 두개로 분리"
   ]
  },
  {
   "cell_type": "code",
   "execution_count": 5,
   "metadata": {},
   "outputs": [
    {
     "data": {
      "text/plain": [
       "['abcdefghijklmnopqrstuvwxyz', 'wxyzabcdefg']"
      ]
     },
     "execution_count": 5,
     "metadata": {},
     "output_type": "execute_result"
    }
   ],
   "source": [
    "text2 = 'abcdefghijklmnopqrstuvwxyzabcdefg'\n",
    "r_splitter.split_text(text2)"
   ]
  },
  {
   "cell_type": "markdown",
   "metadata": {},
   "source": [
    "- space를 포함해서 최대 26개 글자씩 분리"
   ]
  },
  {
   "cell_type": "code",
   "execution_count": 7,
   "metadata": {},
   "outputs": [
    {
     "data": {
      "text/plain": [
       "['a b c d e f g h i j k l m', 'l m n o p q r s t u v w x', 'w x y z']"
      ]
     },
     "execution_count": 7,
     "metadata": {},
     "output_type": "execute_result"
    }
   ],
   "source": [
    "# Recursive text Splitter\n",
    "text3 = \"a b c d e f g h i j k l m n o p q r s t u v w x y z\"\n",
    "r_splitter.split_text(text3)\n"
   ]
  },
  {
   "cell_type": "markdown",
   "metadata": {},
   "source": [
    "### CharacterTextSplitter의 이해\n",
    "Separator가 없는 CharaterTextSplitter은 26개의 chunk size는 무시하고 전체(51)를 1개의 청크로 사용한다."
   ]
  },
  {
   "cell_type": "code",
   "execution_count": 12,
   "metadata": {},
   "outputs": [
    {
     "name": "stdout",
     "output_type": "stream",
     "text": [
      "length of text3:  51\n"
     ]
    },
    {
     "data": {
      "text/plain": [
       "['a b c d e f g h i j k l m n o p q r s t u v w x y z']"
      ]
     },
     "execution_count": 12,
     "metadata": {},
     "output_type": "execute_result"
    }
   ],
   "source": [
    "# Character Text Splitter\n",
    "print(\"length of text3: \", len(text3))\n",
    "c_splitter.split_text(text3)\n"
   ]
  },
  {
   "cell_type": "markdown",
   "metadata": {},
   "source": [
    "Separator를 space로 주게 되면 이를 분리자로해서 26개 chunk size 이내로 chunk를 분리한다."
   ]
  },
  {
   "cell_type": "code",
   "execution_count": 13,
   "metadata": {},
   "outputs": [
    {
     "data": {
      "text/plain": [
       "['a b c d e f g h i j k l m', 'l m n o p q r s t u v w x', 'w x y z']"
      ]
     },
     "execution_count": 13,
     "metadata": {},
     "output_type": "execute_result"
    }
   ],
   "source": [
    "c_splitter = CharacterTextSplitter(\n",
    "  chunk_size=chunk_size,\n",
    "  chunk_overlap=chunk_overlap,\n",
    "  separator=' '\n",
    ")\n",
    "c_splitter.split_text(text3)"
   ]
  },
  {
   "cell_type": "code",
   "execution_count": 14,
   "metadata": {},
   "outputs": [],
   "source": [
    "## 2. 실제 문장 이해하기"
   ]
  },
  {
   "cell_type": "code",
   "execution_count": 15,
   "metadata": {},
   "outputs": [
    {
     "name": "stdout",
     "output_type": "stream",
     "text": [
      "some_text:\n",
      "\n",
      " When writing documents, writers will use document structure to group content. This can convey to\n",
      "the reader, which idea's are related. For example, closely related ideas are in sentances. Similar\n",
      "ideas are in paragraphs. Paragraphs form a document.\n",
      "\n",
      " Paragraphs are often delimited with a carriage return or two carriage returns. Carriage returns are\n",
      "the \"backslash n\" you see embedded in this string. Sentences have a period at the end, but also,\n",
      "have a space.and words are separated by space.\n",
      "This is the last sentence\n",
      "\n",
      "len:  522\n"
     ]
    }
   ],
   "source": [
    "some_text = \"\"\"When writing documents, writers will use document structure to group content. \\\n",
    "This can convey to the reader, which idea's are related. For example, closely related ideas \\\n",
    "are in sentances. Similar ideas are in paragraphs. Paragraphs form a document. \\n\\n \\\n",
    "Paragraphs are often delimited with a carriage return or two carriage returns. \\\n",
    "Carriage returns are the \"backslash n\" you see embedded in this string. \\\n",
    "Sentences have a period at the end, but also, have a space.\\\n",
    "and words are separated by space. \\nThis is the last sentence\"\"\"\n",
    "\n",
    "print_ww(\"some_text: \\n\\n\", some_text)\n",
    "print(\"\\nlen: \", len(some_text))"
   ]
  },
  {
   "cell_type": "markdown",
   "metadata": {},
   "source": [
    "### RecursiveCharacterTextSplitter\n",
    "- 전체 글자수가 522인데, chunk_size=450이어서, 450글자 안에서 \"\\n\\n\", \"\\n\", \" \", \"\"의 순서대로 분리자를 선택해서 분절한다. 그래서\n",
    "paragraphs로 시작하는 곳에서 두번째 청크가 시작이 됨"
   ]
  },
  {
   "cell_type": "code",
   "execution_count": 18,
   "metadata": {},
   "outputs": [
    {
     "name": "stdout",
     "output_type": "stream",
     "text": [
      "len(docs):  2\n",
      "docs:  [\"When writing documents, writers will use document structure to group content. This can\n",
      "convey to the reader, which idea's are related. For example, closely related ideas are in sentances.\n",
      "Similar ideas are in paragraphs. Paragraphs form a document.\", 'Paragraphs are often delimited with\n",
      "a carriage return or two carriage returns. Carriage returns are the \"backslash n\" you see embedded\n",
      "in this string. Sentences have a period at the end, but also, have a space.and words are separated\n",
      "by space. \\nThis is the last sentence']\n"
     ]
    }
   ],
   "source": [
    "r_splitter = RecursiveCharacterTextSplitter(\n",
    "  chunk_size=450,\n",
    "  chunk_overlap=0,\n",
    "  separators=[\"\\n\\n\", \"\\n\", \" \", \"\"]\n",
    ")\n",
    "docs = r_splitter.split_text(some_text)\n",
    "print(\"len(docs): \", len(docs))\n",
    "print_ww(\"docs: \", docs)"
   ]
  },
  {
   "cell_type": "code",
   "execution_count": 19,
   "metadata": {},
   "outputs": [
    {
     "name": "stdout",
     "output_type": "stream",
     "text": [
      "len(docs):  2\n",
      "docs:  ['When writing documents, writers will use document structure to group content. This can\n",
      "convey to the reader, which idea\\'s are related. For example, closely related ideas are in\n",
      "sentances. Similar ideas are in paragraphs. Paragraphs form a document. \\n\\n Paragraphs are often\n",
      "delimited with a carriage return or two carriage returns. Carriage returns are the \"backslash n\" you\n",
      "see embedded in this string. Sentences have a period at the end, but also,', 'have a space.and words\n",
      "are separated by space. \\nThis is the last sentence']\n"
     ]
    }
   ],
   "source": [
    "c_splitter = CharacterTextSplitter(\n",
    "  chunk_size=450,\n",
    "  chunk_overlap=0,\n",
    "  separator=' '\n",
    ")\n",
    "docs = c_splitter.split_text(some_text)\n",
    "print(\"len(docs): \", len(docs))\n",
    "print_ww(\"docs: \", docs)"
   ]
  },
  {
   "cell_type": "markdown",
   "metadata": {},
   "source": [
    "## 3. 실제 긴 테스트 문서 (State of Union)로 이해하기"
   ]
  },
  {
   "cell_type": "code",
   "execution_count": 24,
   "metadata": {},
   "outputs": [],
   "source": [
    "# This is a logn document we can split up.\n",
    "with open('../data/state_of_the_union.txt') as f:\n",
    "  state_of_the_union = f.read()"
   ]
  },
  {
   "cell_type": "markdown",
   "metadata": {},
   "source": [
    "### RecursiveCharacterTextSpliter\n",
    "- chunk_size == 1000으로 분절, 1000 이내로 자르기 위해 \"\\n\\n\", \"\\n\", \" \", \"\" 순서 기준으로 먼저 오는 것을 분절하고, 다음 청크로 분리"
   ]
  },
  {
   "cell_type": "code",
   "execution_count": null,
   "metadata": {},
   "outputs": [],
   "source": [
    "text_splitter = RecursiveCharacterTextSplitter(\n",
    "  chunk_size=1000,\n",
    "  chunk_overlap=0,\n",
    "  separators=[\"\\n\\n\", \"\\n\", \" \", \"\"],\n",
    "  length_function=len,\n",
    "  is_separator_regex=False,\n",
    ")\n",
    "\n",
    "texts = text_splitter.create_documents([state_of_the_union])\n",
    "\n",
    "from utils.rag import show_context_used\n",
    "show_context_used(texts, limit=5)"
   ]
  },
  {
   "cell_type": "markdown",
   "metadata": {},
   "source": [
    "### CharacterTextSplitter\n",
    "- chunk_size = 500과 분리자를 space로 해서 분리"
   ]
  },
  {
   "cell_type": "code",
   "execution_count": null,
   "metadata": {},
   "outputs": [],
   "source": [
    "text_splitter = CharacterTextSplitter(\n",
    "  chunk_size=500,\n",
    "  chunk_overlap=0,\n",
    "  separator=' '\n",
    ")\n",
    "\n",
    "texts = text_splitter.create_documents([state_of_the_union])\n",
    "show_context_used(texts)"
   ]
  },
  {
   "cell_type": "code",
   "execution_count": null,
   "metadata": {},
   "outputs": [],
   "source": []
  }
 ],
 "metadata": {
  "kernelspec": {
   "display_name": "bedrock",
   "language": "python",
   "name": "python3"
  },
  "language_info": {
   "codemirror_mode": {
    "name": "ipython",
    "version": 3
   },
   "file_extension": ".py",
   "mimetype": "text/x-python",
   "name": "python",
   "nbconvert_exporter": "python",
   "pygments_lexer": "ipython3",
   "version": "3.10.13"
  }
 },
 "nbformat": 4,
 "nbformat_minor": 2
}
